{
  "nbformat": 4,
  "nbformat_minor": 0,
  "metadata": {
    "colab": {
      "name": "Copy of colab_ssh.ipynb",
      "provenance": []
    },
    "kernelspec": {
      "name": "python3",
      "display_name": "Python 3"
    },
    "accelerator": "GPU"
  },
  "cells": [
    {
      "cell_type": "code",
      "metadata": {
        "id": "1o1Ct4Oam8k1",
        "colab_type": "code",
        "colab": {}
      },
      "source": [
        "!pip install colab_ssh --upgrade"
      ],
      "execution_count": null,
      "outputs": []
    },
    {
      "cell_type": "code",
      "metadata": {
        "id": "o1sbk3XlfXCV",
        "colab_type": "code",
        "colab": {}
      },
      "source": [
        "from google.colab import files\n",
        "uploaded = files.upload()\n",
        "for key, value in uploaded.items():\n",
        "  filename = key\n",
        "data = next(iter(uploaded.values()))"
      ],
      "execution_count": null,
      "outputs": []
    },
    {
      "cell_type": "markdown",
      "metadata": {
        "id": "8VrW2WoGg0E9",
        "colab_type": "text"
      },
      "source": [
        "**NOTE**: You need to replace `dict['ngrok_token']` below with your own ngrok token. `password` is arbiturary."
      ]
    },
    {
      "cell_type": "code",
      "metadata": {
        "id": "OFMNHvy4hEa5",
        "colab_type": "code",
        "colab": {}
      },
      "source": [
        "import json\n",
        "dict = json.loads(data.decode())\n",
        "ngrokToken = dict['ngrok_token']\n",
        "password = dict['ngrok_pwd']"
      ],
      "execution_count": 3,
      "outputs": []
    },
    {
      "cell_type": "code",
      "metadata": {
        "id": "o7gDCNMyJQ4f",
        "colab_type": "code",
        "colab": {}
      },
      "source": [
        "from colab_ssh import launch_ssh, init_git\n",
        "launch_ssh(ngrokToken,password)"
      ],
      "execution_count": null,
      "outputs": []
    }
  ]
}