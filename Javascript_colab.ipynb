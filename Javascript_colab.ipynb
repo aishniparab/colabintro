{
  "nbformat": 4,
  "nbformat_minor": 0,
  "metadata": {
    "colab": {
      "name": "Copy of TFJS node.ipynb",
      "provenance": [],
      "collapsed_sections": []
    },
    "kernelspec": {
      "name": "javascript",
      "display_name": "Javascript"
    },
    "accelerator": "GPU"
  },
  "cells": [
    {
      "cell_type": "code",
      "metadata": {
        "id": "ZVkF16NwcMsZ",
        "colab_type": "code",
        "colab": {
          "base_uri": "https://localhost:8080/",
          "height": 238
        },
        "outputId": "d46b1b8b-fa31-479b-8309-5cd0dd80de50"
      },
      "source": [
        "#/* run this once, then reload, and then skip this\n",
        "!npm install -g --unsafe-perm ijavascript\n",
        "!ijsinstall --install=global  # as fake comment */"
      ],
      "execution_count": null,
      "outputs": [
        {
          "output_type": "stream",
          "text": [
            "\u001b[K\u001b[?25h/tools/node/bin/ijs -> /tools/node/lib/node_modules/ijavascript/bin/ijavascript.js\n",
            "/tools/node/bin/ijsconsole -> /tools/node/lib/node_modules/ijavascript/bin/ijsconsole.js\n",
            "/tools/node/bin/ijsinstall -> /tools/node/lib/node_modules/ijavascript/bin/ijsinstall.js\n",
            "/tools/node/bin/ijskernel -> /tools/node/lib/node_modules/ijavascript/lib/kernel.js\n",
            "/tools/node/bin/ijsnotebook -> /tools/node/lib/node_modules/ijavascript/bin/ijsnotebook.js\n",
            "\u001b[K\u001b[?25h\n",
            "> zeromq@5.2.0 install /tools/node/lib/node_modules/ijavascript/node_modules/zeromq\n",
            "> node scripts/prebuild-install.js || (node scripts/preinstall.js && node-gyp rebuild)\n",
            "\n",
            "\n",
            "\n",
            "+ ijavascript@5.2.0\n",
            "added 67 packages from 65 contributors in 9.1s\n"
          ],
          "name": "stdout"
        }
      ]
    },
    {
      "cell_type": "code",
      "metadata": {
        "id": "skqAs_UHc8_P",
        "colab_type": "code",
        "colab": {
          "base_uri": "https://localhost:8080/",
          "height": 306
        },
        "outputId": "d0f1106a-78eb-44d4-8a48-e9fa5fbc9428"
      },
      "source": [
        "// need this for running shell command\n",
        "var { spawn } = require('child_process');\n",
        "var sh = (cmd) => { \n",
        "    $$.async();\n",
        "    var sp = spawn(cmd, { cwd: process.cwd(), stdio: 'pipe', shell: true, encoding: 'utf-8' });\n",
        "    sp.stdout.on('data', data => console.log(data.toString()));\n",
        "    sp.stderr.on('data', data => console.error(data.toString()));\n",
        "    sp.on('close', () => $$.done());\n",
        "};\n",
        "sh('npm init -y');"
      ],
      "execution_count": 3,
      "outputs": [
        {
          "output_type": "stream",
          "text": [
            "Wrote to /content/package.json:\n",
            "\n",
            "{\n",
            "  \"name\": \"content\",\n",
            "  \"version\": \"1.0.0\",\n",
            "  \"description\": \"\",\n",
            "  \"main\": \"index.js\",\n",
            "  \"scripts\": {\n",
            "    \"test\": \"echo \\\"Error: no test specified\\\" && exit 1\"\n",
            "  },\n",
            "  \"keywords\": [],\n",
            "  \"author\": \"\",\n",
            "  \"license\": \"ISC\"\n",
            "}\n",
            "\n",
            "\n",
            "\n"
          ],
          "name": "stdout"
        }
      ]
    },
    {
      "cell_type": "code",
      "metadata": {
        "id": "FX9NhyWsU1BM",
        "colab_type": "code",
        "colab": {
          "base_uri": "https://localhost:8080/",
          "height": 34
        },
        "outputId": "15d7f61d-e618-4842-acd6-603df4df03c1"
      },
      "source": [
        "console.log(\"Hello World\")"
      ],
      "execution_count": 5,
      "outputs": [
        {
          "output_type": "stream",
          "text": [
            "Hello World\n"
          ],
          "name": "stdout"
        }
      ]
    },
    {
      "cell_type": "markdown",
      "metadata": {
        "id": "gJwhPZmZ1VdX",
        "colab_type": "text"
      },
      "source": [
        "# How to insert external JS into the Colab HTML page"
      ]
    },
    {
      "cell_type": "markdown",
      "metadata": {
        "id": "CxHgeSWZ1jzF",
        "colab_type": "text"
      },
      "source": [
        "According to the [page](https://stackoverflow.com/a/54282254):\n",
        "\n",
        "You need to put your JS file in here:\n",
        "\n",
        "```\n",
        "/usr/local/share/jupyter/nbextensions/google.colab/\n",
        "```\n",
        "\n",
        "Then it can be access through the path\n",
        "\n",
        "```\n",
        "/nbextensions/google.colab/\n",
        "```\n",
        "\n",
        "In your case, you need to copy your js file there:\n",
        "\n",
        "```\n",
        "!cp /content/drive/My\\ Drive/Colab\\ Notebooks/files/testJavascript.js \\\n",
        "    /usr/local/share/jupyter/nbextensions/google.colab/\n",
        "```\n",
        "\n",
        "Then change `dojs()` to be\n",
        "\n",
        "```\n",
        "@register_cell_magic\n",
        "def dojs(line, src):\n",
        "  return HTML(f\"\"\"\n",
        "  <canvas id=\"renderCanvas\" touch-action=\"none\" width=\"1280px\" height=\"720px\"></canvas> \n",
        "  <script src=\"/nbextensions/google.colab/testJavascript.js\"></script>\n",
        "  <script>\n",
        "  {src} \n",
        "  </script>\n",
        "  \"\"\")\n",
        "```"
      ]
    }
  ]
}