{
  "nbformat": 4,
  "nbformat_minor": 0,
  "metadata": {
    "colab": {
      "name": "Copy of 1_Colab_Utils.ipynb",
      "provenance": [],
      "collapsed_sections": [
        "lw8NsQe5chAx"
      ],
      "toc_visible": true
    },
    "kernelspec": {
      "name": "python3",
      "display_name": "Python 3"
    },
    "accelerator": "GPU"
  },
  "cells": [
    {
      "cell_type": "markdown",
      "metadata": {
        "id": "lAnO5Rg0bT48",
        "colab_type": "text"
      },
      "source": [
        "# Useful Routines for Collab"
      ]
    },
    {
      "cell_type": "markdown",
      "metadata": {
        "id": "VZHRSLNqh0Lo",
        "colab_type": "text"
      },
      "source": [
        "## Start Collab with requesting a free GPU from Google Cloud"
      ]
    },
    {
      "cell_type": "markdown",
      "metadata": {
        "id": "Jvemqlurh8tb",
        "colab_type": "text"
      },
      "source": [
        "    Edit -> Notebook settings -> Select GPU as Hardware accelerator\n",
        "\n",
        "**OR** \n",
        "\n",
        "1.   Google Drive -> New -> More -> Connect more apps -> Collaboratory\n",
        "2.   Google Drive -> New -> More -> Collaboratory\n",
        "3.   Runtime -> Interrupt execution\n",
        "4.   Runtime -> Change runtime type -> Select GPU as Hardware accelerator\n"
      ]
    },
    {
      "cell_type": "markdown",
      "metadata": {
        "id": "lw8NsQe5chAx",
        "colab_type": "text"
      },
      "source": [
        "## Check the resources obtained from Collab"
      ]
    },
    {
      "cell_type": "markdown",
      "metadata": {
        "id": "5ZehfQhFflDs",
        "colab_type": "text"
      },
      "source": [
        "Google colab is a free to use Jupyter notebook , that allows you to use free Tesla T4 GPU it also gives you a total of 12 GB of ram , and you can use it up to 12 hours in row"
      ]
    },
    {
      "cell_type": "code",
      "metadata": {
        "id": "pZXp0eQ8oLmk",
        "colab_type": "code",
        "colab": {
          "base_uri": "https://localhost:8080/",
          "height": 102
        },
        "outputId": "fc39840d-4076-4d5b-92fe-c9bbbd4904ae"
      },
      "source": [
        "!lsb_release -a"
      ],
      "execution_count": 1,
      "outputs": [
        {
          "output_type": "stream",
          "text": [
            "No LSB modules are available.\n",
            "Distributor ID:\tUbuntu\n",
            "Description:\tUbuntu 18.04.3 LTS\n",
            "Release:\t18.04\n",
            "Codename:\tbionic\n"
          ],
          "name": "stdout"
        }
      ]
    },
    {
      "cell_type": "code",
      "metadata": {
        "id": "U1csA-nlhVkW",
        "colab_type": "code",
        "colab": {
          "base_uri": "https://localhost:8080/",
          "height": 34
        },
        "outputId": "9487c9e9-de75-4c10-9e74-0e949b7925f0"
      },
      "source": [
        "!uname -r"
      ],
      "execution_count": 2,
      "outputs": [
        {
          "output_type": "stream",
          "text": [
            "4.19.112+\n"
          ],
          "name": "stdout"
        }
      ]
    },
    {
      "cell_type": "code",
      "metadata": {
        "id": "GC1-pLwNwX0Q",
        "colab_type": "code",
        "colab": {
          "base_uri": "https://localhost:8080/",
          "height": 85
        },
        "outputId": "45c3c79e-237f-4805-f3c8-f6ff2265296e"
      },
      "source": [
        "!lscpu | grep 'Model name'\n",
        "!lscpu | grep 'Socket(s):'\n",
        "!lscpu | grep 'Thread(s) per core'\n",
        "!lscpu | grep \"L3 cache\""
      ],
      "execution_count": 3,
      "outputs": [
        {
          "output_type": "stream",
          "text": [
            "Model name:          Intel(R) Xeon(R) CPU @ 2.20GHz\n",
            "Socket(s):           1\n",
            "Thread(s) per core:  2\n",
            "L3 cache:            56320K\n"
          ],
          "name": "stdout"
        }
      ]
    },
    {
      "cell_type": "code",
      "metadata": {
        "id": "HKop1c9_wems",
        "colab_type": "code",
        "colab": {
          "base_uri": "https://localhost:8080/",
          "height": 34
        },
        "outputId": "a04fa89b-bebb-4947-cd63-045d59e5e4ca"
      },
      "source": [
        "!cat /proc/meminfo | grep 'MemAvailable'"
      ],
      "execution_count": 4,
      "outputs": [
        {
          "output_type": "stream",
          "text": [
            "MemAvailable:   12500624 kB\n"
          ],
          "name": "stdout"
        }
      ]
    },
    {
      "cell_type": "code",
      "metadata": {
        "id": "2FUd42DCwqTi",
        "colab_type": "code",
        "colab": {
          "base_uri": "https://localhost:8080/",
          "height": 51
        },
        "outputId": "48ace641-a07b-4314-d0d5-a5342b9860e5"
      },
      "source": [
        "!df -h / | awk '{print $4}'"
      ],
      "execution_count": 5,
      "outputs": [
        {
          "output_type": "stream",
          "text": [
            "Avail\n",
            "35G\n"
          ],
          "name": "stdout"
        }
      ]
    },
    {
      "cell_type": "code",
      "metadata": {
        "id": "OwA37e8s6wUL",
        "colab_type": "code",
        "colab": {
          "base_uri": "https://localhost:8080/",
          "height": 357
        },
        "outputId": "fcfea9f9-45e9-4b62-97c7-c7bfcde29436"
      },
      "source": [
        "!nvidia-smi"
      ],
      "execution_count": 6,
      "outputs": [
        {
          "output_type": "stream",
          "text": [
            "Tue Aug 25 18:59:59 2020       \n",
            "+-----------------------------------------------------------------------------+\n",
            "| NVIDIA-SMI 450.57       Driver Version: 418.67       CUDA Version: 10.1     |\n",
            "|-------------------------------+----------------------+----------------------+\n",
            "| GPU  Name        Persistence-M| Bus-Id        Disp.A | Volatile Uncorr. ECC |\n",
            "| Fan  Temp  Perf  Pwr:Usage/Cap|         Memory-Usage | GPU-Util  Compute M. |\n",
            "|                               |                      |               MIG M. |\n",
            "|===============================+======================+======================|\n",
            "|   0  Tesla T4            Off  | 00000000:00:04.0 Off |                    0 |\n",
            "| N/A   59C    P8    12W /  70W |      0MiB / 15079MiB |      0%      Default |\n",
            "|                               |                      |                 ERR! |\n",
            "+-------------------------------+----------------------+----------------------+\n",
            "                                                                               \n",
            "+-----------------------------------------------------------------------------+\n",
            "| Processes:                                                                  |\n",
            "|  GPU   GI   CI        PID   Type   Process name                  GPU Memory |\n",
            "|        ID   ID                                                   Usage      |\n",
            "|=============================================================================|\n",
            "|  No running processes found                                                 |\n",
            "+-----------------------------------------------------------------------------+\n"
          ],
          "name": "stdout"
        }
      ]
    },
    {
      "cell_type": "code",
      "metadata": {
        "id": "su5jjc2rofL7",
        "colab_type": "code",
        "colab": {
          "base_uri": "https://localhost:8080/",
          "height": 35
        },
        "outputId": "624da058-bb4a-4bf2-8dbb-1dd11313f4a5"
      },
      "source": [
        "import tensorflow as tf\n",
        "tf.test.gpu_device_name()"
      ],
      "execution_count": 7,
      "outputs": [
        {
          "output_type": "execute_result",
          "data": {
            "application/vnd.google.colaboratory.intrinsic+json": {
              "type": "string"
            },
            "text/plain": [
              "'/device:GPU:0'"
            ]
          },
          "metadata": {
            "tags": []
          },
          "execution_count": 7
        }
      ]
    },
    {
      "cell_type": "code",
      "metadata": {
        "id": "OsegAco0ovpz",
        "colab_type": "code",
        "colab": {
          "base_uri": "https://localhost:8080/",
          "height": 476
        },
        "outputId": "9f5fee73-27ad-4317-e603-0108417fccf7"
      },
      "source": [
        "from tensorflow.python.client import device_lib\n",
        "device_lib.list_local_devices()"
      ],
      "execution_count": 8,
      "outputs": [
        {
          "output_type": "execute_result",
          "data": {
            "text/plain": [
              "[name: \"/device:CPU:0\"\n",
              " device_type: \"CPU\"\n",
              " memory_limit: 268435456\n",
              " locality {\n",
              " }\n",
              " incarnation: 4016046092117800208, name: \"/device:XLA_CPU:0\"\n",
              " device_type: \"XLA_CPU\"\n",
              " memory_limit: 17179869184\n",
              " locality {\n",
              " }\n",
              " incarnation: 15250168971738544731\n",
              " physical_device_desc: \"device: XLA_CPU device\", name: \"/device:XLA_GPU:0\"\n",
              " device_type: \"XLA_GPU\"\n",
              " memory_limit: 17179869184\n",
              " locality {\n",
              " }\n",
              " incarnation: 14428222118142294345\n",
              " physical_device_desc: \"device: XLA_GPU device\", name: \"/device:GPU:0\"\n",
              " device_type: \"GPU\"\n",
              " memory_limit: 14640891840\n",
              " locality {\n",
              "   bus_id: 1\n",
              "   links {\n",
              "   }\n",
              " }\n",
              " incarnation: 17991160572098780318\n",
              " physical_device_desc: \"device: 0, name: Tesla T4, pci bus id: 0000:00:04.0, compute capability: 7.5\"]"
            ]
          },
          "metadata": {
            "tags": []
          },
          "execution_count": 8
        }
      ]
    },
    {
      "cell_type": "markdown",
      "metadata": {
        "id": "z4QNJRwgquM-",
        "colab_type": "text"
      },
      "source": [
        "## Check the libs in Colab"
      ]
    },
    {
      "cell_type": "code",
      "metadata": {
        "id": "A9-haPL0q4oE",
        "colab_type": "code",
        "colab": {
          "base_uri": "https://localhost:8080/",
          "height": 51
        },
        "outputId": "7f51112e-7a8e-4e3c-8c85-a86eb75c4a70"
      },
      "source": [
        "import sys\n",
        "print('The python version is', sys.version)"
      ],
      "execution_count": 9,
      "outputs": [
        {
          "output_type": "stream",
          "text": [
            "The python version is 3.6.9 (default, Jul 17 2020, 12:50:27) \n",
            "[GCC 8.4.0]\n"
          ],
          "name": "stdout"
        }
      ]
    },
    {
      "cell_type": "code",
      "metadata": {
        "id": "9cNUqV2ErHKs",
        "colab_type": "code",
        "colab": {
          "base_uri": "https://localhost:8080/",
          "height": 34
        },
        "outputId": "60666cf0-6f7c-4877-b304-1eaee27cf308"
      },
      "source": [
        "import sklearn\n",
        "print('The scikit-learn version is {}.'.format(sklearn.__version__))"
      ],
      "execution_count": 10,
      "outputs": [
        {
          "output_type": "stream",
          "text": [
            "The scikit-learn version is 0.22.2.post1.\n"
          ],
          "name": "stdout"
        }
      ]
    },
    {
      "cell_type": "code",
      "metadata": {
        "id": "xfqEBOkgrTx4",
        "colab_type": "code",
        "colab": {}
      },
      "source": [
        "try:\n",
        "  # %tensorflow_version only exists in Colab.\n",
        "  %tensorflow_version 2.x\n",
        "except Exception:\n",
        "  pass"
      ],
      "execution_count": 11,
      "outputs": []
    },
    {
      "cell_type": "code",
      "metadata": {
        "id": "8SUPhkGzHn0G",
        "colab_type": "code",
        "colab": {
          "base_uri": "https://localhost:8080/",
          "height": 34
        },
        "outputId": "28884f38-0ae1-4b91-8842-2cbdaabc2aaa"
      },
      "source": [
        "import torch\n",
        "print('The PyTorch version is {}'.format(torch.__version__))"
      ],
      "execution_count": 12,
      "outputs": [
        {
          "output_type": "stream",
          "text": [
            "The PyTorch version is 1.6.0+cu101\n"
          ],
          "name": "stdout"
        }
      ]
    },
    {
      "cell_type": "code",
      "metadata": {
        "id": "xP3HEhLCHnyy",
        "colab_type": "code",
        "colab": {
          "base_uri": "https://localhost:8080/",
          "height": 34
        },
        "outputId": "9a2cb670-07d6-4331-bfde-35901f069659"
      },
      "source": [
        "device = torch.device(\"cuda:0\" if torch.cuda.is_available() else \"cpu\")\n",
        "print(device)"
      ],
      "execution_count": 13,
      "outputs": [
        {
          "output_type": "stream",
          "text": [
            "cuda:0\n"
          ],
          "name": "stdout"
        }
      ]
    },
    {
      "cell_type": "markdown",
      "metadata": {
        "id": "_koODdwsaRjG",
        "colab_type": "text"
      },
      "source": [
        "## Mounting Google Drive to Collab's /content/drive"
      ]
    },
    {
      "cell_type": "code",
      "metadata": {
        "id": "5KGcj6hvJeny",
        "colab_type": "code",
        "colab": {}
      },
      "source": [
        "from google.colab import drive\n",
        "drive.mount('/content/drive')"
      ],
      "execution_count": null,
      "outputs": []
    },
    {
      "cell_type": "markdown",
      "metadata": {
        "id": "aHd8so6h-hd2",
        "colab_type": "text"
      },
      "source": [
        "## Using Kaggle API for Google Colaboratory"
      ]
    },
    {
      "cell_type": "markdown",
      "metadata": {
        "id": "PaK7mN1zK371",
        "colab_type": "text"
      },
      "source": [
        "We need first to download the token from Kaggle:\n",
        "\n",
        "\n",
        "\n",
        "1.   Go to kaggle.com -> log in -> click \"my account\"\n",
        "2.   Scroll down to API and hit “Create New API Token.” It will prompt to download a file called **kaggle.json** to your local computer.\n",
        "\n"
      ]
    },
    {
      "cell_type": "code",
      "metadata": {
        "id": "AqUZt7l2Epk8",
        "colab_type": "code",
        "colab": {}
      },
      "source": [
        "from google.colab import files\n",
        "files.upload()"
      ],
      "execution_count": null,
      "outputs": []
    },
    {
      "cell_type": "code",
      "metadata": {
        "id": "Mmk-VxoJIzG4",
        "colab_type": "code",
        "colab": {}
      },
      "source": [
        "#!pip install -q kaggle\n",
        "!mkdir -p /root/.kaggle\n",
        "!cp kaggle.json /root/.kaggle\n",
        "!chmod 600 /root/.kaggle/kaggle.json\n",
        "!kaggle config set -n path -v{/content}"
      ],
      "execution_count": null,
      "outputs": []
    },
    {
      "cell_type": "code",
      "metadata": {
        "id": "r56Pu-HN_qkV",
        "colab_type": "code",
        "colab": {}
      },
      "source": [
        "!kaggle competitions list -s titanic"
      ],
      "execution_count": null,
      "outputs": []
    },
    {
      "cell_type": "code",
      "metadata": {
        "id": "KpuQNFZcDh-b",
        "colab_type": "code",
        "colab": {}
      },
      "source": [
        "!kaggle competitions download -c titanic -p /content"
      ],
      "execution_count": null,
      "outputs": []
    },
    {
      "cell_type": "markdown",
      "metadata": {
        "id": "KHY4D0jMbHum",
        "colab_type": "text"
      },
      "source": [
        "## Direct open a jupyter notebook with colab"
      ]
    },
    {
      "cell_type": "markdown",
      "metadata": {
        "id": "NzGdIoTzukq7",
        "colab_type": "text"
      },
      "source": [
        "\n",
        "\n",
        "1.   Change URL from \"https://github.com/...\" to \"https://colab.research.google.com/github/...\"\n",
        "2.   OR: just use the \"[Open in Colab](https://chrome.google.com/webstore/detail/open-in-colab/iogfkhleblhcpcekbiedikdehleodpjo)\" Chrome extension\n",
        "\n",
        "\n",
        "\n",
        "\n",
        "\n"
      ]
    },
    {
      "cell_type": "markdown",
      "metadata": {
        "id": "FwygoZDgdY4O",
        "colab_type": "text"
      },
      "source": [
        "\n",
        "---\n",
        "## References:\n",
        "\n",
        "[1] https://www.kdnuggets.com/2018/02/google-colab-free-gpu-tutorial-tensorflow-keras-pytorch.html\n",
        "\n",
        "[2] https://colab.research.google.com/github/googlecolab/colabtools/blob/master/notebooks/colab-github-demo.ipynb#scrollTo=K-NVg7RjyeTk"
      ]
    }
  ]
}