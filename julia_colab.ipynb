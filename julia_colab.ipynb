{
  "nbformat": 4,
  "nbformat_minor": 0,
  "metadata": {
    "colab": {
      "name": "julia_colab.ipynb",
      "provenance": []
    },
    "kernelspec": {
      "name": "julia-1.5",
      "display_name": "Julia 1.5"
    },
    "accelerator": "GPU"
  },
  "cells": [
    {
      "cell_type": "markdown",
      "metadata": {
        "id": "ARTVHXv7WE0I",
        "colab_type": "text"
      },
      "source": [
        "# Install Julia Kernel"
      ]
    },
    {
      "cell_type": "markdown",
      "metadata": {
        "id": "t2G_aiyHVKZs",
        "colab_type": "text"
      },
      "source": [
        "The installation and configuration below is based on the [youtube clip](https://www.youtube.com/watch?v=xpZo3L2dYTY). \n",
        "\n",
        "It will take less than 5 mins for every container instance."
      ]
    },
    {
      "cell_type": "markdown",
      "metadata": {
        "id": "PT5KspPGby3B",
        "colab_type": "text"
      },
      "source": [
        "## Embed json info"
      ]
    },
    {
      "cell_type": "markdown",
      "metadata": {
        "id": "RgAURKiZb3Fo",
        "colab_type": "text"
      },
      "source": [
        "You can either copy this ipynb file to your google drive and open it in colab to edit, or you can form a new colab file by uploading a local ipynb file with the contents below:\n",
        "\n",
        "\n",
        "\n",
        "```\n",
        "{\n",
        "  \"nbformat\": 4,\n",
        "  \"nbformat_minor\": 0,\n",
        "  \"metadata\": {\n",
        "    \"colab\": {\n",
        "      \"name\": \"Julia on Colab.ipynb\",\n",
        "      \"version\": \"0.3.2\",\n",
        "      \"provenance\": []\n",
        "    },\n",
        "    \"kernelspec\": {\n",
        "      \"name\": \"julia-1.5\",\n",
        "      \"display_name\": \"Julia 1.5\"\n",
        "    },\n",
        "    \"accelerator\": \"GPU\"\n",
        "  },\n",
        "  \"cells\": [\n",
        "    {\n",
        "      \"metadata\": {\n",
        "        \"id\": \"oMSuTc3pDlHv\",\n",
        "        \"colab_type\": \"code\",\n",
        "        \"colab\": {}\n",
        "      },\n",
        "      \"cell_type\": \"code\",\n",
        "      \"source\": [\n",
        "        \"\"\n",
        "      ],\n",
        "      \"execution_count\": 0,\n",
        "      \"outputs\": []\n",
        "    }\n",
        "  ]\n",
        "\n",
        "```\n",
        "\n"
      ]
    },
    {
      "cell_type": "markdown",
      "metadata": {
        "id": "ltBn_tguVgAh",
        "colab_type": "text"
      },
      "source": [
        "## Install Julia 1.5.0"
      ]
    },
    {
      "cell_type": "code",
      "metadata": {
        "id": "GpFZZonKVU46",
        "colab_type": "code",
        "colab": {}
      },
      "source": [
        "!curl -sSL \"https://julialang-s3.julialang.org/bin/linux/x64/1.5/julia-1.5.0-linux-x86_64.tar.gz\" -o julia.tar.gz\n"
      ],
      "execution_count": null,
      "outputs": []
    },
    {
      "cell_type": "code",
      "metadata": {
        "id": "7TRe3ymb1ld5",
        "colab_type": "code",
        "colab": {
          "base_uri": "https://localhost:8080/",
          "height": 1000
        },
        "outputId": "c573ff21-4aee-4e5e-cfc7-b2e85054a4d3"
      },
      "source": [
        "!tar -xzf julia.tar.gz -C /usr --strip-components 1\n",
        "!rm -rf julia.tar.gz*\n",
        "!julia -e 'using Pkg; pkg\"add IJulia; add CuArrays; add Flux; precompile\"'"
      ],
      "execution_count": null,
      "outputs": [
        {
          "output_type": "stream",
          "text": [
            "\u001b[32m\u001b[1m Installing\u001b[22m\u001b[39m known registries into `~/.julia`\n",
            "######################################################################## 100.0%\n",
            "\u001b[32m\u001b[1m      Added\u001b[22m\u001b[39m registry `General` to `~/.julia/registries/General`\n",
            "\u001b[32m\u001b[1m  Resolving\u001b[22m\u001b[39m package versions...\n",
            "\u001b[32m\u001b[1m  Installed\u001b[22m\u001b[39m ZeroMQ_jll ────── v4.3.2+4\n",
            "\u001b[32m\u001b[1m  Installed\u001b[22m\u001b[39m VersionParsing ── v1.2.0\n",
            "\u001b[32m\u001b[1m  Installed\u001b[22m\u001b[39m SoftGlobalScope ─ v1.1.0\n",
            "\u001b[32m\u001b[1m  Installed\u001b[22m\u001b[39m Conda ─────────── v1.4.1\n",
            "\u001b[32m\u001b[1m  Installed\u001b[22m\u001b[39m JSON ──────────── v0.21.0\n",
            "\u001b[32m\u001b[1m  Installed\u001b[22m\u001b[39m ZMQ ───────────── v1.2.1\n",
            "\u001b[32m\u001b[1m  Installed\u001b[22m\u001b[39m MbedTLS ───────── v1.0.2\n",
            "\u001b[32m\u001b[1m  Installed\u001b[22m\u001b[39m IJulia ────────── v1.21.3\n",
            "\u001b[32m\u001b[1m  Installed\u001b[22m\u001b[39m MbedTLS_jll ───── v2.16.6+1\n",
            "\u001b[32m\u001b[1m  Installed\u001b[22m\u001b[39m Parsers ───────── v1.0.10\n",
            "\u001b[32m\u001b[1mDownloading\u001b[22m\u001b[39m artifact: ZeroMQ\n",
            "######################################################################## 100.0%\n",
            "\u001b[1A\u001b[2K\u001b[?25h\u001b[32m\u001b[1mDownloading\u001b[22m\u001b[39m artifact: MbedTLS\n",
            "######################################################################## 100.0%\n",
            "\u001b[1A\u001b[2K\u001b[?25h\u001b[32m\u001b[1mUpdating\u001b[22m\u001b[39m `~/.julia/environments/v1.5/Project.toml`\n",
            " \u001b[90m [7073ff75] \u001b[39m\u001b[92m+ IJulia v1.21.3\u001b[39m\n",
            "\u001b[32m\u001b[1mUpdating\u001b[22m\u001b[39m `~/.julia/environments/v1.5/Manifest.toml`\n",
            " \u001b[90m [8f4d0f93] \u001b[39m\u001b[92m+ Conda v1.4.1\u001b[39m\n",
            " \u001b[90m [7073ff75] \u001b[39m\u001b[92m+ IJulia v1.21.3\u001b[39m\n",
            " \u001b[90m [682c06a0] \u001b[39m\u001b[92m+ JSON v0.21.0\u001b[39m\n",
            " \u001b[90m [739be429] \u001b[39m\u001b[92m+ MbedTLS v1.0.2\u001b[39m\n",
            " \u001b[90m [c8ffd9c3] \u001b[39m\u001b[92m+ MbedTLS_jll v2.16.6+1\u001b[39m\n",
            " \u001b[90m [69de0a69] \u001b[39m\u001b[92m+ Parsers v1.0.10\u001b[39m\n",
            " \u001b[90m [b85f4697] \u001b[39m\u001b[92m+ SoftGlobalScope v1.1.0\u001b[39m\n",
            " \u001b[90m [81def892] \u001b[39m\u001b[92m+ VersionParsing v1.2.0\u001b[39m\n",
            " \u001b[90m [c2297ded] \u001b[39m\u001b[92m+ ZMQ v1.2.1\u001b[39m\n",
            " \u001b[90m [8f1865be] \u001b[39m\u001b[92m+ ZeroMQ_jll v4.3.2+4\u001b[39m\n",
            " \u001b[90m [2a0f44e3] \u001b[39m\u001b[92m+ Base64\u001b[39m\n",
            " \u001b[90m [ade2ca70] \u001b[39m\u001b[92m+ Dates\u001b[39m\n",
            " \u001b[90m [8ba89e20] \u001b[39m\u001b[92m+ Distributed\u001b[39m\n",
            " \u001b[90m [7b1f6079] \u001b[39m\u001b[92m+ FileWatching\u001b[39m\n",
            " \u001b[90m [b77e0a4c] \u001b[39m\u001b[92m+ InteractiveUtils\u001b[39m\n",
            " \u001b[90m [76f85450] \u001b[39m\u001b[92m+ LibGit2\u001b[39m\n",
            " \u001b[90m [8f399da3] \u001b[39m\u001b[92m+ Libdl\u001b[39m\n",
            " \u001b[90m [56ddb016] \u001b[39m\u001b[92m+ Logging\u001b[39m\n",
            " \u001b[90m [d6f4376e] \u001b[39m\u001b[92m+ Markdown\u001b[39m\n",
            " \u001b[90m [a63ad114] \u001b[39m\u001b[92m+ Mmap\u001b[39m\n",
            " \u001b[90m [44cfe95a] \u001b[39m\u001b[92m+ Pkg\u001b[39m\n",
            " \u001b[90m [de0858da] \u001b[39m\u001b[92m+ Printf\u001b[39m\n",
            " \u001b[90m [3fa0cd96] \u001b[39m\u001b[92m+ REPL\u001b[39m\n",
            " \u001b[90m [9a3f8284] \u001b[39m\u001b[92m+ Random\u001b[39m\n",
            " \u001b[90m [ea8e919c] \u001b[39m\u001b[92m+ SHA\u001b[39m\n",
            " \u001b[90m [9e88b42a] \u001b[39m\u001b[92m+ Serialization\u001b[39m\n",
            " \u001b[90m [6462fe0b] \u001b[39m\u001b[92m+ Sockets\u001b[39m\n",
            " \u001b[90m [8dfed614] \u001b[39m\u001b[92m+ Test\u001b[39m\n",
            " \u001b[90m [cf7118a7] \u001b[39m\u001b[92m+ UUIDs\u001b[39m\n",
            " \u001b[90m [4ec0a83e] \u001b[39m\u001b[92m+ Unicode\u001b[39m\n",
            "\u001b[32m\u001b[1m   Building\u001b[22m\u001b[39m Conda ─→ `~/.julia/packages/Conda/3rPhK/deps/build.log`\n",
            "\u001b[32m\u001b[1m   Building\u001b[22m\u001b[39m IJulia → `~/.julia/packages/IJulia/tOM8L/deps/build.log`\n",
            "\u001b[32m\u001b[1m  Resolving\u001b[22m\u001b[39m package versions...\n",
            "\u001b[32m\u001b[1m  Installed\u001b[22m\u001b[39m Adapt ────────────── v1.1.0\n",
            "\u001b[32m\u001b[1m  Installed\u001b[22m\u001b[39m Requires ─────────── v1.0.1\n",
            "\u001b[32m\u001b[1m  Installed\u001b[22m\u001b[39m CodeTracking ─────── v1.0.0\n",
            "\u001b[32m\u001b[1m  Installed\u001b[22m\u001b[39m OrderedCollections ─ v1.3.0\n",
            "\u001b[32m\u001b[1m  Installed\u001b[22m\u001b[39m AbstractTrees ────── v0.3.3\n",
            "\u001b[32m\u001b[1m  Installed\u001b[22m\u001b[39m NNlib ────────────── v0.7.4\n",
            "\u001b[32m\u001b[1m  Installed\u001b[22m\u001b[39m GPUArrays ────────── v3.4.1\n",
            "\u001b[32m\u001b[1m  Installed\u001b[22m\u001b[39m CuArrays ─────────── v2.2.2\n",
            "\u001b[32m\u001b[1m  Installed\u001b[22m\u001b[39m TimerOutputs ─────── v0.5.6\n",
            "\u001b[32m\u001b[1m  Installed\u001b[22m\u001b[39m LLVM ─────────────── v1.7.0\n",
            "\u001b[32m\u001b[1m  Installed\u001b[22m\u001b[39m Reexport ─────────── v0.2.0\n",
            "\u001b[32m\u001b[1m  Installed\u001b[22m\u001b[39m CUDAapi ──────────── v4.0.0\n",
            "\u001b[32m\u001b[1m  Installed\u001b[22m\u001b[39m CEnum ────────────── v0.3.0\n",
            "\u001b[32m\u001b[1m  Installed\u001b[22m\u001b[39m DataStructures ───── v0.17.20\n",
            "\u001b[32m\u001b[1m  Installed\u001b[22m\u001b[39m CUDAdrv ──────────── v6.3.0\n",
            "\u001b[32m\u001b[1m  Installed\u001b[22m\u001b[39m MacroTools ───────── v0.5.5\n",
            "\u001b[32m\u001b[1m  Installed\u001b[22m\u001b[39m CUDAnative ───────── v3.2.0\n",
            "\u001b[32m\u001b[1m  Installed\u001b[22m\u001b[39m GPUCompiler ──────── v0.2.0\n",
            "\u001b[32m\u001b[1m  Installed\u001b[22m\u001b[39m Cthulhu ──────────── v1.2.2\n",
            "\u001b[32m\u001b[1m  Installed\u001b[22m\u001b[39m FoldingTrees ─────── v1.0.1\n",
            "\u001b[32m\u001b[1m  Installed\u001b[22m\u001b[39m AbstractFFTs ─────── v0.5.0\n",
            "\u001b[32m\u001b[1m  Installed\u001b[22m\u001b[39m ExprTools ────────── v0.1.1\n",
            "\u001b[32m\u001b[1m  Installed\u001b[22m\u001b[39m BinaryProvider ───── v0.5.10\n",
            "\u001b[32m\u001b[1mUpdating\u001b[22m\u001b[39m `~/.julia/environments/v1.5/Project.toml`\n",
            " \u001b[90m [3a865a2d] \u001b[39m\u001b[92m+ CuArrays v2.2.2\u001b[39m\n",
            "\u001b[32m\u001b[1mUpdating\u001b[22m\u001b[39m `~/.julia/environments/v1.5/Manifest.toml`\n",
            " \u001b[90m [621f4979] \u001b[39m\u001b[92m+ AbstractFFTs v0.5.0\u001b[39m\n",
            " \u001b[90m [1520ce14] \u001b[39m\u001b[92m+ AbstractTrees v0.3.3\u001b[39m\n",
            " \u001b[90m [79e6a3ab] \u001b[39m\u001b[92m+ Adapt v1.1.0\u001b[39m\n",
            " \u001b[90m [b99e7846] \u001b[39m\u001b[92m+ BinaryProvider v0.5.10\u001b[39m\n",
            " \u001b[90m [fa961155] \u001b[39m\u001b[92m+ CEnum v0.3.0\u001b[39m\n",
            " \u001b[90m [3895d2a7] \u001b[39m\u001b[92m+ CUDAapi v4.0.0\u001b[39m\n",
            " \u001b[90m [c5f51814] \u001b[39m\u001b[92m+ CUDAdrv v6.3.0\u001b[39m\n",
            " \u001b[90m [be33ccc6] \u001b[39m\u001b[92m+ CUDAnative v3.2.0\u001b[39m\n",
            " \u001b[90m [da1fd8a2] \u001b[39m\u001b[92m+ CodeTracking v1.0.0\u001b[39m\n",
            " \u001b[90m [f68482b8] \u001b[39m\u001b[92m+ Cthulhu v1.2.2\u001b[39m\n",
            " \u001b[90m [3a865a2d] \u001b[39m\u001b[92m+ CuArrays v2.2.2\u001b[39m\n",
            " \u001b[90m [864edb3b] \u001b[39m\u001b[92m+ DataStructures v0.17.20\u001b[39m\n",
            " \u001b[90m [e2ba6199] \u001b[39m\u001b[92m+ ExprTools v0.1.1\u001b[39m\n",
            " \u001b[90m [1eca21be] \u001b[39m\u001b[92m+ FoldingTrees v1.0.1\u001b[39m\n",
            " \u001b[90m [0c68f7d7] \u001b[39m\u001b[92m+ GPUArrays v3.4.1\u001b[39m\n",
            " \u001b[90m [61eb1bfa] \u001b[39m\u001b[92m+ GPUCompiler v0.2.0\u001b[39m\n",
            " \u001b[90m [929cbde3] \u001b[39m\u001b[92m+ LLVM v1.7.0\u001b[39m\n",
            " \u001b[90m [1914dd2f] \u001b[39m\u001b[92m+ MacroTools v0.5.5\u001b[39m\n",
            " \u001b[90m [872c559c] \u001b[39m\u001b[92m+ NNlib v0.7.4\u001b[39m\n",
            " \u001b[90m [bac558e1] \u001b[39m\u001b[92m+ OrderedCollections v1.3.0\u001b[39m\n",
            " \u001b[90m [189a3867] \u001b[39m\u001b[92m+ Reexport v0.2.0\u001b[39m\n",
            " \u001b[90m [ae029012] \u001b[39m\u001b[92m+ Requires v1.0.1\u001b[39m\n",
            " \u001b[90m [a759f4b9] \u001b[39m\u001b[92m+ TimerOutputs v0.5.6\u001b[39m\n",
            " \u001b[90m [37e2e46d] \u001b[39m\u001b[92m+ LinearAlgebra\u001b[39m\n",
            " \u001b[90m [2f01184e] \u001b[39m\u001b[92m+ SparseArrays\u001b[39m\n",
            " \u001b[90m [10745b16] \u001b[39m\u001b[92m+ Statistics\u001b[39m\n",
            "\u001b[32m\u001b[1m  Resolving\u001b[22m\u001b[39m package versions...\n",
            "\u001b[32m\u001b[1m  Installed\u001b[22m\u001b[39m ForwardDiff ────────────────── v0.10.12\n",
            "\u001b[32m\u001b[1m  Installed\u001b[22m\u001b[39m DiffResults ────────────────── v1.0.2\n",
            "\u001b[32m\u001b[1m  Installed\u001b[22m\u001b[39m Media ──────────────────────── v0.5.0\n",
            "\u001b[32m\u001b[1m  Installed\u001b[22m\u001b[39m SpecialFunctions ───────────── v0.10.3\n",
            "\u001b[32m\u001b[1m  Installed\u001b[22m\u001b[39m Juno ───────────────────────── v0.8.3\n",
            "\u001b[32m\u001b[1m  Installed\u001b[22m\u001b[39m Flux ───────────────────────── v0.8.3\n",
            "\u001b[32m\u001b[1m  Installed\u001b[22m\u001b[39m CommonSubexpressions ───────── v0.3.0\n",
            "\u001b[32m\u001b[1m  Installed\u001b[22m\u001b[39m StaticArrays ───────────────── v0.12.4\n",
            "\u001b[32m\u001b[1m  Installed\u001b[22m\u001b[39m Missings ───────────────────── v0.4.3\n",
            "\u001b[32m\u001b[1m  Installed\u001b[22m\u001b[39m Tracker ────────────────────── v0.2.11\n",
            "\u001b[32m\u001b[1m  Installed\u001b[22m\u001b[39m NaNMath ────────────────────── v0.3.4\n",
            "\u001b[32m\u001b[1m  Installed\u001b[22m\u001b[39m CompilerSupportLibraries_jll ─ v0.3.3+0\n",
            "\u001b[32m\u001b[1m  Installed\u001b[22m\u001b[39m StatsBase ──────────────────── v0.33.0\n",
            "\u001b[32m\u001b[1m  Installed\u001b[22m\u001b[39m DataAPI ────────────────────── v1.3.0\n",
            "\u001b[32m\u001b[1m  Installed\u001b[22m\u001b[39m FixedPointNumbers ──────────── v0.8.4\n",
            "\u001b[32m\u001b[1m  Installed\u001b[22m\u001b[39m DiffRules ──────────────────── v1.0.1\n",
            "\u001b[32m\u001b[1m  Installed\u001b[22m\u001b[39m Colors ─────────────────────── v0.12.4\n",
            "\u001b[32m\u001b[1m  Installed\u001b[22m\u001b[39m ZipFile ────────────────────── v0.9.2\n",
            "\u001b[32m\u001b[1m  Installed\u001b[22m\u001b[39m OpenSpecFun_jll ────────────── v0.5.3+3\n",
            "\u001b[32m\u001b[1m  Installed\u001b[22m\u001b[39m SortingAlgorithms ──────────── v0.3.1\n",
            "\u001b[32m\u001b[1m  Installed\u001b[22m\u001b[39m CodecZlib ──────────────────── v0.7.0\n",
            "\u001b[32m\u001b[1m  Installed\u001b[22m\u001b[39m ColorTypes ─────────────────── v0.10.8\n",
            "\u001b[32m\u001b[1m  Installed\u001b[22m\u001b[39m Zlib_jll ───────────────────── v1.2.11+15\n",
            "\u001b[32m\u001b[1m  Installed\u001b[22m\u001b[39m TranscodingStreams ─────────── v0.9.5\n",
            "\u001b[32m\u001b[1mDownloading\u001b[22m\u001b[39m artifact: CompilerSupportLibraries\n",
            "######################################################################## 100.0%\n",
            "\u001b[1A\u001b[2K\u001b[?25h\u001b[32m\u001b[1mDownloading\u001b[22m\u001b[39m artifact: OpenSpecFun\n",
            "######################################################################## 100.0%\n",
            "\u001b[1A\u001b[2K\u001b[?25h\u001b[32m\u001b[1mDownloading\u001b[22m\u001b[39m artifact: Zlib\n",
            "######################################################################## 100.0%\n",
            "\u001b[1A\u001b[2K\u001b[?25h\u001b[32m\u001b[1mUpdating\u001b[22m\u001b[39m `~/.julia/environments/v1.5/Project.toml`\n",
            " \u001b[90m [587475ba] \u001b[39m\u001b[92m+ Flux v0.8.3\u001b[39m\n",
            "\u001b[32m\u001b[1mUpdating\u001b[22m\u001b[39m `~/.julia/environments/v1.5/Manifest.toml`\n",
            " \u001b[90m [944b1d66] \u001b[39m\u001b[92m+ CodecZlib v0.7.0\u001b[39m\n",
            " \u001b[90m [3da002f7] \u001b[39m\u001b[92m+ ColorTypes v0.10.8\u001b[39m\n",
            " \u001b[90m [5ae59095] \u001b[39m\u001b[92m+ Colors v0.12.4\u001b[39m\n",
            " \u001b[90m [bbf7d656] \u001b[39m\u001b[92m+ CommonSubexpressions v0.3.0\u001b[39m\n",
            " \u001b[90m [e66e0078] \u001b[39m\u001b[92m+ CompilerSupportLibraries_jll v0.3.3+0\u001b[39m\n",
            " \u001b[90m [9a962f9c] \u001b[39m\u001b[92m+ DataAPI v1.3.0\u001b[39m\n",
            " \u001b[90m [163ba53b] \u001b[39m\u001b[92m+ DiffResults v1.0.2\u001b[39m\n",
            " \u001b[90m [b552c78f] \u001b[39m\u001b[92m+ DiffRules v1.0.1\u001b[39m\n",
            " \u001b[90m [53c48c17] \u001b[39m\u001b[92m+ FixedPointNumbers v0.8.4\u001b[39m\n",
            " \u001b[90m [587475ba] \u001b[39m\u001b[92m+ Flux v0.8.3\u001b[39m\n",
            " \u001b[90m [f6369f11] \u001b[39m\u001b[92m+ ForwardDiff v0.10.12\u001b[39m\n",
            " \u001b[90m [e5e0dc1b] \u001b[39m\u001b[92m+ Juno v0.8.3\u001b[39m\n",
            " \u001b[90m [e89f7d12] \u001b[39m\u001b[92m+ Media v0.5.0\u001b[39m\n",
            " \u001b[90m [e1d29d7a] \u001b[39m\u001b[92m+ Missings v0.4.3\u001b[39m\n",
            " \u001b[90m [77ba4419] \u001b[39m\u001b[92m+ NaNMath v0.3.4\u001b[39m\n",
            " \u001b[90m [efe28fd5] \u001b[39m\u001b[92m+ OpenSpecFun_jll v0.5.3+3\u001b[39m\n",
            " \u001b[90m [a2af1166] \u001b[39m\u001b[92m+ SortingAlgorithms v0.3.1\u001b[39m\n",
            " \u001b[90m [276daf66] \u001b[39m\u001b[92m+ SpecialFunctions v0.10.3\u001b[39m\n",
            " \u001b[90m [90137ffa] \u001b[39m\u001b[92m+ StaticArrays v0.12.4\u001b[39m\n",
            " \u001b[90m [2913bbd2] \u001b[39m\u001b[92m+ StatsBase v0.33.0\u001b[39m\n",
            " \u001b[90m [9f7883ad] \u001b[39m\u001b[92m+ Tracker v0.2.11\u001b[39m\n",
            " \u001b[90m [3bb67fe8] \u001b[39m\u001b[92m+ TranscodingStreams v0.9.5\u001b[39m\n",
            " \u001b[90m [a5390f91] \u001b[39m\u001b[92m+ ZipFile v0.9.2\u001b[39m\n",
            " \u001b[90m [83775a58] \u001b[39m\u001b[92m+ Zlib_jll v1.2.11+15\u001b[39m\n",
            " \u001b[90m [8bb1440f] \u001b[39m\u001b[92m+ DelimitedFiles\u001b[39m\n",
            " \u001b[90m [9abbd945] \u001b[39m\u001b[92m+ Profile\u001b[39m\n",
            "\u001b[32m\u001b[1mPrecompiling\u001b[22m\u001b[39m project...\n"
          ],
          "name": "stdout"
        }
      ]
    },
    {
      "cell_type": "markdown",
      "metadata": {
        "id": "x1EVl0jFVka5",
        "colab_type": "text"
      },
      "source": [
        "\n",
        "## 4. Remember to Set Notebook\n",
        "\n",
        "Edit -> Notebook settings -> Julia 1.2.0 -> Save\n",
        "\n",
        "If it's all done, just simply \"Reload\" the page to start the work!"
      ]
    },
    {
      "cell_type": "code",
      "metadata": {
        "id": "kFvZ7riq0lan",
        "colab_type": "code",
        "colab": {
          "base_uri": "https://localhost:8080/",
          "height": 136
        },
        "outputId": "fb02f937-aa44-4a54-9583-f85e071ad1ca"
      },
      "source": [
        "run(`jupyter kernelspec list`)"
      ],
      "execution_count": 11,
      "outputs": [
        {
          "output_type": "stream",
          "text": [
            "Available kernels:\n",
            "  julia-1.5    /root/.local/share/jupyter/kernels/julia-1.5\n",
            "  ir           /usr/local/share/jupyter/kernels/ir\n",
            "  python2      /usr/local/share/jupyter/kernels/python2\n",
            "  python3      /usr/local/share/jupyter/kernels/python3\n",
            "  swift        /usr/local/share/jupyter/kernels/swift\n"
          ],
          "name": "stdout"
        },
        {
          "output_type": "execute_result",
          "data": {
            "text/plain": [
              "Process(`\u001b[4mjupyter\u001b[24m \u001b[4mkernelspec\u001b[24m \u001b[4mlist\u001b[24m`, ProcessExited(0))"
            ]
          },
          "metadata": {
            "tags": []
          },
          "execution_count": 11
        }
      ]
    },
    {
      "cell_type": "markdown",
      "metadata": {
        "id": "f5IpOYRBWAmv",
        "colab_type": "text"
      },
      "source": [
        "# Try Julia"
      ]
    },
    {
      "cell_type": "code",
      "metadata": {
        "id": "7VHGQ-DYWp7F",
        "colab_type": "code",
        "colab": {
          "base_uri": "https://localhost:8080/",
          "height": 85
        },
        "outputId": "505cdfd5-9493-42a0-f9c2-73c8b0a64a6f"
      },
      "source": [
        "[1, 2, 3]"
      ],
      "execution_count": 2,
      "outputs": [
        {
          "output_type": "execute_result",
          "data": {
            "text/plain": [
              "3-element Array{Int64,1}:\n",
              " 1\n",
              " 2\n",
              " 3"
            ]
          },
          "metadata": {
            "tags": []
          },
          "execution_count": 2
        }
      ]
    },
    {
      "cell_type": "code",
      "metadata": {
        "id": "FyWJGBrMV7TY",
        "colab_type": "code",
        "colab": {}
      },
      "source": [
        "using LinearAlgebra"
      ],
      "execution_count": 5,
      "outputs": []
    },
    {
      "cell_type": "code",
      "metadata": {
        "id": "3walzutVWVjY",
        "colab_type": "code",
        "colab": {
          "base_uri": "https://localhost:8080/",
          "height": 204
        },
        "outputId": "85c51450-cc25-4850-aea3-8fd9fd487a1e"
      },
      "source": [
        "[i + j for i in 1:10, j in 1:10]"
      ],
      "execution_count": 6,
      "outputs": [
        {
          "output_type": "execute_result",
          "data": {
            "text/plain": [
              "10×10 Array{Int64,2}:\n",
              "  2   3   4   5   6   7   8   9  10  11\n",
              "  3   4   5   6   7   8   9  10  11  12\n",
              "  4   5   6   7   8   9  10  11  12  13\n",
              "  5   6   7   8   9  10  11  12  13  14\n",
              "  6   7   8   9  10  11  12  13  14  15\n",
              "  7   8   9  10  11  12  13  14  15  16\n",
              "  8   9  10  11  12  13  14  15  16  17\n",
              "  9  10  11  12  13  14  15  16  17  18\n",
              " 10  11  12  13  14  15  16  17  18  19\n",
              " 11  12  13  14  15  16  17  18  19  20"
            ]
          },
          "metadata": {
            "tags": []
          },
          "execution_count": 6
        }
      ]
    },
    {
      "cell_type": "code",
      "metadata": {
        "id": "kF01dUme4_R-",
        "colab_type": "code",
        "colab": {
          "base_uri": "https://localhost:8080/",
          "height": 119
        },
        "outputId": "38bdda4c-4fc1-4c90-ffa8-3fb83aebca4b"
      },
      "source": [
        "import Pkg; Pkg.add(\"BenchmarkTools\")"
      ],
      "execution_count": 13,
      "outputs": [
        {
          "output_type": "stream",
          "text": [
            "\u001b[32m\u001b[1m  Resolving\u001b[22m\u001b[39m package versions...\n",
            "\u001b[32m\u001b[1m  Installed\u001b[22m\u001b[39m BenchmarkTools ─ v0.5.0\n",
            "\u001b[32m\u001b[1mUpdating\u001b[22m\u001b[39m `~/.julia/environments/v1.5/Project.toml`\n",
            " \u001b[90m [6e4b80f9] \u001b[39m\u001b[92m+ BenchmarkTools v0.5.0\u001b[39m\n",
            "\u001b[32m\u001b[1mUpdating\u001b[22m\u001b[39m `~/.julia/environments/v1.5/Manifest.toml`\n",
            " \u001b[90m [6e4b80f9] \u001b[39m\u001b[92m+ BenchmarkTools v0.5.0\u001b[39m\n"
          ],
          "name": "stderr"
        }
      ]
    },
    {
      "cell_type": "code",
      "metadata": {
        "id": "4lgwBSdX4xLj",
        "colab_type": "code",
        "colab": {
          "base_uri": "https://localhost:8080/",
          "height": 51
        },
        "outputId": "aafc60cf-167c-413d-d261-643539dbb662"
      },
      "source": [
        "using BenchmarkTools"
      ],
      "execution_count": 14,
      "outputs": [
        {
          "output_type": "stream",
          "text": [
            "┌ Info: Precompiling BenchmarkTools [6e4b80f9-dd63-53aa-95a3-0cdb28fa8baf]\n",
            "└ @ Base loading.jl:1278\n"
          ],
          "name": "stderr"
        }
      ]
    },
    {
      "cell_type": "code",
      "metadata": {
        "id": "dEctr4dl4xKR",
        "colab_type": "code",
        "colab": {}
      },
      "source": [
        "A = randn(16,12);\n",
        "B = randn(12,12);\n",
        "C = similar(A);"
      ],
      "execution_count": 15,
      "outputs": []
    },
    {
      "cell_type": "code",
      "metadata": {
        "id": "-dAQkMX45P5j",
        "colab_type": "code",
        "colab": {
          "base_uri": "https://localhost:8080/",
          "height": 323
        },
        "outputId": "68a39e35-6de2-4ca0-f508-16528d1e5174"
      },
      "source": [
        "@btime $A * $B"
      ],
      "execution_count": 16,
      "outputs": [
        {
          "output_type": "stream",
          "text": [
            "  560.382 ns (1 allocation: 1.59 KiB)\n"
          ],
          "name": "stdout"
        },
        {
          "output_type": "execute_result",
          "data": {
            "text/plain": [
              "16×12 Array{Float64,2}:\n",
              " -0.194117   2.39345    4.86335   …  -1.29753     1.38363    1.52315\n",
              "  2.39482   -1.70033   -2.05283       3.70923    -3.71085    0.17487\n",
              "  0.602536  -2.16023   -4.05952       1.53562    -0.324006  -3.76163\n",
              "  5.6745    -1.54686   -0.537608     -1.34814     1.50421   -0.242364\n",
              "  0.316683   4.02558   -5.37268       1.07808    -0.758559   1.78882\n",
              "  5.13245    0.769973   2.80437   …  -6.48464     0.561774  -0.125147\n",
              "  3.97824    1.24495    2.67309      -0.0262791  -1.42127   -1.00426\n",
              "  3.63301    0.631183  -0.728933     -2.58159     1.36567    0.179317\n",
              "  4.16435   -2.07366    1.50857       2.54055    -0.704628   0.353212\n",
              "  2.59962   -5.20341    3.41204      -3.99097     0.683931   3.01973\n",
              "  4.96995   -9.67535    1.64416   …  -2.3376      2.21523   -0.271345\n",
              "  0.99131   -3.6273     3.3015       -2.82552     5.61384   -0.699302\n",
              " -3.85542    1.97493    9.50501      -5.67499    -1.87753    3.63131\n",
              " -0.237623  -1.47301    2.84893      -1.16416    -1.63278   -2.27148\n",
              " -1.47141    1.17309    3.70464       0.492987    2.52237    1.19916\n",
              " -5.03561   -1.09715    3.01994   …   2.6393     -7.02751   -3.21895"
            ]
          },
          "metadata": {
            "tags": []
          },
          "execution_count": 16
        }
      ]
    },
    {
      "cell_type": "code",
      "metadata": {
        "id": "alKkOFrf5RgT",
        "colab_type": "code",
        "colab": {
          "base_uri": "https://localhost:8080/",
          "height": 323
        },
        "outputId": "72083dc9-20a5-45a3-f361-c1afc73712e1"
      },
      "source": [
        "@btime mul!($C, $A, $B)"
      ],
      "execution_count": 17,
      "outputs": [
        {
          "output_type": "stream",
          "text": [
            "  429.598 ns (0 allocations: 0 bytes)\n"
          ],
          "name": "stdout"
        },
        {
          "output_type": "execute_result",
          "data": {
            "text/plain": [
              "16×12 Array{Float64,2}:\n",
              " -0.194117   2.39345    4.86335   …  -1.29753     1.38363    1.52315\n",
              "  2.39482   -1.70033   -2.05283       3.70923    -3.71085    0.17487\n",
              "  0.602536  -2.16023   -4.05952       1.53562    -0.324006  -3.76163\n",
              "  5.6745    -1.54686   -0.537608     -1.34814     1.50421   -0.242364\n",
              "  0.316683   4.02558   -5.37268       1.07808    -0.758559   1.78882\n",
              "  5.13245    0.769973   2.80437   …  -6.48464     0.561774  -0.125147\n",
              "  3.97824    1.24495    2.67309      -0.0262791  -1.42127   -1.00426\n",
              "  3.63301    0.631183  -0.728933     -2.58159     1.36567    0.179317\n",
              "  4.16435   -2.07366    1.50857       2.54055    -0.704628   0.353212\n",
              "  2.59962   -5.20341    3.41204      -3.99097     0.683931   3.01973\n",
              "  4.96995   -9.67535    1.64416   …  -2.3376      2.21523   -0.271345\n",
              "  0.99131   -3.6273     3.3015       -2.82552     5.61384   -0.699302\n",
              " -3.85542    1.97493    9.50501      -5.67499    -1.87753    3.63131\n",
              " -0.237623  -1.47301    2.84893      -1.16416    -1.63278   -2.27148\n",
              " -1.47141    1.17309    3.70464       0.492987    2.52237    1.19916\n",
              " -5.03561   -1.09715    3.01994   …   2.6393     -7.02751   -3.21895"
            ]
          },
          "metadata": {
            "tags": []
          },
          "execution_count": 17
        }
      ]
    },
    {
      "cell_type": "code",
      "metadata": {
        "id": "UMnOkRBk5b_C",
        "colab_type": "code",
        "colab": {
          "base_uri": "https://localhost:8080/",
          "height": 204
        },
        "outputId": "e89d464c-4b6f-48a3-b7e2-da2f77862bb6"
      },
      "source": [
        "@benchmark $A * $B"
      ],
      "execution_count": 18,
      "outputs": [
        {
          "output_type": "execute_result",
          "data": {
            "text/plain": [
              "BenchmarkTools.Trial: \n",
              "  memory estimate:  1.59 KiB\n",
              "  allocs estimate:  1\n",
              "  --------------\n",
              "  minimum time:     558.979 ns (0.00% GC)\n",
              "  median time:      764.690 ns (0.00% GC)\n",
              "  mean time:        832.919 ns (4.82% GC)\n",
              "  maximum time:     9.421 μs (87.84% GC)\n",
              "  --------------\n",
              "  samples:          10000\n",
              "  evals/sample:     187"
            ]
          },
          "metadata": {
            "tags": []
          },
          "execution_count": 18
        }
      ]
    },
    {
      "cell_type": "code",
      "metadata": {
        "id": "32cRqgGi5gW5",
        "colab_type": "code",
        "colab": {
          "base_uri": "https://localhost:8080/",
          "height": 204
        },
        "outputId": "ecbdeaaa-9e3b-4dd0-bd4b-1fdd15e95f4b"
      },
      "source": [
        "@benchmark mul!($C, $A, $B)"
      ],
      "execution_count": 19,
      "outputs": [
        {
          "output_type": "execute_result",
          "data": {
            "text/plain": [
              "BenchmarkTools.Trial: \n",
              "  memory estimate:  0 bytes\n",
              "  allocs estimate:  0\n",
              "  --------------\n",
              "  minimum time:     427.668 ns (0.00% GC)\n",
              "  median time:      508.959 ns (0.00% GC)\n",
              "  mean time:        546.874 ns (0.00% GC)\n",
              "  maximum time:     3.729 μs (0.00% GC)\n",
              "  --------------\n",
              "  samples:          10000\n",
              "  evals/sample:     196"
            ]
          },
          "metadata": {
            "tags": []
          },
          "execution_count": 19
        }
      ]
    },
    {
      "cell_type": "code",
      "metadata": {
        "id": "8qHcDGwP09iF",
        "colab_type": "code",
        "colab": {
          "base_uri": "https://localhost:8080/",
          "height": 1000
        },
        "outputId": "0537eae5-5152-4e1e-cbd9-67354530b545"
      },
      "source": [
        "import Pkg; Pkg.add(\"Plots\")"
      ],
      "execution_count": 7,
      "outputs": [
        {
          "output_type": "stream",
          "text": [
            "\u001b[32m\u001b[1m   Updating\u001b[22m\u001b[39m registry at `~/.julia/registries/General`\n",
            "\u001b[32m\u001b[1m  Resolving\u001b[22m\u001b[39m package versions...\n",
            "\u001b[32m\u001b[1m  Installed\u001b[22m\u001b[39m libfdk_aac_jll ────────────── v0.1.6+3\n",
            "\u001b[32m\u001b[1m  Installed\u001b[22m\u001b[39m FreeType2_jll ─────────────── v2.10.1+3\n",
            "\u001b[32m\u001b[1m  Installed\u001b[22m\u001b[39m IniFile ───────────────────── v0.5.0\n",
            "\u001b[32m\u001b[1m  Installed\u001b[22m\u001b[39m IteratorInterfaceExtensions ─ v1.0.0\n",
            "\u001b[32m\u001b[1m  Installed\u001b[22m\u001b[39m GeometryBasics ────────────── v0.2.15\n",
            "\u001b[32m\u001b[1m  Installed\u001b[22m\u001b[39m IterTools ─────────────────── v1.3.0\n",
            "\u001b[32m\u001b[1m  Installed\u001b[22m\u001b[39m Contour ───────────────────── v0.5.4\n",
            "\u001b[32m\u001b[1m  Installed\u001b[22m\u001b[39m Plots ─────────────────────── v1.6.0\n",
            "\u001b[32m\u001b[1m  Installed\u001b[22m\u001b[39m libvorbis_jll ─────────────── v1.3.6+5\n",
            "\u001b[32m\u001b[1m  Installed\u001b[22m\u001b[39m StructArrays ──────────────── v0.4.4\n",
            "\u001b[32m\u001b[1m  Installed\u001b[22m\u001b[39m PlotThemes ────────────────── v2.0.0\n",
            "\u001b[32m\u001b[1m  Installed\u001b[22m\u001b[39m FriBidi_jll ───────────────── v1.0.5+4\n",
            "\u001b[32m\u001b[1m  Installed\u001b[22m\u001b[39m LAME_jll ──────────────────── v3.100.0+2\n",
            "\u001b[32m\u001b[1m  Installed\u001b[22m\u001b[39m Ogg_jll ───────────────────── v1.3.4+1\n",
            "\u001b[32m\u001b[1m  Installed\u001b[22m\u001b[39m FFMPEG ────────────────────── v0.4.0\n",
            "\u001b[32m\u001b[1m  Installed\u001b[22m\u001b[39m Measures ──────────────────── v0.3.1\n",
            "\u001b[32m\u001b[1m  Installed\u001b[22m\u001b[39m libass_jll ────────────────── v0.14.0+3\n",
            "\u001b[32m\u001b[1m  Installed\u001b[22m\u001b[39m Opus_jll ──────────────────── v1.3.1+2\n",
            "\u001b[32m\u001b[1m  Installed\u001b[22m\u001b[39m x264_jll ──────────────────── v2020.7.14+1\n",
            "\u001b[32m\u001b[1m  Installed\u001b[22m\u001b[39m TableTraits ───────────────── v1.0.0\n",
            "\u001b[32m\u001b[1m  Installed\u001b[22m\u001b[39m OpenSSL_jll ───────────────── v1.1.1+5\n",
            "\u001b[32m\u001b[1m  Installed\u001b[22m\u001b[39m FFMPEG_jll ────────────────── v4.3.1+1\n",
            "\u001b[32m\u001b[1m  Installed\u001b[22m\u001b[39m RecipesPipeline ───────────── v0.1.12\n",
            "\u001b[32m\u001b[1m  Installed\u001b[22m\u001b[39m RecipesBase ───────────────── v1.0.2\n",
            "\u001b[32m\u001b[1m  Installed\u001b[22m\u001b[39m x265_jll ──────────────────── v3.0.0+2\n",
            "\u001b[32m\u001b[1m  Installed\u001b[22m\u001b[39m PlotUtils ─────────────────── v1.0.5\n",
            "\u001b[32m\u001b[1m  Installed\u001b[22m\u001b[39m DataValueInterfaces ───────── v1.0.0\n",
            "\u001b[32m\u001b[1m  Installed\u001b[22m\u001b[39m Bzip2_jll ─────────────────── v1.0.6+3\n",
            "\u001b[32m\u001b[1m  Installed\u001b[22m\u001b[39m GeometryTypes ─────────────── v0.8.3\n",
            "\u001b[32m\u001b[1m  Installed\u001b[22m\u001b[39m LibVPX_jll ────────────────── v1.9.0+0\n",
            "\u001b[32m\u001b[1m  Installed\u001b[22m\u001b[39m Tables ────────────────────── v1.0.5\n",
            "\u001b[32m\u001b[1m  Installed\u001b[22m\u001b[39m Showoff ───────────────────── v0.3.1\n",
            "\u001b[32m\u001b[1m  Installed\u001b[22m\u001b[39m GR ────────────────────────── v0.51.0\n",
            "\u001b[32m\u001b[1m  Installed\u001b[22m\u001b[39m HTTP ──────────────────────── v0.8.17\n",
            "\u001b[32m\u001b[1m  Installed\u001b[22m\u001b[39m ColorSchemes ──────────────── v3.9.0\n",
            "######################################################################### 100.0%\n",
            "######################################################################### 100.0%\n",
            "######################################################################### 100.0%\n",
            "######################################################################### 100.0%\n",
            "######################################################################### 100.0%\n",
            "######################################################################### 100.0%\n",
            "######################################################################### 100.0%\n",
            "######################################################################### 100.0%\n",
            "######################################################################### 100.0%\n",
            "######################################################################### 100.0%\n",
            "######################################################################### 100.0%\n",
            "######################################################################### 100.0%\n",
            "######################################################################### 100.0%\n",
            "######################################################################### 100.0%\n",
            "\u001b[32m\u001b[1mUpdating\u001b[22m\u001b[39m `~/.julia/environments/v1.5/Project.toml`\n",
            " \u001b[90m [91a5bcdd] \u001b[39m\u001b[92m+ Plots v1.6.0\u001b[39m\n",
            "\u001b[32m\u001b[1mUpdating\u001b[22m\u001b[39m `~/.julia/environments/v1.5/Manifest.toml`\n",
            " \u001b[90m [6e34b625] \u001b[39m\u001b[92m+ Bzip2_jll v1.0.6+3\u001b[39m\n",
            " \u001b[90m [35d6a980] \u001b[39m\u001b[92m+ ColorSchemes v3.9.0\u001b[39m\n",
            " \u001b[90m [d38c429a] \u001b[39m\u001b[92m+ Contour v0.5.4\u001b[39m\n",
            " \u001b[90m [e2d170a0] \u001b[39m\u001b[92m+ DataValueInterfaces v1.0.0\u001b[39m\n",
            " \u001b[90m [c87230d0] \u001b[39m\u001b[92m+ FFMPEG v0.4.0\u001b[39m\n",
            " \u001b[90m [b22a6f82] \u001b[39m\u001b[92m+ FFMPEG_jll v4.3.1+1\u001b[39m\n",
            " \u001b[90m [d7e528f0] \u001b[39m\u001b[92m+ FreeType2_jll v2.10.1+3\u001b[39m\n",
            " \u001b[90m [559328eb] \u001b[39m\u001b[92m+ FriBidi_jll v1.0.5+4\u001b[39m\n",
            " \u001b[90m [28b8d3ca] \u001b[39m\u001b[92m+ GR v0.51.0\u001b[39m\n",
            " \u001b[90m [5c1252a2] \u001b[39m\u001b[92m+ GeometryBasics v0.2.15\u001b[39m\n",
            " \u001b[90m [4d00f742] \u001b[39m\u001b[92m+ GeometryTypes v0.8.3\u001b[39m\n",
            " \u001b[90m [cd3eb016] \u001b[39m\u001b[92m+ HTTP v0.8.17\u001b[39m\n",
            " \u001b[90m [83e8ac13] \u001b[39m\u001b[92m+ IniFile v0.5.0\u001b[39m\n",
            " \u001b[90m [c8e1da08] \u001b[39m\u001b[92m+ IterTools v1.3.0\u001b[39m\n",
            " \u001b[90m [82899510] \u001b[39m\u001b[92m+ IteratorInterfaceExtensions v1.0.0\u001b[39m\n",
            " \u001b[90m [c1c5ebd0] \u001b[39m\u001b[92m+ LAME_jll v3.100.0+2\u001b[39m\n",
            " \u001b[90m [dd192d2f] \u001b[39m\u001b[92m+ LibVPX_jll v1.9.0+0\u001b[39m\n",
            " \u001b[90m [442fdcdd] \u001b[39m\u001b[92m+ Measures v0.3.1\u001b[39m\n",
            " \u001b[90m [e7412a2a] \u001b[39m\u001b[92m+ Ogg_jll v1.3.4+1\u001b[39m\n",
            " \u001b[90m [458c3c95] \u001b[39m\u001b[92m+ OpenSSL_jll v1.1.1+5\u001b[39m\n",
            " \u001b[90m [91d4177d] \u001b[39m\u001b[92m+ Opus_jll v1.3.1+2\u001b[39m\n",
            " \u001b[90m [ccf2f8ad] \u001b[39m\u001b[92m+ PlotThemes v2.0.0\u001b[39m\n",
            " \u001b[90m [995b91a9] \u001b[39m\u001b[92m+ PlotUtils v1.0.5\u001b[39m\n",
            " \u001b[90m [91a5bcdd] \u001b[39m\u001b[92m+ Plots v1.6.0\u001b[39m\n",
            " \u001b[90m [3cdcf5f2] \u001b[39m\u001b[92m+ RecipesBase v1.0.2\u001b[39m\n",
            " \u001b[90m [01d81517] \u001b[39m\u001b[92m+ RecipesPipeline v0.1.12\u001b[39m\n",
            " \u001b[90m [992d4aef] \u001b[39m\u001b[92m+ Showoff v0.3.1\u001b[39m\n",
            " \u001b[90m [09ab397b] \u001b[39m\u001b[92m+ StructArrays v0.4.4\u001b[39m\n",
            " \u001b[90m [3783bdb8] \u001b[39m\u001b[92m+ TableTraits v1.0.0\u001b[39m\n",
            " \u001b[90m [bd369af6] \u001b[39m\u001b[92m+ Tables v1.0.5\u001b[39m\n",
            " \u001b[90m [0ac62f75] \u001b[39m\u001b[92m+ libass_jll v0.14.0+3\u001b[39m\n",
            " \u001b[90m [f638f0a6] \u001b[39m\u001b[92m+ libfdk_aac_jll v0.1.6+3\u001b[39m\n",
            " \u001b[90m [f27f6e37] \u001b[39m\u001b[92m+ libvorbis_jll v1.3.6+5\u001b[39m\n",
            " \u001b[90m [1270edf5] \u001b[39m\u001b[92m+ x264_jll v2020.7.14+1\u001b[39m\n",
            " \u001b[90m [dfaa095f] \u001b[39m\u001b[92m+ x265_jll v3.0.0+2\u001b[39m\n",
            "\u001b[32m\u001b[1m   Building\u001b[22m\u001b[39m GR ───→ `~/.julia/packages/GR/8mv9N/deps/build.log`\n",
            "\u001b[32m\u001b[1m   Building\u001b[22m\u001b[39m Plots → `~/.julia/packages/Plots/6RLiv/deps/build.log`\n"
          ],
          "name": "stderr"
        }
      ]
    },
    {
      "cell_type": "code",
      "metadata": {
        "id": "_7Ebfx__coDr",
        "colab_type": "code",
        "colab": {
          "base_uri": "https://localhost:8080/",
          "height": 455
        },
        "outputId": "f69cb42e-a94f-4fce-98b2-c18b07db0d65"
      },
      "source": [
        "# First time running will take time to precompile\n",
        "using Plots\n",
        "x = 1:10; y = rand(10,4); # These are the plotting data\n",
        "plot(x, y, lw = 3)"
      ],
      "execution_count": 8,
      "outputs": [
        {
          "output_type": "stream",
          "text": [
            "┌ Info: Precompiling Plots [91a5bcdd-55d7-5caf-9e0b-520d859cae80]\n",
            "└ @ Base loading.jl:1278\n"
          ],
          "name": "stderr"
        },
        {
          "output_type": "execute_result",
          "data": {
            "image/svg+xml": "<?xml version=\"1.0\" encoding=\"utf-8\"?>\n<svg xmlns=\"http://www.w3.org/2000/svg\" xmlns:xlink=\"http://www.w3.org/1999/xlink\" width=\"600\" height=\"400\" viewBox=\"0 0 2400 1600\">\n<defs>\n  <clipPath id=\"clip580\">\n    <rect x=\"0\" y=\"0\" width=\"2400\" height=\"1600\"/>\n  </clipPath>\n</defs>\n<path clip-path=\"url(#clip580)\" d=\"\nM0 1600 L2400 1600 L2400 0 L0 0  Z\n  \" fill=\"#ffffff\" fill-rule=\"evenodd\" fill-opacity=\"1\"/>\n<defs>\n  <clipPath id=\"clip581\">\n    <rect x=\"480\" y=\"0\" width=\"1681\" height=\"1600\"/>\n  </clipPath>\n</defs>\n<path clip-path=\"url(#clip580)\" d=\"\nM148.334 1486.45 L2352.76 1486.45 L2352.76 47.2441 L148.334 47.2441  Z\n  \" fill=\"#ffffff\" fill-rule=\"evenodd\" fill-opacity=\"1\"/>\n<defs>\n  <clipPath id=\"clip582\">\n    <rect x=\"148\" y=\"47\" width=\"2205\" height=\"1440\"/>\n  </clipPath>\n</defs>\n<polyline clip-path=\"url(#clip582)\" style=\"stroke:#000000; stroke-width:2; stroke-opacity:0.1; fill:none\" points=\"\n  441.795,1486.45 441.795,47.2441 \n  \"/>\n<polyline clip-path=\"url(#clip582)\" style=\"stroke:#000000; stroke-width:2; stroke-opacity:0.1; fill:none\" points=\"\n  903.938,1486.45 903.938,47.2441 \n  \"/>\n<polyline clip-path=\"url(#clip582)\" style=\"stroke:#000000; stroke-width:2; stroke-opacity:0.1; fill:none\" points=\"\n  1366.08,1486.45 1366.08,47.2441 \n  \"/>\n<polyline clip-path=\"url(#clip582)\" style=\"stroke:#000000; stroke-width:2; stroke-opacity:0.1; fill:none\" points=\"\n  1828.22,1486.45 1828.22,47.2441 \n  \"/>\n<polyline clip-path=\"url(#clip582)\" style=\"stroke:#000000; stroke-width:2; stroke-opacity:0.1; fill:none\" points=\"\n  2290.37,1486.45 2290.37,47.2441 \n  \"/>\n<polyline clip-path=\"url(#clip582)\" style=\"stroke:#000000; stroke-width:2; stroke-opacity:0.1; fill:none\" points=\"\n  148.334,1241.77 2352.76,1241.77 \n  \"/>\n<polyline clip-path=\"url(#clip582)\" style=\"stroke:#000000; stroke-width:2; stroke-opacity:0.1; fill:none\" points=\"\n  148.334,949.519 2352.76,949.519 \n  \"/>\n<polyline clip-path=\"url(#clip582)\" style=\"stroke:#000000; stroke-width:2; stroke-opacity:0.1; fill:none\" points=\"\n  148.334,657.263 2352.76,657.263 \n  \"/>\n<polyline clip-path=\"url(#clip582)\" style=\"stroke:#000000; stroke-width:2; stroke-opacity:0.1; fill:none\" points=\"\n  148.334,365.007 2352.76,365.007 \n  \"/>\n<polyline clip-path=\"url(#clip582)\" style=\"stroke:#000000; stroke-width:2; stroke-opacity:0.1; fill:none\" points=\"\n  148.334,72.7508 2352.76,72.7508 \n  \"/>\n<polyline clip-path=\"url(#clip580)\" style=\"stroke:#000000; stroke-width:4; stroke-opacity:1; fill:none\" points=\"\n  148.334,1486.45 2352.76,1486.45 \n  \"/>\n<polyline clip-path=\"url(#clip580)\" style=\"stroke:#000000; stroke-width:4; stroke-opacity:1; fill:none\" points=\"\n  148.334,1486.45 148.334,47.2441 \n  \"/>\n<polyline clip-path=\"url(#clip580)\" style=\"stroke:#000000; stroke-width:4; stroke-opacity:1; fill:none\" points=\"\n  441.795,1486.45 441.795,1469.18 \n  \"/>\n<polyline clip-path=\"url(#clip580)\" style=\"stroke:#000000; stroke-width:4; stroke-opacity:1; fill:none\" points=\"\n  903.938,1486.45 903.938,1469.18 \n  \"/>\n<polyline clip-path=\"url(#clip580)\" style=\"stroke:#000000; stroke-width:4; stroke-opacity:1; fill:none\" points=\"\n  1366.08,1486.45 1366.08,1469.18 \n  \"/>\n<polyline clip-path=\"url(#clip580)\" style=\"stroke:#000000; stroke-width:4; stroke-opacity:1; fill:none\" points=\"\n  1828.22,1486.45 1828.22,1469.18 \n  \"/>\n<polyline clip-path=\"url(#clip580)\" style=\"stroke:#000000; stroke-width:4; stroke-opacity:1; fill:none\" points=\"\n  2290.37,1486.45 2290.37,1469.18 \n  \"/>\n<polyline clip-path=\"url(#clip580)\" style=\"stroke:#000000; stroke-width:4; stroke-opacity:1; fill:none\" points=\"\n  148.334,1241.77 174.787,1241.77 \n  \"/>\n<polyline clip-path=\"url(#clip580)\" style=\"stroke:#000000; stroke-width:4; stroke-opacity:1; fill:none\" points=\"\n  148.334,949.519 174.787,949.519 \n  \"/>\n<polyline clip-path=\"url(#clip580)\" style=\"stroke:#000000; stroke-width:4; stroke-opacity:1; fill:none\" points=\"\n  148.334,657.263 174.787,657.263 \n  \"/>\n<polyline clip-path=\"url(#clip580)\" style=\"stroke:#000000; stroke-width:4; stroke-opacity:1; fill:none\" points=\"\n  148.334,365.007 174.787,365.007 \n  \"/>\n<polyline clip-path=\"url(#clip580)\" style=\"stroke:#000000; stroke-width:4; stroke-opacity:1; fill:none\" points=\"\n  148.334,72.7508 174.787,72.7508 \n  \"/>\n<path clip-path=\"url(#clip580)\" d=\"M 0 0 M436.448 1535.98 L452.767 1535.98 L452.767 1539.92 L430.823 1539.92 L430.823 1535.98 Q433.485 1533.23 438.068 1528.6 Q442.675 1523.95 443.855 1522.61 Q446.101 1520.08 446.98 1518.35 Q447.883 1516.59 447.883 1514.9 Q447.883 1512.14 445.939 1510.41 Q444.017 1508.67 440.915 1508.67 Q438.716 1508.67 436.263 1509.43 Q433.832 1510.2 431.054 1511.75 L431.054 1507.03 Q433.878 1505.89 436.332 1505.31 Q438.786 1504.73 440.823 1504.73 Q446.193 1504.73 449.388 1507.42 Q452.582 1510.11 452.582 1514.6 Q452.582 1516.73 451.772 1518.65 Q450.985 1520.54 448.878 1523.14 Q448.3 1523.81 445.198 1527.03 Q442.096 1530.22 436.448 1535.98 Z\" fill=\"#000000\" fill-rule=\"evenodd\" fill-opacity=\"1\" /><path clip-path=\"url(#clip580)\" d=\"M 0 0 M906.947 1509.43 L895.142 1527.88 L906.947 1527.88 L906.947 1509.43 M905.72 1505.36 L911.6 1505.36 L911.6 1527.88 L916.531 1527.88 L916.531 1531.77 L911.6 1531.77 L911.6 1539.92 L906.947 1539.92 L906.947 1531.77 L891.345 1531.77 L891.345 1527.26 L905.72 1505.36 Z\" fill=\"#000000\" fill-rule=\"evenodd\" fill-opacity=\"1\" /><path clip-path=\"url(#clip580)\" d=\"M 0 0 M1366.49 1520.78 Q1363.34 1520.78 1361.49 1522.93 Q1359.66 1525.08 1359.66 1528.83 Q1359.66 1532.56 1361.49 1534.73 Q1363.34 1536.89 1366.49 1536.89 Q1369.63 1536.89 1371.46 1534.73 Q1373.31 1532.56 1373.31 1528.83 Q1373.31 1525.08 1371.46 1522.93 Q1369.63 1520.78 1366.49 1520.78 M1375.77 1506.12 L1375.77 1510.38 Q1374.01 1509.55 1372.2 1509.11 Q1370.42 1508.67 1368.66 1508.67 Q1364.03 1508.67 1361.58 1511.8 Q1359.15 1514.92 1358.8 1521.24 Q1360.17 1519.23 1362.23 1518.16 Q1364.29 1517.07 1366.76 1517.07 Q1371.97 1517.07 1374.98 1520.24 Q1378.01 1523.39 1378.01 1528.83 Q1378.01 1534.16 1374.87 1537.37 Q1371.72 1540.59 1366.49 1540.59 Q1360.49 1540.59 1357.32 1536.01 Q1354.15 1531.4 1354.15 1522.67 Q1354.15 1514.48 1358.04 1509.62 Q1361.93 1504.73 1368.48 1504.73 Q1370.24 1504.73 1372.02 1505.08 Q1373.82 1505.43 1375.77 1506.12 Z\" fill=\"#000000\" fill-rule=\"evenodd\" fill-opacity=\"1\" /><path clip-path=\"url(#clip580)\" d=\"M 0 0 M1828.22 1523.51 Q1824.89 1523.51 1822.97 1525.29 Q1821.07 1527.07 1821.07 1530.2 Q1821.07 1533.32 1822.97 1535.11 Q1824.89 1536.89 1828.22 1536.89 Q1831.56 1536.89 1833.48 1535.11 Q1835.4 1533.3 1835.4 1530.2 Q1835.4 1527.07 1833.48 1525.29 Q1831.58 1523.51 1828.22 1523.51 M1823.55 1521.52 Q1820.54 1520.78 1818.85 1518.72 Q1817.18 1516.66 1817.18 1513.69 Q1817.18 1509.55 1820.12 1507.14 Q1823.08 1504.73 1828.22 1504.73 Q1833.39 1504.73 1836.33 1507.14 Q1839.27 1509.55 1839.27 1513.69 Q1839.27 1516.66 1837.58 1518.72 Q1835.91 1520.78 1832.92 1521.52 Q1836.3 1522.3 1838.18 1524.6 Q1840.08 1526.89 1840.08 1530.2 Q1840.08 1535.22 1837 1537.91 Q1833.94 1540.59 1828.22 1540.59 Q1822.51 1540.59 1819.43 1537.91 Q1816.37 1535.22 1816.37 1530.2 Q1816.37 1526.89 1818.27 1524.6 Q1820.17 1522.3 1823.55 1521.52 M1821.83 1514.13 Q1821.83 1516.82 1823.5 1518.32 Q1825.19 1519.83 1828.22 1519.83 Q1831.23 1519.83 1832.92 1518.32 Q1834.64 1516.82 1834.64 1514.13 Q1834.64 1511.45 1832.92 1509.94 Q1831.23 1508.44 1828.22 1508.44 Q1825.19 1508.44 1823.5 1509.94 Q1821.83 1511.45 1821.83 1514.13 Z\" fill=\"#000000\" fill-rule=\"evenodd\" fill-opacity=\"1\" /><path clip-path=\"url(#clip580)\" d=\"M 0 0 M2267.24 1535.98 L2274.88 1535.98 L2274.88 1509.62 L2266.57 1511.29 L2266.57 1507.03 L2274.83 1505.36 L2279.51 1505.36 L2279.51 1535.98 L2287.15 1535.98 L2287.15 1539.92 L2267.24 1539.92 L2267.24 1535.98 Z\" fill=\"#000000\" fill-rule=\"evenodd\" fill-opacity=\"1\" /><path clip-path=\"url(#clip580)\" d=\"M 0 0 M2302.22 1508.44 Q2298.61 1508.44 2296.78 1512 Q2294.97 1515.55 2294.97 1522.67 Q2294.97 1529.78 2296.78 1533.35 Q2298.61 1536.89 2302.22 1536.89 Q2305.85 1536.89 2307.66 1533.35 Q2309.49 1529.78 2309.49 1522.67 Q2309.49 1515.55 2307.66 1512 Q2305.85 1508.44 2302.22 1508.44 M2302.22 1504.73 Q2308.03 1504.73 2311.08 1509.34 Q2314.16 1513.92 2314.16 1522.67 Q2314.16 1531.4 2311.08 1536.01 Q2308.03 1540.59 2302.22 1540.59 Q2296.41 1540.59 2293.33 1536.01 Q2290.27 1531.4 2290.27 1522.67 Q2290.27 1513.92 2293.33 1509.34 Q2296.41 1504.73 2302.22 1504.73 Z\" fill=\"#000000\" fill-rule=\"evenodd\" fill-opacity=\"1\" /><path clip-path=\"url(#clip580)\" d=\"M 0 0 M77.0198 1227.57 Q73.4087 1227.57 71.58 1231.14 Q69.7745 1234.68 69.7745 1241.81 Q69.7745 1248.92 71.58 1252.48 Q73.4087 1256.02 77.0198 1256.02 Q80.6541 1256.02 82.4596 1252.48 Q84.2883 1248.92 84.2883 1241.81 Q84.2883 1234.68 82.4596 1231.14 Q80.6541 1227.57 77.0198 1227.57 M77.0198 1223.87 Q82.83 1223.87 85.8855 1228.48 Q88.9642 1233.06 88.9642 1241.81 Q88.9642 1250.54 85.8855 1255.14 Q82.83 1259.73 77.0198 1259.73 Q71.2097 1259.73 68.131 1255.14 Q65.0754 1250.54 65.0754 1241.81 Q65.0754 1233.06 68.131 1228.48 Q71.2097 1223.87 77.0198 1223.87 Z\" fill=\"#000000\" fill-rule=\"evenodd\" fill-opacity=\"1\" /><path clip-path=\"url(#clip580)\" d=\"M 0 0 M94.0336 1253.18 L98.9179 1253.18 L98.9179 1259.05 L94.0336 1259.05 L94.0336 1253.18 Z\" fill=\"#000000\" fill-rule=\"evenodd\" fill-opacity=\"1\" /><path clip-path=\"url(#clip580)\" d=\"M 0 0 M108.015 1255.12 L124.334 1255.12 L124.334 1259.05 L102.39 1259.05 L102.39 1255.12 Q105.052 1252.37 109.635 1247.74 Q114.242 1243.08 115.422 1241.74 Q117.668 1239.22 118.547 1237.48 Q119.45 1235.72 119.45 1234.03 Q119.45 1231.28 117.506 1229.54 Q115.584 1227.81 112.483 1227.81 Q110.284 1227.81 107.83 1228.57 Q105.399 1229.33 102.622 1230.88 L102.622 1226.16 Q105.446 1225.03 107.899 1224.45 Q110.353 1223.87 112.39 1223.87 Q117.76 1223.87 120.955 1226.56 Q124.149 1229.24 124.149 1233.73 Q124.149 1235.86 123.339 1237.78 Q122.552 1239.68 120.446 1242.27 Q119.867 1242.94 116.765 1246.16 Q113.663 1249.36 108.015 1255.12 Z\" fill=\"#000000\" fill-rule=\"evenodd\" fill-opacity=\"1\" /><path clip-path=\"url(#clip580)\" d=\"M 0 0 M74.9365 935.318 Q71.3254 935.318 69.4967 938.882 Q67.6912 942.424 67.6912 949.554 Q67.6912 956.66 69.4967 960.225 Q71.3254 963.767 74.9365 963.767 Q78.5707 963.767 80.3763 960.225 Q82.205 956.66 82.205 949.554 Q82.205 942.424 80.3763 938.882 Q78.5707 935.318 74.9365 935.318 M74.9365 931.614 Q80.7467 931.614 83.8022 936.22 Q86.8809 940.804 86.8809 949.554 Q86.8809 958.28 83.8022 962.887 Q80.7467 967.47 74.9365 967.47 Q69.1264 967.47 66.0477 962.887 Q62.9921 958.28 62.9921 949.554 Q62.9921 940.804 66.0477 936.22 Q69.1264 931.614 74.9365 931.614 Z\" fill=\"#000000\" fill-rule=\"evenodd\" fill-opacity=\"1\" /><path clip-path=\"url(#clip580)\" d=\"M 0 0 M91.9503 960.919 L96.8345 960.919 L96.8345 966.799 L91.9503 966.799 L91.9503 960.919 Z\" fill=\"#000000\" fill-rule=\"evenodd\" fill-opacity=\"1\" /><path clip-path=\"url(#clip580)\" d=\"M 0 0 M114.751 936.313 L102.946 954.762 L114.751 954.762 L114.751 936.313 M113.524 932.239 L119.404 932.239 L119.404 954.762 L124.334 954.762 L124.334 958.651 L119.404 958.651 L119.404 966.799 L114.751 966.799 L114.751 958.651 L99.1493 958.651 L99.1493 954.137 L113.524 932.239 Z\" fill=\"#000000\" fill-rule=\"evenodd\" fill-opacity=\"1\" /><path clip-path=\"url(#clip580)\" d=\"M 0 0 M75.2606 643.062 Q71.6495 643.062 69.8208 646.626 Q68.0152 650.168 68.0152 657.298 Q68.0152 664.404 69.8208 667.969 Q71.6495 671.51 75.2606 671.51 Q78.8948 671.51 80.7004 667.969 Q82.5291 664.404 82.5291 657.298 Q82.5291 650.168 80.7004 646.626 Q78.8948 643.062 75.2606 643.062 M75.2606 639.358 Q81.0707 639.358 84.1263 643.964 Q87.205 648.548 87.205 657.298 Q87.205 666.024 84.1263 670.631 Q81.0707 675.214 75.2606 675.214 Q69.4504 675.214 66.3717 670.631 Q63.3162 666.024 63.3162 657.298 Q63.3162 648.548 66.3717 643.964 Q69.4504 639.358 75.2606 639.358 Z\" fill=\"#000000\" fill-rule=\"evenodd\" fill-opacity=\"1\" /><path clip-path=\"url(#clip580)\" d=\"M 0 0 M92.2744 668.663 L97.1586 668.663 L97.1586 674.543 L92.2744 674.543 L92.2744 668.663 Z\" fill=\"#000000\" fill-rule=\"evenodd\" fill-opacity=\"1\" /><path clip-path=\"url(#clip580)\" d=\"M 0 0 M112.807 655.399 Q109.659 655.399 107.807 657.552 Q105.978 659.705 105.978 663.455 Q105.978 667.182 107.807 669.358 Q109.659 671.51 112.807 671.51 Q115.955 671.51 117.783 669.358 Q119.635 667.182 119.635 663.455 Q119.635 659.705 117.783 657.552 Q115.955 655.399 112.807 655.399 M122.089 640.747 L122.089 645.006 Q120.33 644.173 118.524 643.733 Q116.742 643.293 114.983 643.293 Q110.353 643.293 107.899 646.418 Q105.469 649.543 105.122 655.862 Q106.487 653.849 108.547 652.784 Q110.608 651.696 113.084 651.696 Q118.293 651.696 121.302 654.867 Q124.334 658.015 124.334 663.455 Q124.334 668.779 121.186 671.997 Q118.038 675.214 112.807 675.214 Q106.811 675.214 103.64 670.631 Q100.469 666.024 100.469 657.298 Q100.469 649.103 104.358 644.242 Q108.247 639.358 114.797 639.358 Q116.557 639.358 118.339 639.705 Q120.145 640.052 122.089 640.747 Z\" fill=\"#000000\" fill-rule=\"evenodd\" fill-opacity=\"1\" /><path clip-path=\"url(#clip580)\" d=\"M 0 0 M75.5152 350.806 Q71.9041 350.806 70.0754 354.37 Q68.2699 357.912 68.2699 365.042 Q68.2699 372.148 70.0754 375.713 Q71.9041 379.254 75.5152 379.254 Q79.1494 379.254 80.955 375.713 Q82.7837 372.148 82.7837 365.042 Q82.7837 357.912 80.955 354.37 Q79.1494 350.806 75.5152 350.806 M75.5152 347.102 Q81.3254 347.102 84.3809 351.708 Q87.4596 356.292 87.4596 365.042 Q87.4596 373.768 84.3809 378.375 Q81.3254 382.958 75.5152 382.958 Q69.7051 382.958 66.6264 378.375 Q63.5708 373.768 63.5708 365.042 Q63.5708 356.292 66.6264 351.708 Q69.7051 347.102 75.5152 347.102 Z\" fill=\"#000000\" fill-rule=\"evenodd\" fill-opacity=\"1\" /><path clip-path=\"url(#clip580)\" d=\"M 0 0 M92.529 376.407 L97.4132 376.407 L97.4132 382.287 L92.529 382.287 L92.529 376.407 Z\" fill=\"#000000\" fill-rule=\"evenodd\" fill-opacity=\"1\" /><path clip-path=\"url(#clip580)\" d=\"M 0 0 M112.483 365.875 Q109.149 365.875 107.228 367.657 Q105.33 369.44 105.33 372.565 Q105.33 375.69 107.228 377.472 Q109.149 379.254 112.483 379.254 Q115.816 379.254 117.737 377.472 Q119.658 375.666 119.658 372.565 Q119.658 369.44 117.737 367.657 Q115.839 365.875 112.483 365.875 M107.807 363.884 Q104.797 363.143 103.108 361.083 Q101.441 359.023 101.441 356.06 Q101.441 351.917 104.381 349.509 Q107.344 347.102 112.483 347.102 Q117.645 347.102 120.584 349.509 Q123.524 351.917 123.524 356.06 Q123.524 359.023 121.834 361.083 Q120.168 363.143 117.182 363.884 Q120.561 364.671 122.436 366.963 Q124.334 369.254 124.334 372.565 Q124.334 377.588 121.256 380.273 Q118.2 382.958 112.483 382.958 Q106.765 382.958 103.686 380.273 Q100.631 377.588 100.631 372.565 Q100.631 369.254 102.529 366.963 Q104.427 364.671 107.807 363.884 M106.094 356.5 Q106.094 359.185 107.76 360.69 Q109.45 362.194 112.483 362.194 Q115.492 362.194 117.182 360.69 Q118.895 359.185 118.895 356.5 Q118.895 353.815 117.182 352.31 Q115.492 350.806 112.483 350.806 Q109.45 350.806 107.76 352.31 Q106.094 353.815 106.094 356.5 Z\" fill=\"#000000\" fill-rule=\"evenodd\" fill-opacity=\"1\" /><path clip-path=\"url(#clip580)\" d=\"M 0 0 M67.4597 86.0956 L75.0985 86.0956 L75.0985 59.73 L66.7884 61.3967 L66.7884 57.1374 L75.0522 55.4708 L79.7281 55.4708 L79.7281 86.0956 L87.367 86.0956 L87.367 90.0308 L67.4597 90.0308 L67.4597 86.0956 Z\" fill=\"#000000\" fill-rule=\"evenodd\" fill-opacity=\"1\" /><path clip-path=\"url(#clip580)\" d=\"M 0 0 M92.4364 84.1512 L97.3206 84.1512 L97.3206 90.0308 L92.4364 90.0308 L92.4364 84.1512 Z\" fill=\"#000000\" fill-rule=\"evenodd\" fill-opacity=\"1\" /><path clip-path=\"url(#clip580)\" d=\"M 0 0 M112.39 58.5495 Q108.779 58.5495 106.95 62.1143 Q105.145 65.6559 105.145 72.7855 Q105.145 79.8919 106.95 83.4567 Q108.779 86.9984 112.39 86.9984 Q116.024 86.9984 117.83 83.4567 Q119.658 79.8919 119.658 72.7855 Q119.658 65.6559 117.83 62.1143 Q116.024 58.5495 112.39 58.5495 M112.39 54.8458 Q118.2 54.8458 121.256 59.4522 Q124.334 64.0355 124.334 72.7855 Q124.334 81.5123 121.256 86.1188 Q118.2 90.7021 112.39 90.7021 Q106.58 90.7021 103.501 86.1188 Q100.446 81.5123 100.446 72.7855 Q100.446 64.0355 103.501 59.4522 Q106.58 54.8458 112.39 54.8458 Z\" fill=\"#000000\" fill-rule=\"evenodd\" fill-opacity=\"1\" /><polyline clip-path=\"url(#clip582)\" style=\"stroke:#009af9; stroke-width:12; stroke-opacity:1; fill:none\" points=\"\n  210.724,229.317 441.795,704.211 672.867,108.734 903.938,362.938 1135.01,734.2 1366.08,875.548 1597.15,954.87 1828.22,418.675 2059.3,1383.11 2290.37,778.168 \n  \n  \"/>\n<polyline clip-path=\"url(#clip582)\" style=\"stroke:#e26f46; stroke-width:12; stroke-opacity:1; fill:none\" points=\"\n  210.724,1238.35 441.795,1178.84 672.867,1371.02 903.938,192.369 1135.01,1215.57 1366.08,1259.05 1597.15,648.684 1828.22,1445.72 2059.3,598.248 2290.37,790.026 \n  \n  \"/>\n<polyline clip-path=\"url(#clip582)\" style=\"stroke:#3da44d; stroke-width:12; stroke-opacity:1; fill:none\" points=\"\n  210.724,1367.45 441.795,649.803 672.867,304.437 903.938,481.606 1135.01,954.019 1366.08,880.817 1597.15,116.295 1828.22,1378.18 2059.3,1020.77 2290.37,1019.48 \n  \n  \"/>\n<polyline clip-path=\"url(#clip582)\" style=\"stroke:#c271d2; stroke-width:12; stroke-opacity:1; fill:none\" points=\"\n  210.724,1335.84 441.795,972.369 672.867,1406.14 903.938,224.47 1135.01,177.215 1366.08,87.9763 1597.15,886.223 1828.22,1254.38 2059.3,947.836 2290.37,1033.3 \n  \n  \"/>\n<path clip-path=\"url(#clip580)\" d=\"\nM1981.61 397.618 L2279.28 397.618 L2279.28 95.2176 L1981.61 95.2176  Z\n  \" fill=\"#ffffff\" fill-rule=\"evenodd\" fill-opacity=\"1\"/>\n<polyline clip-path=\"url(#clip580)\" style=\"stroke:#000000; stroke-width:4; stroke-opacity:1; fill:none\" points=\"\n  1981.61,397.618 2279.28,397.618 2279.28,95.2176 1981.61,95.2176 1981.61,397.618 \n  \"/>\n<polyline clip-path=\"url(#clip580)\" style=\"stroke:#009af9; stroke-width:4; stroke-opacity:1; fill:none\" points=\"\n  2006.1,155.698 2153.06,155.698 \n  \"/>\n<path clip-path=\"url(#clip580)\" d=\"M 0 0 M2191.4 175.385 Q2189.59 180.015 2187.88 181.427 Q2186.17 182.839 2183.3 182.839 L2179.89 182.839 L2179.89 179.274 L2182.39 179.274 Q2184.15 179.274 2185.13 178.44 Q2186.1 177.607 2187.28 174.505 L2188.04 172.561 L2177.56 147.052 L2182.07 147.052 L2190.17 167.329 L2198.27 147.052 L2202.79 147.052 L2191.4 175.385 Z\" fill=\"#000000\" fill-rule=\"evenodd\" fill-opacity=\"1\" /><path clip-path=\"url(#clip580)\" d=\"M 0 0 M2208.67 169.042 L2216.31 169.042 L2216.31 142.677 L2208 144.343 L2208 140.084 L2216.26 138.418 L2220.94 138.418 L2220.94 169.042 L2228.58 169.042 L2228.58 172.978 L2208.67 172.978 L2208.67 169.042 Z\" fill=\"#000000\" fill-rule=\"evenodd\" fill-opacity=\"1\" /><polyline clip-path=\"url(#clip580)\" style=\"stroke:#e26f46; stroke-width:4; stroke-opacity:1; fill:none\" points=\"\n  2006.1,216.178 2153.06,216.178 \n  \"/>\n<path clip-path=\"url(#clip580)\" d=\"M 0 0 M2191.4 235.865 Q2189.59 240.495 2187.88 241.907 Q2186.17 243.319 2183.3 243.319 L2179.89 243.319 L2179.89 239.754 L2182.39 239.754 Q2184.15 239.754 2185.13 238.92 Q2186.1 238.087 2187.28 234.985 L2188.04 233.041 L2177.56 207.532 L2182.07 207.532 L2190.17 227.809 L2198.27 207.532 L2202.79 207.532 L2191.4 235.865 Z\" fill=\"#000000\" fill-rule=\"evenodd\" fill-opacity=\"1\" /><path clip-path=\"url(#clip580)\" d=\"M 0 0 M2211.89 229.522 L2228.2 229.522 L2228.2 233.458 L2206.26 233.458 L2206.26 229.522 Q2208.92 226.768 2213.51 222.138 Q2218.11 217.485 2219.29 216.143 Q2221.54 213.62 2222.42 211.884 Q2223.32 210.124 2223.32 208.435 Q2223.32 205.68 2221.38 203.944 Q2219.45 202.208 2216.35 202.208 Q2214.15 202.208 2211.7 202.972 Q2209.27 203.735 2206.49 205.286 L2206.49 200.564 Q2209.32 199.43 2211.77 198.851 Q2214.22 198.273 2216.26 198.273 Q2221.63 198.273 2224.83 200.958 Q2228.02 203.643 2228.02 208.134 Q2228.02 210.263 2227.21 212.185 Q2226.42 214.083 2224.32 216.675 Q2223.74 217.347 2220.64 220.564 Q2217.53 223.759 2211.89 229.522 Z\" fill=\"#000000\" fill-rule=\"evenodd\" fill-opacity=\"1\" /><polyline clip-path=\"url(#clip580)\" style=\"stroke:#3da44d; stroke-width:4; stroke-opacity:1; fill:none\" points=\"\n  2006.1,276.658 2153.06,276.658 \n  \"/>\n<path clip-path=\"url(#clip580)\" d=\"M 0 0 M2191.4 296.345 Q2189.59 300.975 2187.88 302.387 Q2186.17 303.799 2183.3 303.799 L2179.89 303.799 L2179.89 300.234 L2182.39 300.234 Q2184.15 300.234 2185.13 299.4 Q2186.1 298.567 2187.28 295.465 L2188.04 293.521 L2177.56 268.012 L2182.07 268.012 L2190.17 288.289 L2198.27 268.012 L2202.79 268.012 L2191.4 296.345 Z\" fill=\"#000000\" fill-rule=\"evenodd\" fill-opacity=\"1\" /><path clip-path=\"url(#clip580)\" d=\"M 0 0 M2222.02 275.303 Q2225.38 276.021 2227.26 278.289 Q2229.15 280.558 2229.15 283.891 Q2229.15 289.007 2225.64 291.808 Q2222.12 294.609 2215.64 294.609 Q2213.46 294.609 2211.14 294.169 Q2208.85 293.752 2206.4 292.896 L2206.4 288.382 Q2208.34 289.516 2210.66 290.095 Q2212.97 290.674 2215.5 290.674 Q2219.89 290.674 2222.19 288.938 Q2224.5 287.201 2224.5 283.891 Q2224.5 280.836 2222.35 279.123 Q2220.22 277.387 2216.4 277.387 L2212.37 277.387 L2212.37 273.544 L2216.58 273.544 Q2220.03 273.544 2221.86 272.178 Q2223.69 270.79 2223.69 268.197 Q2223.69 265.535 2221.79 264.123 Q2219.92 262.688 2216.4 262.688 Q2214.48 262.688 2212.28 263.104 Q2210.08 263.521 2207.44 264.401 L2207.44 260.234 Q2210.1 259.493 2212.42 259.123 Q2214.76 258.753 2216.82 258.753 Q2222.14 258.753 2225.24 261.183 Q2228.34 263.59 2228.34 267.711 Q2228.34 270.581 2226.7 272.572 Q2225.06 274.54 2222.02 275.303 Z\" fill=\"#000000\" fill-rule=\"evenodd\" fill-opacity=\"1\" /><polyline clip-path=\"url(#clip580)\" style=\"stroke:#c271d2; stroke-width:4; stroke-opacity:1; fill:none\" points=\"\n  2006.1,337.138 2153.06,337.138 \n  \"/>\n<path clip-path=\"url(#clip580)\" d=\"M 0 0 M2191.4 356.825 Q2189.59 361.455 2187.88 362.867 Q2186.17 364.279 2183.3 364.279 L2179.89 364.279 L2179.89 360.714 L2182.39 360.714 Q2184.15 360.714 2185.13 359.88 Q2186.1 359.047 2187.28 355.945 L2188.04 354.001 L2177.56 328.492 L2182.07 328.492 L2190.17 348.769 L2198.27 328.492 L2202.79 328.492 L2191.4 356.825 Z\" fill=\"#000000\" fill-rule=\"evenodd\" fill-opacity=\"1\" /><path clip-path=\"url(#clip580)\" d=\"M 0 0 M2220.7 323.932 L2208.9 342.381 L2220.7 342.381 L2220.7 323.932 M2219.48 319.858 L2225.36 319.858 L2225.36 342.381 L2230.29 342.381 L2230.29 346.269 L2225.36 346.269 L2225.36 354.418 L2220.7 354.418 L2220.7 346.269 L2205.1 346.269 L2205.1 341.756 L2219.48 319.858 Z\" fill=\"#000000\" fill-rule=\"evenodd\" fill-opacity=\"1\" /></svg>\n"
          },
          "metadata": {
            "tags": []
          },
          "execution_count": 8
        }
      ]
    },
    {
      "cell_type": "code",
      "metadata": {
        "id": "pp3rT9OMdEWY",
        "colab_type": "code",
        "colab": {
          "base_uri": "https://localhost:8080/",
          "height": 421
        },
        "outputId": "440a11e2-4be3-4c96-a22b-ab4e0e3f2b3e"
      },
      "source": [
        "p1 = plot(x, y) # Make a line plot\n",
        "p2 = scatter(x, y) # Make a scatter plot\n",
        "p3 = plot(x, y, xlabel = \"This one is labelled\", lw = 3, title = \"Subtitle\")\n",
        "p4 = histogram(x, y) # Four histograms each with 10 points? Why not!\n",
        "plot(p1, p2, p3, p4, layout = (2, 2), legend = false)"
      ],
      "execution_count": 9,
      "outputs": [
        {
          "output_type": "execute_result",
          "data": {
            "image/svg+xml": "<?xml version=\"1.0\" encoding=\"utf-8\"?>\n<svg xmlns=\"http://www.w3.org/2000/svg\" xmlns:xlink=\"http://www.w3.org/1999/xlink\" width=\"600\" height=\"400\" viewBox=\"0 0 2400 1600\">\n<defs>\n  <clipPath id=\"clip620\">\n    <rect x=\"0\" y=\"0\" width=\"2400\" height=\"1600\"/>\n  </clipPath>\n</defs>\n<path clip-path=\"url(#clip620)\" d=\"\nM0 1600 L2400 1600 L2400 0 L0 0  Z\n  \" fill=\"#ffffff\" fill-rule=\"evenodd\" fill-opacity=\"1\"/>\n<defs>\n  <clipPath id=\"clip621\">\n    <rect x=\"480\" y=\"0\" width=\"1681\" height=\"1600\"/>\n  </clipPath>\n</defs>\n<path clip-path=\"url(#clip620)\" d=\"\nM148.334 616.7 L1152.76 616.7 L1152.76 47.2441 L148.334 47.2441  Z\n  \" fill=\"#ffffff\" fill-rule=\"evenodd\" fill-opacity=\"1\"/>\n<defs>\n  <clipPath id=\"clip622\">\n    <rect x=\"148\" y=\"47\" width=\"1005\" height=\"570\"/>\n  </clipPath>\n</defs>\n<polyline clip-path=\"url(#clip622)\" style=\"stroke:#000000; stroke-width:2; stroke-opacity:0.1; fill:none\" points=\"\n  282.047,616.7 282.047,47.2441 \n  \"/>\n<polyline clip-path=\"url(#clip622)\" style=\"stroke:#000000; stroke-width:2; stroke-opacity:0.1; fill:none\" points=\"\n  492.617,616.7 492.617,47.2441 \n  \"/>\n<polyline clip-path=\"url(#clip622)\" style=\"stroke:#000000; stroke-width:2; stroke-opacity:0.1; fill:none\" points=\"\n  703.188,616.7 703.188,47.2441 \n  \"/>\n<polyline clip-path=\"url(#clip622)\" style=\"stroke:#000000; stroke-width:2; stroke-opacity:0.1; fill:none\" points=\"\n  913.758,616.7 913.758,47.2441 \n  \"/>\n<polyline clip-path=\"url(#clip622)\" style=\"stroke:#000000; stroke-width:2; stroke-opacity:0.1; fill:none\" points=\"\n  1124.33,616.7 1124.33,47.2441 \n  \"/>\n<polyline clip-path=\"url(#clip622)\" style=\"stroke:#000000; stroke-width:2; stroke-opacity:0.1; fill:none\" points=\"\n  148.334,519.889 1152.76,519.889 \n  \"/>\n<polyline clip-path=\"url(#clip622)\" style=\"stroke:#000000; stroke-width:2; stroke-opacity:0.1; fill:none\" points=\"\n  148.334,404.251 1152.76,404.251 \n  \"/>\n<polyline clip-path=\"url(#clip622)\" style=\"stroke:#000000; stroke-width:2; stroke-opacity:0.1; fill:none\" points=\"\n  148.334,288.613 1152.76,288.613 \n  \"/>\n<polyline clip-path=\"url(#clip622)\" style=\"stroke:#000000; stroke-width:2; stroke-opacity:0.1; fill:none\" points=\"\n  148.334,172.975 1152.76,172.975 \n  \"/>\n<polyline clip-path=\"url(#clip622)\" style=\"stroke:#000000; stroke-width:2; stroke-opacity:0.1; fill:none\" points=\"\n  148.334,57.3364 1152.76,57.3364 \n  \"/>\n<polyline clip-path=\"url(#clip620)\" style=\"stroke:#000000; stroke-width:4; stroke-opacity:1; fill:none\" points=\"\n  148.334,616.7 1152.76,616.7 \n  \"/>\n<polyline clip-path=\"url(#clip620)\" style=\"stroke:#000000; stroke-width:4; stroke-opacity:1; fill:none\" points=\"\n  148.334,616.7 148.334,47.2441 \n  \"/>\n<polyline clip-path=\"url(#clip620)\" style=\"stroke:#000000; stroke-width:4; stroke-opacity:1; fill:none\" points=\"\n  282.047,616.7 282.047,609.866 \n  \"/>\n<polyline clip-path=\"url(#clip620)\" style=\"stroke:#000000; stroke-width:4; stroke-opacity:1; fill:none\" points=\"\n  492.617,616.7 492.617,609.866 \n  \"/>\n<polyline clip-path=\"url(#clip620)\" style=\"stroke:#000000; stroke-width:4; stroke-opacity:1; fill:none\" points=\"\n  703.188,616.7 703.188,609.866 \n  \"/>\n<polyline clip-path=\"url(#clip620)\" style=\"stroke:#000000; stroke-width:4; stroke-opacity:1; fill:none\" points=\"\n  913.758,616.7 913.758,609.866 \n  \"/>\n<polyline clip-path=\"url(#clip620)\" style=\"stroke:#000000; stroke-width:4; stroke-opacity:1; fill:none\" points=\"\n  1124.33,616.7 1124.33,609.866 \n  \"/>\n<polyline clip-path=\"url(#clip620)\" style=\"stroke:#000000; stroke-width:4; stroke-opacity:1; fill:none\" points=\"\n  148.334,519.889 160.387,519.889 \n  \"/>\n<polyline clip-path=\"url(#clip620)\" style=\"stroke:#000000; stroke-width:4; stroke-opacity:1; fill:none\" points=\"\n  148.334,404.251 160.387,404.251 \n  \"/>\n<polyline clip-path=\"url(#clip620)\" style=\"stroke:#000000; stroke-width:4; stroke-opacity:1; fill:none\" points=\"\n  148.334,288.613 160.387,288.613 \n  \"/>\n<polyline clip-path=\"url(#clip620)\" style=\"stroke:#000000; stroke-width:4; stroke-opacity:1; fill:none\" points=\"\n  148.334,172.975 160.387,172.975 \n  \"/>\n<polyline clip-path=\"url(#clip620)\" style=\"stroke:#000000; stroke-width:4; stroke-opacity:1; fill:none\" points=\"\n  148.334,57.3364 160.387,57.3364 \n  \"/>\n<path clip-path=\"url(#clip620)\" d=\"M 0 0 M276.699 666.237 L293.019 666.237 L293.019 670.172 L271.075 670.172 L271.075 666.237 Q273.737 663.482 278.32 658.852 Q282.926 654.2 284.107 652.857 Q286.352 650.334 287.232 648.598 Q288.135 646.839 288.135 645.149 Q288.135 642.394 286.19 640.658 Q284.269 638.922 281.167 638.922 Q278.968 638.922 276.514 639.686 Q274.084 640.45 271.306 642.001 L271.306 637.279 Q274.13 636.144 276.584 635.566 Q279.037 634.987 281.074 634.987 Q286.445 634.987 289.639 637.672 Q292.834 640.357 292.834 644.848 Q292.834 646.978 292.023 648.899 Q291.236 650.797 289.13 653.39 Q288.551 654.061 285.449 657.278 Q282.348 660.473 276.699 666.237 Z\" fill=\"#000000\" fill-rule=\"evenodd\" fill-opacity=\"1\" /><path clip-path=\"url(#clip620)\" d=\"M 0 0 M495.626 639.686 L483.821 658.135 L495.626 658.135 L495.626 639.686 M494.4 635.612 L500.279 635.612 L500.279 658.135 L505.21 658.135 L505.21 662.024 L500.279 662.024 L500.279 670.172 L495.626 670.172 L495.626 662.024 L480.025 662.024 L480.025 657.51 L494.4 635.612 Z\" fill=\"#000000\" fill-rule=\"evenodd\" fill-opacity=\"1\" /><path clip-path=\"url(#clip620)\" d=\"M 0 0 M703.593 651.028 Q700.445 651.028 698.593 653.181 Q696.764 655.334 696.764 659.084 Q696.764 662.811 698.593 664.987 Q700.445 667.139 703.593 667.139 Q706.741 667.139 708.57 664.987 Q710.422 662.811 710.422 659.084 Q710.422 655.334 708.57 653.181 Q706.741 651.028 703.593 651.028 M712.875 636.376 L712.875 640.635 Q711.116 639.802 709.31 639.362 Q707.528 638.922 705.769 638.922 Q701.139 638.922 698.685 642.047 Q696.255 645.172 695.908 651.491 Q697.273 649.478 699.334 648.413 Q701.394 647.325 703.871 647.325 Q709.079 647.325 712.088 650.496 Q715.121 653.644 715.121 659.084 Q715.121 664.408 711.972 667.626 Q708.824 670.843 703.593 670.843 Q697.598 670.843 694.426 666.26 Q691.255 661.653 691.255 652.927 Q691.255 644.732 695.144 639.871 Q699.033 634.987 705.584 634.987 Q707.343 634.987 709.125 635.334 Q710.931 635.681 712.875 636.376 Z\" fill=\"#000000\" fill-rule=\"evenodd\" fill-opacity=\"1\" /><path clip-path=\"url(#clip620)\" d=\"M 0 0 M913.758 653.76 Q910.425 653.76 908.504 655.542 Q906.606 657.325 906.606 660.45 Q906.606 663.575 908.504 665.357 Q910.425 667.139 913.758 667.139 Q917.092 667.139 919.013 665.357 Q920.934 663.552 920.934 660.45 Q920.934 657.325 919.013 655.542 Q917.115 653.76 913.758 653.76 M909.082 651.769 Q906.073 651.028 904.383 648.968 Q902.717 646.908 902.717 643.945 Q902.717 639.802 905.657 637.394 Q908.619 634.987 913.758 634.987 Q918.92 634.987 921.86 637.394 Q924.8 639.802 924.8 643.945 Q924.8 646.908 923.11 648.968 Q921.443 651.028 918.457 651.769 Q921.837 652.556 923.712 654.848 Q925.61 657.14 925.61 660.45 Q925.61 665.473 922.531 668.158 Q919.476 670.843 913.758 670.843 Q908.041 670.843 904.962 668.158 Q901.907 665.473 901.907 660.45 Q901.907 657.14 903.805 654.848 Q905.703 652.556 909.082 651.769 M907.369 644.385 Q907.369 647.07 909.036 648.575 Q910.726 650.079 913.758 650.079 Q916.768 650.079 918.457 648.575 Q920.17 647.07 920.17 644.385 Q920.17 641.7 918.457 640.195 Q916.768 638.691 913.758 638.691 Q910.726 638.691 909.036 640.195 Q907.369 641.7 907.369 644.385 Z\" fill=\"#000000\" fill-rule=\"evenodd\" fill-opacity=\"1\" /><path clip-path=\"url(#clip620)\" d=\"M 0 0 M1101.2 666.237 L1108.84 666.237 L1108.84 639.871 L1100.53 641.538 L1100.53 637.279 L1108.8 635.612 L1113.47 635.612 L1113.47 666.237 L1121.11 666.237 L1121.11 670.172 L1101.2 670.172 L1101.2 666.237 Z\" fill=\"#000000\" fill-rule=\"evenodd\" fill-opacity=\"1\" /><path clip-path=\"url(#clip620)\" d=\"M 0 0 M1136.18 638.691 Q1132.57 638.691 1130.74 642.255 Q1128.94 645.797 1128.94 652.927 Q1128.94 660.033 1130.74 663.598 Q1132.57 667.139 1136.18 667.139 Q1139.81 667.139 1141.62 663.598 Q1143.45 660.033 1143.45 652.927 Q1143.45 645.797 1141.62 642.255 Q1139.81 638.691 1136.18 638.691 M1136.18 634.987 Q1141.99 634.987 1145.05 639.593 Q1148.13 644.177 1148.13 652.927 Q1148.13 661.653 1145.05 666.26 Q1141.99 670.843 1136.18 670.843 Q1130.37 670.843 1127.29 666.26 Q1124.24 661.653 1124.24 652.927 Q1124.24 644.177 1127.29 639.593 Q1130.37 634.987 1136.18 634.987 Z\" fill=\"#000000\" fill-rule=\"evenodd\" fill-opacity=\"1\" /><path clip-path=\"url(#clip620)\" d=\"M 0 0 M77.0198 505.688 Q73.4087 505.688 71.58 509.253 Q69.7745 512.794 69.7745 519.924 Q69.7745 527.03 71.58 530.595 Q73.4087 534.137 77.0198 534.137 Q80.6541 534.137 82.4596 530.595 Q84.2883 527.03 84.2883 519.924 Q84.2883 512.794 82.4596 509.253 Q80.6541 505.688 77.0198 505.688 M77.0198 501.984 Q82.83 501.984 85.8855 506.591 Q88.9642 511.174 88.9642 519.924 Q88.9642 528.651 85.8855 533.257 Q82.83 537.84 77.0198 537.84 Q71.2097 537.84 68.131 533.257 Q65.0754 528.651 65.0754 519.924 Q65.0754 511.174 68.131 506.591 Q71.2097 501.984 77.0198 501.984 Z\" fill=\"#000000\" fill-rule=\"evenodd\" fill-opacity=\"1\" /><path clip-path=\"url(#clip620)\" d=\"M 0 0 M94.0336 531.29 L98.9179 531.29 L98.9179 537.169 L94.0336 537.169 L94.0336 531.29 Z\" fill=\"#000000\" fill-rule=\"evenodd\" fill-opacity=\"1\" /><path clip-path=\"url(#clip620)\" d=\"M 0 0 M108.015 533.234 L124.334 533.234 L124.334 537.169 L102.39 537.169 L102.39 533.234 Q105.052 530.479 109.635 525.85 Q114.242 521.197 115.422 519.854 Q117.668 517.331 118.547 515.595 Q119.45 513.836 119.45 512.146 Q119.45 509.391 117.506 507.655 Q115.584 505.919 112.483 505.919 Q110.284 505.919 107.83 506.683 Q105.399 507.447 102.622 508.998 L102.622 504.276 Q105.446 503.142 107.899 502.563 Q110.353 501.984 112.39 501.984 Q117.76 501.984 120.955 504.669 Q124.149 507.354 124.149 511.845 Q124.149 513.975 123.339 515.896 Q122.552 517.794 120.446 520.387 Q119.867 521.058 116.765 524.276 Q113.663 527.47 108.015 533.234 Z\" fill=\"#000000\" fill-rule=\"evenodd\" fill-opacity=\"1\" /><path clip-path=\"url(#clip620)\" d=\"M 0 0 M74.9365 390.05 Q71.3254 390.05 69.4967 393.614 Q67.6912 397.156 67.6912 404.286 Q67.6912 411.392 69.4967 414.957 Q71.3254 418.499 74.9365 418.499 Q78.5707 418.499 80.3763 414.957 Q82.205 411.392 82.205 404.286 Q82.205 397.156 80.3763 393.614 Q78.5707 390.05 74.9365 390.05 M74.9365 386.346 Q80.7467 386.346 83.8022 390.952 Q86.8809 395.536 86.8809 404.286 Q86.8809 413.012 83.8022 417.619 Q80.7467 422.202 74.9365 422.202 Q69.1264 422.202 66.0477 417.619 Q62.9921 413.012 62.9921 404.286 Q62.9921 395.536 66.0477 390.952 Q69.1264 386.346 74.9365 386.346 Z\" fill=\"#000000\" fill-rule=\"evenodd\" fill-opacity=\"1\" /><path clip-path=\"url(#clip620)\" d=\"M 0 0 M91.9503 415.651 L96.8345 415.651 L96.8345 421.531 L91.9503 421.531 L91.9503 415.651 Z\" fill=\"#000000\" fill-rule=\"evenodd\" fill-opacity=\"1\" /><path clip-path=\"url(#clip620)\" d=\"M 0 0 M114.751 391.045 L102.946 409.494 L114.751 409.494 L114.751 391.045 M113.524 386.971 L119.404 386.971 L119.404 409.494 L124.334 409.494 L124.334 413.383 L119.404 413.383 L119.404 421.531 L114.751 421.531 L114.751 413.383 L99.1493 413.383 L99.1493 408.869 L113.524 386.971 Z\" fill=\"#000000\" fill-rule=\"evenodd\" fill-opacity=\"1\" /><path clip-path=\"url(#clip620)\" d=\"M 0 0 M75.2606 274.411 Q71.6495 274.411 69.8208 277.976 Q68.0152 281.518 68.0152 288.647 Q68.0152 295.754 69.8208 299.319 Q71.6495 302.86 75.2606 302.86 Q78.8948 302.86 80.7004 299.319 Q82.5291 295.754 82.5291 288.647 Q82.5291 281.518 80.7004 277.976 Q78.8948 274.411 75.2606 274.411 M75.2606 270.708 Q81.0707 270.708 84.1263 275.314 Q87.205 279.898 87.205 288.647 Q87.205 297.374 84.1263 301.981 Q81.0707 306.564 75.2606 306.564 Q69.4504 306.564 66.3717 301.981 Q63.3162 297.374 63.3162 288.647 Q63.3162 279.898 66.3717 275.314 Q69.4504 270.708 75.2606 270.708 Z\" fill=\"#000000\" fill-rule=\"evenodd\" fill-opacity=\"1\" /><path clip-path=\"url(#clip620)\" d=\"M 0 0 M92.2744 300.013 L97.1586 300.013 L97.1586 305.893 L92.2744 305.893 L92.2744 300.013 Z\" fill=\"#000000\" fill-rule=\"evenodd\" fill-opacity=\"1\" /><path clip-path=\"url(#clip620)\" d=\"M 0 0 M112.807 286.749 Q109.659 286.749 107.807 288.902 Q105.978 291.055 105.978 294.805 Q105.978 298.532 107.807 300.708 Q109.659 302.86 112.807 302.86 Q115.955 302.86 117.783 300.708 Q119.635 298.532 119.635 294.805 Q119.635 291.055 117.783 288.902 Q115.955 286.749 112.807 286.749 M122.089 272.097 L122.089 276.356 Q120.33 275.523 118.524 275.083 Q116.742 274.643 114.983 274.643 Q110.353 274.643 107.899 277.768 Q105.469 280.893 105.122 287.212 Q106.487 285.198 108.547 284.134 Q110.608 283.046 113.084 283.046 Q118.293 283.046 121.302 286.217 Q124.334 289.365 124.334 294.805 Q124.334 300.129 121.186 303.346 Q118.038 306.564 112.807 306.564 Q106.811 306.564 103.64 301.981 Q100.469 297.374 100.469 288.647 Q100.469 280.453 104.358 275.592 Q108.247 270.708 114.797 270.708 Q116.557 270.708 118.339 271.055 Q120.145 271.402 122.089 272.097 Z\" fill=\"#000000\" fill-rule=\"evenodd\" fill-opacity=\"1\" /><path clip-path=\"url(#clip620)\" d=\"M 0 0 M75.5152 158.773 Q71.9041 158.773 70.0754 162.338 Q68.2699 165.88 68.2699 173.009 Q68.2699 180.116 70.0754 183.681 Q71.9041 187.222 75.5152 187.222 Q79.1494 187.222 80.955 183.681 Q82.7837 180.116 82.7837 173.009 Q82.7837 165.88 80.955 162.338 Q79.1494 158.773 75.5152 158.773 M75.5152 155.07 Q81.3254 155.07 84.3809 159.676 Q87.4596 164.259 87.4596 173.009 Q87.4596 181.736 84.3809 186.343 Q81.3254 190.926 75.5152 190.926 Q69.7051 190.926 66.6264 186.343 Q63.5708 181.736 63.5708 173.009 Q63.5708 164.259 66.6264 159.676 Q69.7051 155.07 75.5152 155.07 Z\" fill=\"#000000\" fill-rule=\"evenodd\" fill-opacity=\"1\" /><path clip-path=\"url(#clip620)\" d=\"M 0 0 M92.529 184.375 L97.4132 184.375 L97.4132 190.255 L92.529 190.255 L92.529 184.375 Z\" fill=\"#000000\" fill-rule=\"evenodd\" fill-opacity=\"1\" /><path clip-path=\"url(#clip620)\" d=\"M 0 0 M112.483 173.843 Q109.149 173.843 107.228 175.625 Q105.33 177.407 105.33 180.532 Q105.33 183.657 107.228 185.44 Q109.149 187.222 112.483 187.222 Q115.816 187.222 117.737 185.44 Q119.658 183.634 119.658 180.532 Q119.658 177.407 117.737 175.625 Q115.839 173.843 112.483 173.843 M107.807 171.852 Q104.797 171.111 103.108 169.051 Q101.441 166.991 101.441 164.028 Q101.441 159.884 104.381 157.477 Q107.344 155.07 112.483 155.07 Q117.645 155.07 120.584 157.477 Q123.524 159.884 123.524 164.028 Q123.524 166.991 121.834 169.051 Q120.168 171.111 117.182 171.852 Q120.561 172.639 122.436 174.931 Q124.334 177.222 124.334 180.532 Q124.334 185.556 121.256 188.241 Q118.2 190.926 112.483 190.926 Q106.765 190.926 103.686 188.241 Q100.631 185.556 100.631 180.532 Q100.631 177.222 102.529 174.931 Q104.427 172.639 107.807 171.852 M106.094 164.468 Q106.094 167.153 107.76 168.657 Q109.45 170.162 112.483 170.162 Q115.492 170.162 117.182 168.657 Q118.895 167.153 118.895 164.468 Q118.895 161.783 117.182 160.278 Q115.492 158.773 112.483 158.773 Q109.45 158.773 107.76 160.278 Q106.094 161.783 106.094 164.468 Z\" fill=\"#000000\" fill-rule=\"evenodd\" fill-opacity=\"1\" /><path clip-path=\"url(#clip620)\" d=\"M 0 0 M67.4597 70.6813 L75.0985 70.6813 L75.0985 44.3157 L66.7884 45.9823 L66.7884 41.7231 L75.0522 40.0564 L79.7281 40.0564 L79.7281 70.6813 L87.367 70.6813 L87.367 74.6164 L67.4597 74.6164 L67.4597 70.6813 Z\" fill=\"#000000\" fill-rule=\"evenodd\" fill-opacity=\"1\" /><path clip-path=\"url(#clip620)\" d=\"M 0 0 M92.4364 68.7368 L97.3206 68.7368 L97.3206 74.6164 L92.4364 74.6164 L92.4364 68.7368 Z\" fill=\"#000000\" fill-rule=\"evenodd\" fill-opacity=\"1\" /><path clip-path=\"url(#clip620)\" d=\"M 0 0 M112.39 43.1351 Q108.779 43.1351 106.95 46.6999 Q105.145 50.2416 105.145 57.3711 Q105.145 64.4776 106.95 68.0424 Q108.779 71.584 112.39 71.584 Q116.024 71.584 117.83 68.0424 Q119.658 64.4776 119.658 57.3711 Q119.658 50.2416 117.83 46.6999 Q116.024 43.1351 112.39 43.1351 M112.39 39.4314 Q118.2 39.4314 121.256 44.0379 Q124.334 48.6212 124.334 57.3711 Q124.334 66.098 121.256 70.7044 Q118.2 75.2877 112.39 75.2877 Q106.58 75.2877 103.501 70.7044 Q100.446 66.098 100.446 57.3711 Q100.446 48.6212 103.501 44.0379 Q106.58 39.4314 112.39 39.4314 Z\" fill=\"#000000\" fill-rule=\"evenodd\" fill-opacity=\"1\" /><polyline clip-path=\"url(#clip622)\" style=\"stroke:#009af9; stroke-width:4; stroke-opacity:1; fill:none\" points=\"\n  176.761,119.286 282.047,307.189 387.332,71.5739 492.617,172.156 597.903,319.055 703.188,374.982 808.473,406.368 913.758,194.21 1019.04,575.811 1124.33,336.452 \n  \n  \"/>\n<polyline clip-path=\"url(#clip622)\" style=\"stroke:#e26f46; stroke-width:4; stroke-opacity:1; fill:none\" points=\"\n  176.761,518.533 282.047,494.985 387.332,571.029 492.617,104.666 597.903,509.52 703.188,526.725 808.473,285.218 913.758,600.583 1019.04,265.262 1124.33,341.144 \n  \n  \"/>\n<polyline clip-path=\"url(#clip622)\" style=\"stroke:#3da44d; stroke-width:4; stroke-opacity:1; fill:none\" points=\"\n  176.761,569.616 282.047,285.661 387.332,149.009 492.617,219.11 597.903,406.031 703.188,377.067 808.473,74.5657 913.758,573.862 1019.04,432.442 1124.33,431.931 \n  \n  \"/>\n<polyline clip-path=\"url(#clip622)\" style=\"stroke:#c271d2; stroke-width:4; stroke-opacity:1; fill:none\" points=\"\n  176.761,557.11 282.047,413.292 387.332,584.925 492.617,117.368 597.903,98.6701 703.188,63.3608 808.473,379.207 913.758,524.877 1019.04,403.585 1124.33,437.4 \n  \n  \"/>\n<path clip-path=\"url(#clip620)\" d=\"\nM1348.33 616.7 L2352.76 616.7 L2352.76 47.2441 L1348.33 47.2441  Z\n  \" fill=\"#ffffff\" fill-rule=\"evenodd\" fill-opacity=\"1\"/>\n<defs>\n  <clipPath id=\"clip623\">\n    <rect x=\"1348\" y=\"47\" width=\"1005\" height=\"570\"/>\n  </clipPath>\n</defs>\n<polyline clip-path=\"url(#clip623)\" style=\"stroke:#000000; stroke-width:2; stroke-opacity:0.1; fill:none\" points=\"\n  1482.05,616.7 1482.05,47.2441 \n  \"/>\n<polyline clip-path=\"url(#clip623)\" style=\"stroke:#000000; stroke-width:2; stroke-opacity:0.1; fill:none\" points=\"\n  1692.62,616.7 1692.62,47.2441 \n  \"/>\n<polyline clip-path=\"url(#clip623)\" style=\"stroke:#000000; stroke-width:2; stroke-opacity:0.1; fill:none\" points=\"\n  1903.19,616.7 1903.19,47.2441 \n  \"/>\n<polyline clip-path=\"url(#clip623)\" style=\"stroke:#000000; stroke-width:2; stroke-opacity:0.1; fill:none\" points=\"\n  2113.76,616.7 2113.76,47.2441 \n  \"/>\n<polyline clip-path=\"url(#clip623)\" style=\"stroke:#000000; stroke-width:2; stroke-opacity:0.1; fill:none\" points=\"\n  2324.33,616.7 2324.33,47.2441 \n  \"/>\n<polyline clip-path=\"url(#clip623)\" style=\"stroke:#000000; stroke-width:2; stroke-opacity:0.1; fill:none\" points=\"\n  1348.33,519.889 2352.76,519.889 \n  \"/>\n<polyline clip-path=\"url(#clip623)\" style=\"stroke:#000000; stroke-width:2; stroke-opacity:0.1; fill:none\" points=\"\n  1348.33,404.251 2352.76,404.251 \n  \"/>\n<polyline clip-path=\"url(#clip623)\" style=\"stroke:#000000; stroke-width:2; stroke-opacity:0.1; fill:none\" points=\"\n  1348.33,288.613 2352.76,288.613 \n  \"/>\n<polyline clip-path=\"url(#clip623)\" style=\"stroke:#000000; stroke-width:2; stroke-opacity:0.1; fill:none\" points=\"\n  1348.33,172.975 2352.76,172.975 \n  \"/>\n<polyline clip-path=\"url(#clip623)\" style=\"stroke:#000000; stroke-width:2; stroke-opacity:0.1; fill:none\" points=\"\n  1348.33,57.3364 2352.76,57.3364 \n  \"/>\n<polyline clip-path=\"url(#clip620)\" style=\"stroke:#000000; stroke-width:4; stroke-opacity:1; fill:none\" points=\"\n  1348.33,616.7 2352.76,616.7 \n  \"/>\n<polyline clip-path=\"url(#clip620)\" style=\"stroke:#000000; stroke-width:4; stroke-opacity:1; fill:none\" points=\"\n  1348.33,616.7 1348.33,47.2441 \n  \"/>\n<polyline clip-path=\"url(#clip620)\" style=\"stroke:#000000; stroke-width:4; stroke-opacity:1; fill:none\" points=\"\n  1482.05,616.7 1482.05,609.866 \n  \"/>\n<polyline clip-path=\"url(#clip620)\" style=\"stroke:#000000; stroke-width:4; stroke-opacity:1; fill:none\" points=\"\n  1692.62,616.7 1692.62,609.866 \n  \"/>\n<polyline clip-path=\"url(#clip620)\" style=\"stroke:#000000; stroke-width:4; stroke-opacity:1; fill:none\" points=\"\n  1903.19,616.7 1903.19,609.866 \n  \"/>\n<polyline clip-path=\"url(#clip620)\" style=\"stroke:#000000; stroke-width:4; stroke-opacity:1; fill:none\" points=\"\n  2113.76,616.7 2113.76,609.866 \n  \"/>\n<polyline clip-path=\"url(#clip620)\" style=\"stroke:#000000; stroke-width:4; stroke-opacity:1; fill:none\" points=\"\n  2324.33,616.7 2324.33,609.866 \n  \"/>\n<polyline clip-path=\"url(#clip620)\" style=\"stroke:#000000; stroke-width:4; stroke-opacity:1; fill:none\" points=\"\n  1348.33,519.889 1360.39,519.889 \n  \"/>\n<polyline clip-path=\"url(#clip620)\" style=\"stroke:#000000; stroke-width:4; stroke-opacity:1; fill:none\" points=\"\n  1348.33,404.251 1360.39,404.251 \n  \"/>\n<polyline clip-path=\"url(#clip620)\" style=\"stroke:#000000; stroke-width:4; stroke-opacity:1; fill:none\" points=\"\n  1348.33,288.613 1360.39,288.613 \n  \"/>\n<polyline clip-path=\"url(#clip620)\" style=\"stroke:#000000; stroke-width:4; stroke-opacity:1; fill:none\" points=\"\n  1348.33,172.975 1360.39,172.975 \n  \"/>\n<polyline clip-path=\"url(#clip620)\" style=\"stroke:#000000; stroke-width:4; stroke-opacity:1; fill:none\" points=\"\n  1348.33,57.3364 1360.39,57.3364 \n  \"/>\n<path clip-path=\"url(#clip620)\" d=\"M 0 0 M1476.7 666.237 L1493.02 666.237 L1493.02 670.172 L1471.07 670.172 L1471.07 666.237 Q1473.74 663.482 1478.32 658.852 Q1482.93 654.2 1484.11 652.857 Q1486.35 650.334 1487.23 648.598 Q1488.13 646.839 1488.13 645.149 Q1488.13 642.394 1486.19 640.658 Q1484.27 638.922 1481.17 638.922 Q1478.97 638.922 1476.51 639.686 Q1474.08 640.45 1471.31 642.001 L1471.31 637.279 Q1474.13 636.144 1476.58 635.566 Q1479.04 634.987 1481.07 634.987 Q1486.44 634.987 1489.64 637.672 Q1492.83 640.357 1492.83 644.848 Q1492.83 646.978 1492.02 648.899 Q1491.24 650.797 1489.13 653.39 Q1488.55 654.061 1485.45 657.278 Q1482.35 660.473 1476.7 666.237 Z\" fill=\"#000000\" fill-rule=\"evenodd\" fill-opacity=\"1\" /><path clip-path=\"url(#clip620)\" d=\"M 0 0 M1695.63 639.686 L1683.82 658.135 L1695.63 658.135 L1695.63 639.686 M1694.4 635.612 L1700.28 635.612 L1700.28 658.135 L1705.21 658.135 L1705.21 662.024 L1700.28 662.024 L1700.28 670.172 L1695.63 670.172 L1695.63 662.024 L1680.02 662.024 L1680.02 657.51 L1694.4 635.612 Z\" fill=\"#000000\" fill-rule=\"evenodd\" fill-opacity=\"1\" /><path clip-path=\"url(#clip620)\" d=\"M 0 0 M1903.59 651.028 Q1900.44 651.028 1898.59 653.181 Q1896.76 655.334 1896.76 659.084 Q1896.76 662.811 1898.59 664.987 Q1900.44 667.139 1903.59 667.139 Q1906.74 667.139 1908.57 664.987 Q1910.42 662.811 1910.42 659.084 Q1910.42 655.334 1908.57 653.181 Q1906.74 651.028 1903.59 651.028 M1912.88 636.376 L1912.88 640.635 Q1911.12 639.802 1909.31 639.362 Q1907.53 638.922 1905.77 638.922 Q1901.14 638.922 1898.69 642.047 Q1896.25 645.172 1895.91 651.491 Q1897.27 649.478 1899.33 648.413 Q1901.39 647.325 1903.87 647.325 Q1909.08 647.325 1912.09 650.496 Q1915.12 653.644 1915.12 659.084 Q1915.12 664.408 1911.97 667.626 Q1908.82 670.843 1903.59 670.843 Q1897.6 670.843 1894.43 666.26 Q1891.25 661.653 1891.25 652.927 Q1891.25 644.732 1895.14 639.871 Q1899.03 634.987 1905.58 634.987 Q1907.34 634.987 1909.13 635.334 Q1910.93 635.681 1912.88 636.376 Z\" fill=\"#000000\" fill-rule=\"evenodd\" fill-opacity=\"1\" /><path clip-path=\"url(#clip620)\" d=\"M 0 0 M2113.76 653.76 Q2110.43 653.76 2108.5 655.542 Q2106.61 657.325 2106.61 660.45 Q2106.61 663.575 2108.5 665.357 Q2110.43 667.139 2113.76 667.139 Q2117.09 667.139 2119.01 665.357 Q2120.93 663.552 2120.93 660.45 Q2120.93 657.325 2119.01 655.542 Q2117.11 653.76 2113.76 653.76 M2109.08 651.769 Q2106.07 651.028 2104.38 648.968 Q2102.72 646.908 2102.72 643.945 Q2102.72 639.802 2105.66 637.394 Q2108.62 634.987 2113.76 634.987 Q2118.92 634.987 2121.86 637.394 Q2124.8 639.802 2124.8 643.945 Q2124.8 646.908 2123.11 648.968 Q2121.44 651.028 2118.46 651.769 Q2121.84 652.556 2123.71 654.848 Q2125.61 657.14 2125.61 660.45 Q2125.61 665.473 2122.53 668.158 Q2119.48 670.843 2113.76 670.843 Q2108.04 670.843 2104.96 668.158 Q2101.91 665.473 2101.91 660.45 Q2101.91 657.14 2103.8 654.848 Q2105.7 652.556 2109.08 651.769 M2107.37 644.385 Q2107.37 647.07 2109.04 648.575 Q2110.73 650.079 2113.76 650.079 Q2116.77 650.079 2118.46 648.575 Q2120.17 647.07 2120.17 644.385 Q2120.17 641.7 2118.46 640.195 Q2116.77 638.691 2113.76 638.691 Q2110.73 638.691 2109.04 640.195 Q2107.37 641.7 2107.37 644.385 Z\" fill=\"#000000\" fill-rule=\"evenodd\" fill-opacity=\"1\" /><path clip-path=\"url(#clip620)\" d=\"M 0 0 M2301.2 666.237 L2308.84 666.237 L2308.84 639.871 L2300.53 641.538 L2300.53 637.279 L2308.8 635.612 L2313.47 635.612 L2313.47 666.237 L2321.11 666.237 L2321.11 670.172 L2301.2 670.172 L2301.2 666.237 Z\" fill=\"#000000\" fill-rule=\"evenodd\" fill-opacity=\"1\" /><path clip-path=\"url(#clip620)\" d=\"M 0 0 M2336.18 638.691 Q2332.57 638.691 2330.74 642.255 Q2328.94 645.797 2328.94 652.927 Q2328.94 660.033 2330.74 663.598 Q2332.57 667.139 2336.18 667.139 Q2339.81 667.139 2341.62 663.598 Q2343.45 660.033 2343.45 652.927 Q2343.45 645.797 2341.62 642.255 Q2339.81 638.691 2336.18 638.691 M2336.18 634.987 Q2341.99 634.987 2345.05 639.593 Q2348.13 644.177 2348.13 652.927 Q2348.13 661.653 2345.05 666.26 Q2341.99 670.843 2336.18 670.843 Q2330.37 670.843 2327.29 666.26 Q2324.24 661.653 2324.24 652.927 Q2324.24 644.177 2327.29 639.593 Q2330.37 634.987 2336.18 634.987 Z\" fill=\"#000000\" fill-rule=\"evenodd\" fill-opacity=\"1\" /><path clip-path=\"url(#clip620)\" d=\"M 0 0 M1277.02 505.688 Q1273.41 505.688 1271.58 509.253 Q1269.77 512.794 1269.77 519.924 Q1269.77 527.03 1271.58 530.595 Q1273.41 534.137 1277.02 534.137 Q1280.65 534.137 1282.46 530.595 Q1284.29 527.03 1284.29 519.924 Q1284.29 512.794 1282.46 509.253 Q1280.65 505.688 1277.02 505.688 M1277.02 501.984 Q1282.83 501.984 1285.89 506.591 Q1288.96 511.174 1288.96 519.924 Q1288.96 528.651 1285.89 533.257 Q1282.83 537.84 1277.02 537.84 Q1271.21 537.84 1268.13 533.257 Q1265.08 528.651 1265.08 519.924 Q1265.08 511.174 1268.13 506.591 Q1271.21 501.984 1277.02 501.984 Z\" fill=\"#000000\" fill-rule=\"evenodd\" fill-opacity=\"1\" /><path clip-path=\"url(#clip620)\" d=\"M 0 0 M1294.03 531.29 L1298.92 531.29 L1298.92 537.169 L1294.03 537.169 L1294.03 531.29 Z\" fill=\"#000000\" fill-rule=\"evenodd\" fill-opacity=\"1\" /><path clip-path=\"url(#clip620)\" d=\"M 0 0 M1308.02 533.234 L1324.33 533.234 L1324.33 537.169 L1302.39 537.169 L1302.39 533.234 Q1305.05 530.479 1309.64 525.85 Q1314.24 521.197 1315.42 519.854 Q1317.67 517.331 1318.55 515.595 Q1319.45 513.836 1319.45 512.146 Q1319.45 509.391 1317.51 507.655 Q1315.58 505.919 1312.48 505.919 Q1310.28 505.919 1307.83 506.683 Q1305.4 507.447 1302.62 508.998 L1302.62 504.276 Q1305.45 503.142 1307.9 502.563 Q1310.35 501.984 1312.39 501.984 Q1317.76 501.984 1320.95 504.669 Q1324.15 507.354 1324.15 511.845 Q1324.15 513.975 1323.34 515.896 Q1322.55 517.794 1320.45 520.387 Q1319.87 521.058 1316.76 524.276 Q1313.66 527.47 1308.02 533.234 Z\" fill=\"#000000\" fill-rule=\"evenodd\" fill-opacity=\"1\" /><path clip-path=\"url(#clip620)\" d=\"M 0 0 M1274.94 390.05 Q1271.33 390.05 1269.5 393.614 Q1267.69 397.156 1267.69 404.286 Q1267.69 411.392 1269.5 414.957 Q1271.33 418.499 1274.94 418.499 Q1278.57 418.499 1280.38 414.957 Q1282.2 411.392 1282.2 404.286 Q1282.2 397.156 1280.38 393.614 Q1278.57 390.05 1274.94 390.05 M1274.94 386.346 Q1280.75 386.346 1283.8 390.952 Q1286.88 395.536 1286.88 404.286 Q1286.88 413.012 1283.8 417.619 Q1280.75 422.202 1274.94 422.202 Q1269.13 422.202 1266.05 417.619 Q1262.99 413.012 1262.99 404.286 Q1262.99 395.536 1266.05 390.952 Q1269.13 386.346 1274.94 386.346 Z\" fill=\"#000000\" fill-rule=\"evenodd\" fill-opacity=\"1\" /><path clip-path=\"url(#clip620)\" d=\"M 0 0 M1291.95 415.651 L1296.83 415.651 L1296.83 421.531 L1291.95 421.531 L1291.95 415.651 Z\" fill=\"#000000\" fill-rule=\"evenodd\" fill-opacity=\"1\" /><path clip-path=\"url(#clip620)\" d=\"M 0 0 M1314.75 391.045 L1302.95 409.494 L1314.75 409.494 L1314.75 391.045 M1313.52 386.971 L1319.4 386.971 L1319.4 409.494 L1324.33 409.494 L1324.33 413.383 L1319.4 413.383 L1319.4 421.531 L1314.75 421.531 L1314.75 413.383 L1299.15 413.383 L1299.15 408.869 L1313.52 386.971 Z\" fill=\"#000000\" fill-rule=\"evenodd\" fill-opacity=\"1\" /><path clip-path=\"url(#clip620)\" d=\"M 0 0 M1275.26 274.411 Q1271.65 274.411 1269.82 277.976 Q1268.02 281.518 1268.02 288.647 Q1268.02 295.754 1269.82 299.319 Q1271.65 302.86 1275.26 302.86 Q1278.89 302.86 1280.7 299.319 Q1282.53 295.754 1282.53 288.647 Q1282.53 281.518 1280.7 277.976 Q1278.89 274.411 1275.26 274.411 M1275.26 270.708 Q1281.07 270.708 1284.13 275.314 Q1287.2 279.898 1287.2 288.647 Q1287.2 297.374 1284.13 301.981 Q1281.07 306.564 1275.26 306.564 Q1269.45 306.564 1266.37 301.981 Q1263.32 297.374 1263.32 288.647 Q1263.32 279.898 1266.37 275.314 Q1269.45 270.708 1275.26 270.708 Z\" fill=\"#000000\" fill-rule=\"evenodd\" fill-opacity=\"1\" /><path clip-path=\"url(#clip620)\" d=\"M 0 0 M1292.27 300.013 L1297.16 300.013 L1297.16 305.893 L1292.27 305.893 L1292.27 300.013 Z\" fill=\"#000000\" fill-rule=\"evenodd\" fill-opacity=\"1\" /><path clip-path=\"url(#clip620)\" d=\"M 0 0 M1312.81 286.749 Q1309.66 286.749 1307.81 288.902 Q1305.98 291.055 1305.98 294.805 Q1305.98 298.532 1307.81 300.708 Q1309.66 302.86 1312.81 302.86 Q1315.95 302.86 1317.78 300.708 Q1319.64 298.532 1319.64 294.805 Q1319.64 291.055 1317.78 288.902 Q1315.95 286.749 1312.81 286.749 M1322.09 272.097 L1322.09 276.356 Q1320.33 275.523 1318.52 275.083 Q1316.74 274.643 1314.98 274.643 Q1310.35 274.643 1307.9 277.768 Q1305.47 280.893 1305.12 287.212 Q1306.49 285.198 1308.55 284.134 Q1310.61 283.046 1313.08 283.046 Q1318.29 283.046 1321.3 286.217 Q1324.33 289.365 1324.33 294.805 Q1324.33 300.129 1321.19 303.346 Q1318.04 306.564 1312.81 306.564 Q1306.81 306.564 1303.64 301.981 Q1300.47 297.374 1300.47 288.647 Q1300.47 280.453 1304.36 275.592 Q1308.25 270.708 1314.8 270.708 Q1316.56 270.708 1318.34 271.055 Q1320.14 271.402 1322.09 272.097 Z\" fill=\"#000000\" fill-rule=\"evenodd\" fill-opacity=\"1\" /><path clip-path=\"url(#clip620)\" d=\"M 0 0 M1275.52 158.773 Q1271.9 158.773 1270.08 162.338 Q1268.27 165.88 1268.27 173.009 Q1268.27 180.116 1270.08 183.681 Q1271.9 187.222 1275.52 187.222 Q1279.15 187.222 1280.95 183.681 Q1282.78 180.116 1282.78 173.009 Q1282.78 165.88 1280.95 162.338 Q1279.15 158.773 1275.52 158.773 M1275.52 155.07 Q1281.33 155.07 1284.38 159.676 Q1287.46 164.259 1287.46 173.009 Q1287.46 181.736 1284.38 186.343 Q1281.33 190.926 1275.52 190.926 Q1269.71 190.926 1266.63 186.343 Q1263.57 181.736 1263.57 173.009 Q1263.57 164.259 1266.63 159.676 Q1269.71 155.07 1275.52 155.07 Z\" fill=\"#000000\" fill-rule=\"evenodd\" fill-opacity=\"1\" /><path clip-path=\"url(#clip620)\" d=\"M 0 0 M1292.53 184.375 L1297.41 184.375 L1297.41 190.255 L1292.53 190.255 L1292.53 184.375 Z\" fill=\"#000000\" fill-rule=\"evenodd\" fill-opacity=\"1\" /><path clip-path=\"url(#clip620)\" d=\"M 0 0 M1312.48 173.843 Q1309.15 173.843 1307.23 175.625 Q1305.33 177.407 1305.33 180.532 Q1305.33 183.657 1307.23 185.44 Q1309.15 187.222 1312.48 187.222 Q1315.82 187.222 1317.74 185.44 Q1319.66 183.634 1319.66 180.532 Q1319.66 177.407 1317.74 175.625 Q1315.84 173.843 1312.48 173.843 M1307.81 171.852 Q1304.8 171.111 1303.11 169.051 Q1301.44 166.991 1301.44 164.028 Q1301.44 159.884 1304.38 157.477 Q1307.34 155.07 1312.48 155.07 Q1317.64 155.07 1320.58 157.477 Q1323.52 159.884 1323.52 164.028 Q1323.52 166.991 1321.83 169.051 Q1320.17 171.111 1317.18 171.852 Q1320.56 172.639 1322.44 174.931 Q1324.33 177.222 1324.33 180.532 Q1324.33 185.556 1321.26 188.241 Q1318.2 190.926 1312.48 190.926 Q1306.77 190.926 1303.69 188.241 Q1300.63 185.556 1300.63 180.532 Q1300.63 177.222 1302.53 174.931 Q1304.43 172.639 1307.81 171.852 M1306.09 164.468 Q1306.09 167.153 1307.76 168.657 Q1309.45 170.162 1312.48 170.162 Q1315.49 170.162 1317.18 168.657 Q1318.89 167.153 1318.89 164.468 Q1318.89 161.783 1317.18 160.278 Q1315.49 158.773 1312.48 158.773 Q1309.45 158.773 1307.76 160.278 Q1306.09 161.783 1306.09 164.468 Z\" fill=\"#000000\" fill-rule=\"evenodd\" fill-opacity=\"1\" /><path clip-path=\"url(#clip620)\" d=\"M 0 0 M1267.46 70.6813 L1275.1 70.6813 L1275.1 44.3157 L1266.79 45.9823 L1266.79 41.7231 L1275.05 40.0564 L1279.73 40.0564 L1279.73 70.6813 L1287.37 70.6813 L1287.37 74.6164 L1267.46 74.6164 L1267.46 70.6813 Z\" fill=\"#000000\" fill-rule=\"evenodd\" fill-opacity=\"1\" /><path clip-path=\"url(#clip620)\" d=\"M 0 0 M1292.44 68.7368 L1297.32 68.7368 L1297.32 74.6164 L1292.44 74.6164 L1292.44 68.7368 Z\" fill=\"#000000\" fill-rule=\"evenodd\" fill-opacity=\"1\" /><path clip-path=\"url(#clip620)\" d=\"M 0 0 M1312.39 43.1351 Q1308.78 43.1351 1306.95 46.6999 Q1305.14 50.2416 1305.14 57.3711 Q1305.14 64.4776 1306.95 68.0424 Q1308.78 71.584 1312.39 71.584 Q1316.02 71.584 1317.83 68.0424 Q1319.66 64.4776 1319.66 57.3711 Q1319.66 50.2416 1317.83 46.6999 Q1316.02 43.1351 1312.39 43.1351 M1312.39 39.4314 Q1318.2 39.4314 1321.26 44.0379 Q1324.33 48.6212 1324.33 57.3711 Q1324.33 66.098 1321.26 70.7044 Q1318.2 75.2877 1312.39 75.2877 Q1306.58 75.2877 1303.5 70.7044 Q1300.45 66.098 1300.45 57.3711 Q1300.45 48.6212 1303.5 44.0379 Q1306.58 39.4314 1312.39 39.4314 Z\" fill=\"#000000\" fill-rule=\"evenodd\" fill-opacity=\"1\" /><circle clip-path=\"url(#clip623)\" cx=\"1376.76\" cy=\"119.286\" r=\"14\" fill=\"#009af9\" fill-rule=\"evenodd\" fill-opacity=\"1\" stroke=\"#000000\" stroke-opacity=\"1\" stroke-width=\"3.2\"/>\n<circle clip-path=\"url(#clip623)\" cx=\"1482.05\" cy=\"307.189\" r=\"14\" fill=\"#009af9\" fill-rule=\"evenodd\" fill-opacity=\"1\" stroke=\"#000000\" stroke-opacity=\"1\" stroke-width=\"3.2\"/>\n<circle clip-path=\"url(#clip623)\" cx=\"1587.33\" cy=\"71.5739\" r=\"14\" fill=\"#009af9\" fill-rule=\"evenodd\" fill-opacity=\"1\" stroke=\"#000000\" stroke-opacity=\"1\" stroke-width=\"3.2\"/>\n<circle clip-path=\"url(#clip623)\" cx=\"1692.62\" cy=\"172.156\" r=\"14\" fill=\"#009af9\" fill-rule=\"evenodd\" fill-opacity=\"1\" stroke=\"#000000\" stroke-opacity=\"1\" stroke-width=\"3.2\"/>\n<circle clip-path=\"url(#clip623)\" cx=\"1797.9\" cy=\"319.055\" r=\"14\" fill=\"#009af9\" fill-rule=\"evenodd\" fill-opacity=\"1\" stroke=\"#000000\" stroke-opacity=\"1\" stroke-width=\"3.2\"/>\n<circle clip-path=\"url(#clip623)\" cx=\"1903.19\" cy=\"374.982\" r=\"14\" fill=\"#009af9\" fill-rule=\"evenodd\" fill-opacity=\"1\" stroke=\"#000000\" stroke-opacity=\"1\" stroke-width=\"3.2\"/>\n<circle clip-path=\"url(#clip623)\" cx=\"2008.47\" cy=\"406.368\" r=\"14\" fill=\"#009af9\" fill-rule=\"evenodd\" fill-opacity=\"1\" stroke=\"#000000\" stroke-opacity=\"1\" stroke-width=\"3.2\"/>\n<circle clip-path=\"url(#clip623)\" cx=\"2113.76\" cy=\"194.21\" r=\"14\" fill=\"#009af9\" fill-rule=\"evenodd\" fill-opacity=\"1\" stroke=\"#000000\" stroke-opacity=\"1\" stroke-width=\"3.2\"/>\n<circle clip-path=\"url(#clip623)\" cx=\"2219.04\" cy=\"575.811\" r=\"14\" fill=\"#009af9\" fill-rule=\"evenodd\" fill-opacity=\"1\" stroke=\"#000000\" stroke-opacity=\"1\" stroke-width=\"3.2\"/>\n<circle clip-path=\"url(#clip623)\" cx=\"2324.33\" cy=\"336.452\" r=\"14\" fill=\"#009af9\" fill-rule=\"evenodd\" fill-opacity=\"1\" stroke=\"#000000\" stroke-opacity=\"1\" stroke-width=\"3.2\"/>\n<circle clip-path=\"url(#clip623)\" cx=\"1376.76\" cy=\"518.533\" r=\"14\" fill=\"#e26f46\" fill-rule=\"evenodd\" fill-opacity=\"1\" stroke=\"#000000\" stroke-opacity=\"1\" stroke-width=\"3.2\"/>\n<circle clip-path=\"url(#clip623)\" cx=\"1482.05\" cy=\"494.985\" r=\"14\" fill=\"#e26f46\" fill-rule=\"evenodd\" fill-opacity=\"1\" stroke=\"#000000\" stroke-opacity=\"1\" stroke-width=\"3.2\"/>\n<circle clip-path=\"url(#clip623)\" cx=\"1587.33\" cy=\"571.029\" r=\"14\" fill=\"#e26f46\" fill-rule=\"evenodd\" fill-opacity=\"1\" stroke=\"#000000\" stroke-opacity=\"1\" stroke-width=\"3.2\"/>\n<circle clip-path=\"url(#clip623)\" cx=\"1692.62\" cy=\"104.666\" r=\"14\" fill=\"#e26f46\" fill-rule=\"evenodd\" fill-opacity=\"1\" stroke=\"#000000\" stroke-opacity=\"1\" stroke-width=\"3.2\"/>\n<circle clip-path=\"url(#clip623)\" cx=\"1797.9\" cy=\"509.52\" r=\"14\" fill=\"#e26f46\" fill-rule=\"evenodd\" fill-opacity=\"1\" stroke=\"#000000\" stroke-opacity=\"1\" stroke-width=\"3.2\"/>\n<circle clip-path=\"url(#clip623)\" cx=\"1903.19\" cy=\"526.725\" r=\"14\" fill=\"#e26f46\" fill-rule=\"evenodd\" fill-opacity=\"1\" stroke=\"#000000\" stroke-opacity=\"1\" stroke-width=\"3.2\"/>\n<circle clip-path=\"url(#clip623)\" cx=\"2008.47\" cy=\"285.218\" r=\"14\" fill=\"#e26f46\" fill-rule=\"evenodd\" fill-opacity=\"1\" stroke=\"#000000\" stroke-opacity=\"1\" stroke-width=\"3.2\"/>\n<circle clip-path=\"url(#clip623)\" cx=\"2113.76\" cy=\"600.583\" r=\"14\" fill=\"#e26f46\" fill-rule=\"evenodd\" fill-opacity=\"1\" stroke=\"#000000\" stroke-opacity=\"1\" stroke-width=\"3.2\"/>\n<circle clip-path=\"url(#clip623)\" cx=\"2219.04\" cy=\"265.262\" r=\"14\" fill=\"#e26f46\" fill-rule=\"evenodd\" fill-opacity=\"1\" stroke=\"#000000\" stroke-opacity=\"1\" stroke-width=\"3.2\"/>\n<circle clip-path=\"url(#clip623)\" cx=\"2324.33\" cy=\"341.144\" r=\"14\" fill=\"#e26f46\" fill-rule=\"evenodd\" fill-opacity=\"1\" stroke=\"#000000\" stroke-opacity=\"1\" stroke-width=\"3.2\"/>\n<circle clip-path=\"url(#clip623)\" cx=\"1376.76\" cy=\"569.616\" r=\"14\" fill=\"#3da44d\" fill-rule=\"evenodd\" fill-opacity=\"1\" stroke=\"#000000\" stroke-opacity=\"1\" stroke-width=\"3.2\"/>\n<circle clip-path=\"url(#clip623)\" cx=\"1482.05\" cy=\"285.661\" r=\"14\" fill=\"#3da44d\" fill-rule=\"evenodd\" fill-opacity=\"1\" stroke=\"#000000\" stroke-opacity=\"1\" stroke-width=\"3.2\"/>\n<circle clip-path=\"url(#clip623)\" cx=\"1587.33\" cy=\"149.009\" r=\"14\" fill=\"#3da44d\" fill-rule=\"evenodd\" fill-opacity=\"1\" stroke=\"#000000\" stroke-opacity=\"1\" stroke-width=\"3.2\"/>\n<circle clip-path=\"url(#clip623)\" cx=\"1692.62\" cy=\"219.11\" r=\"14\" fill=\"#3da44d\" fill-rule=\"evenodd\" fill-opacity=\"1\" stroke=\"#000000\" stroke-opacity=\"1\" stroke-width=\"3.2\"/>\n<circle clip-path=\"url(#clip623)\" cx=\"1797.9\" cy=\"406.031\" r=\"14\" fill=\"#3da44d\" fill-rule=\"evenodd\" fill-opacity=\"1\" stroke=\"#000000\" stroke-opacity=\"1\" stroke-width=\"3.2\"/>\n<circle clip-path=\"url(#clip623)\" cx=\"1903.19\" cy=\"377.067\" r=\"14\" fill=\"#3da44d\" fill-rule=\"evenodd\" fill-opacity=\"1\" stroke=\"#000000\" stroke-opacity=\"1\" stroke-width=\"3.2\"/>\n<circle clip-path=\"url(#clip623)\" cx=\"2008.47\" cy=\"74.5657\" r=\"14\" fill=\"#3da44d\" fill-rule=\"evenodd\" fill-opacity=\"1\" stroke=\"#000000\" stroke-opacity=\"1\" stroke-width=\"3.2\"/>\n<circle clip-path=\"url(#clip623)\" cx=\"2113.76\" cy=\"573.862\" r=\"14\" fill=\"#3da44d\" fill-rule=\"evenodd\" fill-opacity=\"1\" stroke=\"#000000\" stroke-opacity=\"1\" stroke-width=\"3.2\"/>\n<circle clip-path=\"url(#clip623)\" cx=\"2219.04\" cy=\"432.442\" r=\"14\" fill=\"#3da44d\" fill-rule=\"evenodd\" fill-opacity=\"1\" stroke=\"#000000\" stroke-opacity=\"1\" stroke-width=\"3.2\"/>\n<circle clip-path=\"url(#clip623)\" cx=\"2324.33\" cy=\"431.931\" r=\"14\" fill=\"#3da44d\" fill-rule=\"evenodd\" fill-opacity=\"1\" stroke=\"#000000\" stroke-opacity=\"1\" stroke-width=\"3.2\"/>\n<circle clip-path=\"url(#clip623)\" cx=\"1376.76\" cy=\"557.11\" r=\"14\" fill=\"#c271d2\" fill-rule=\"evenodd\" fill-opacity=\"1\" stroke=\"#000000\" stroke-opacity=\"1\" stroke-width=\"3.2\"/>\n<circle clip-path=\"url(#clip623)\" cx=\"1482.05\" cy=\"413.292\" r=\"14\" fill=\"#c271d2\" fill-rule=\"evenodd\" fill-opacity=\"1\" stroke=\"#000000\" stroke-opacity=\"1\" stroke-width=\"3.2\"/>\n<circle clip-path=\"url(#clip623)\" cx=\"1587.33\" cy=\"584.925\" r=\"14\" fill=\"#c271d2\" fill-rule=\"evenodd\" fill-opacity=\"1\" stroke=\"#000000\" stroke-opacity=\"1\" stroke-width=\"3.2\"/>\n<circle clip-path=\"url(#clip623)\" cx=\"1692.62\" cy=\"117.368\" r=\"14\" fill=\"#c271d2\" fill-rule=\"evenodd\" fill-opacity=\"1\" stroke=\"#000000\" stroke-opacity=\"1\" stroke-width=\"3.2\"/>\n<circle clip-path=\"url(#clip623)\" cx=\"1797.9\" cy=\"98.6701\" r=\"14\" fill=\"#c271d2\" fill-rule=\"evenodd\" fill-opacity=\"1\" stroke=\"#000000\" stroke-opacity=\"1\" stroke-width=\"3.2\"/>\n<circle clip-path=\"url(#clip623)\" cx=\"1903.19\" cy=\"63.3608\" r=\"14\" fill=\"#c271d2\" fill-rule=\"evenodd\" fill-opacity=\"1\" stroke=\"#000000\" stroke-opacity=\"1\" stroke-width=\"3.2\"/>\n<circle clip-path=\"url(#clip623)\" cx=\"2008.47\" cy=\"379.207\" r=\"14\" fill=\"#c271d2\" fill-rule=\"evenodd\" fill-opacity=\"1\" stroke=\"#000000\" stroke-opacity=\"1\" stroke-width=\"3.2\"/>\n<circle clip-path=\"url(#clip623)\" cx=\"2113.76\" cy=\"524.877\" r=\"14\" fill=\"#c271d2\" fill-rule=\"evenodd\" fill-opacity=\"1\" stroke=\"#000000\" stroke-opacity=\"1\" stroke-width=\"3.2\"/>\n<circle clip-path=\"url(#clip623)\" cx=\"2219.04\" cy=\"403.585\" r=\"14\" fill=\"#c271d2\" fill-rule=\"evenodd\" fill-opacity=\"1\" stroke=\"#000000\" stroke-opacity=\"1\" stroke-width=\"3.2\"/>\n<circle clip-path=\"url(#clip623)\" cx=\"2324.33\" cy=\"437.4\" r=\"14\" fill=\"#c271d2\" fill-rule=\"evenodd\" fill-opacity=\"1\" stroke=\"#000000\" stroke-opacity=\"1\" stroke-width=\"3.2\"/>\n<path clip-path=\"url(#clip620)\" d=\"\nM148.334 1423.18 L1152.76 1423.18 L1152.76 853.724 L148.334 853.724  Z\n  \" fill=\"#ffffff\" fill-rule=\"evenodd\" fill-opacity=\"1\"/>\n<defs>\n  <clipPath id=\"clip624\">\n    <rect x=\"148\" y=\"853\" width=\"1005\" height=\"570\"/>\n  </clipPath>\n</defs>\n<polyline clip-path=\"url(#clip624)\" style=\"stroke:#000000; stroke-width:2; stroke-opacity:0.1; fill:none\" points=\"\n  282.047,1423.18 282.047,853.724 \n  \"/>\n<polyline clip-path=\"url(#clip624)\" style=\"stroke:#000000; stroke-width:2; stroke-opacity:0.1; fill:none\" points=\"\n  492.617,1423.18 492.617,853.724 \n  \"/>\n<polyline clip-path=\"url(#clip624)\" style=\"stroke:#000000; stroke-width:2; stroke-opacity:0.1; fill:none\" points=\"\n  703.188,1423.18 703.188,853.724 \n  \"/>\n<polyline clip-path=\"url(#clip624)\" style=\"stroke:#000000; stroke-width:2; stroke-opacity:0.1; fill:none\" points=\"\n  913.758,1423.18 913.758,853.724 \n  \"/>\n<polyline clip-path=\"url(#clip624)\" style=\"stroke:#000000; stroke-width:2; stroke-opacity:0.1; fill:none\" points=\"\n  1124.33,1423.18 1124.33,853.724 \n  \"/>\n<polyline clip-path=\"url(#clip624)\" style=\"stroke:#000000; stroke-width:2; stroke-opacity:0.1; fill:none\" points=\"\n  148.334,1326.37 1152.76,1326.37 \n  \"/>\n<polyline clip-path=\"url(#clip624)\" style=\"stroke:#000000; stroke-width:2; stroke-opacity:0.1; fill:none\" points=\"\n  148.334,1210.73 1152.76,1210.73 \n  \"/>\n<polyline clip-path=\"url(#clip624)\" style=\"stroke:#000000; stroke-width:2; stroke-opacity:0.1; fill:none\" points=\"\n  148.334,1095.09 1152.76,1095.09 \n  \"/>\n<polyline clip-path=\"url(#clip624)\" style=\"stroke:#000000; stroke-width:2; stroke-opacity:0.1; fill:none\" points=\"\n  148.334,979.455 1152.76,979.455 \n  \"/>\n<polyline clip-path=\"url(#clip624)\" style=\"stroke:#000000; stroke-width:2; stroke-opacity:0.1; fill:none\" points=\"\n  148.334,863.816 1152.76,863.816 \n  \"/>\n<polyline clip-path=\"url(#clip620)\" style=\"stroke:#000000; stroke-width:4; stroke-opacity:1; fill:none\" points=\"\n  148.334,1423.18 1152.76,1423.18 \n  \"/>\n<polyline clip-path=\"url(#clip620)\" style=\"stroke:#000000; stroke-width:4; stroke-opacity:1; fill:none\" points=\"\n  148.334,1423.18 148.334,853.724 \n  \"/>\n<polyline clip-path=\"url(#clip620)\" style=\"stroke:#000000; stroke-width:4; stroke-opacity:1; fill:none\" points=\"\n  282.047,1423.18 282.047,1416.35 \n  \"/>\n<polyline clip-path=\"url(#clip620)\" style=\"stroke:#000000; stroke-width:4; stroke-opacity:1; fill:none\" points=\"\n  492.617,1423.18 492.617,1416.35 \n  \"/>\n<polyline clip-path=\"url(#clip620)\" style=\"stroke:#000000; stroke-width:4; stroke-opacity:1; fill:none\" points=\"\n  703.188,1423.18 703.188,1416.35 \n  \"/>\n<polyline clip-path=\"url(#clip620)\" style=\"stroke:#000000; stroke-width:4; stroke-opacity:1; fill:none\" points=\"\n  913.758,1423.18 913.758,1416.35 \n  \"/>\n<polyline clip-path=\"url(#clip620)\" style=\"stroke:#000000; stroke-width:4; stroke-opacity:1; fill:none\" points=\"\n  1124.33,1423.18 1124.33,1416.35 \n  \"/>\n<polyline clip-path=\"url(#clip620)\" style=\"stroke:#000000; stroke-width:4; stroke-opacity:1; fill:none\" points=\"\n  148.334,1326.37 160.387,1326.37 \n  \"/>\n<polyline clip-path=\"url(#clip620)\" style=\"stroke:#000000; stroke-width:4; stroke-opacity:1; fill:none\" points=\"\n  148.334,1210.73 160.387,1210.73 \n  \"/>\n<polyline clip-path=\"url(#clip620)\" style=\"stroke:#000000; stroke-width:4; stroke-opacity:1; fill:none\" points=\"\n  148.334,1095.09 160.387,1095.09 \n  \"/>\n<polyline clip-path=\"url(#clip620)\" style=\"stroke:#000000; stroke-width:4; stroke-opacity:1; fill:none\" points=\"\n  148.334,979.455 160.387,979.455 \n  \"/>\n<polyline clip-path=\"url(#clip620)\" style=\"stroke:#000000; stroke-width:4; stroke-opacity:1; fill:none\" points=\"\n  148.334,863.816 160.387,863.816 \n  \"/>\n<path clip-path=\"url(#clip620)\" d=\"M 0 0 M276.699 1472.72 L293.019 1472.72 L293.019 1476.65 L271.075 1476.65 L271.075 1472.72 Q273.737 1469.96 278.32 1465.33 Q282.926 1460.68 284.107 1459.34 Q286.352 1456.81 287.232 1455.08 Q288.135 1453.32 288.135 1451.63 Q288.135 1448.87 286.19 1447.14 Q284.269 1445.4 281.167 1445.4 Q278.968 1445.4 276.514 1446.17 Q274.084 1446.93 271.306 1448.48 L271.306 1443.76 Q274.13 1442.62 276.584 1442.05 Q279.037 1441.47 281.074 1441.47 Q286.445 1441.47 289.639 1444.15 Q292.834 1446.84 292.834 1451.33 Q292.834 1453.46 292.023 1455.38 Q291.236 1457.28 289.13 1459.87 Q288.551 1460.54 285.449 1463.76 Q282.348 1466.95 276.699 1472.72 Z\" fill=\"#000000\" fill-rule=\"evenodd\" fill-opacity=\"1\" /><path clip-path=\"url(#clip620)\" d=\"M 0 0 M495.626 1446.17 L483.821 1464.61 L495.626 1464.61 L495.626 1446.17 M494.4 1442.09 L500.279 1442.09 L500.279 1464.61 L505.21 1464.61 L505.21 1468.5 L500.279 1468.5 L500.279 1476.65 L495.626 1476.65 L495.626 1468.5 L480.025 1468.5 L480.025 1463.99 L494.4 1442.09 Z\" fill=\"#000000\" fill-rule=\"evenodd\" fill-opacity=\"1\" /><path clip-path=\"url(#clip620)\" d=\"M 0 0 M703.593 1457.51 Q700.445 1457.51 698.593 1459.66 Q696.764 1461.81 696.764 1465.56 Q696.764 1469.29 698.593 1471.47 Q700.445 1473.62 703.593 1473.62 Q706.741 1473.62 708.57 1471.47 Q710.422 1469.29 710.422 1465.56 Q710.422 1461.81 708.57 1459.66 Q706.741 1457.51 703.593 1457.51 M712.875 1442.86 L712.875 1447.11 Q711.116 1446.28 709.31 1445.84 Q707.528 1445.4 705.769 1445.4 Q701.139 1445.4 698.685 1448.53 Q696.255 1451.65 695.908 1457.97 Q697.273 1455.96 699.334 1454.89 Q701.394 1453.8 703.871 1453.8 Q709.079 1453.8 712.088 1456.98 Q715.121 1460.12 715.121 1465.56 Q715.121 1470.89 711.972 1474.11 Q708.824 1477.32 703.593 1477.32 Q697.598 1477.32 694.426 1472.74 Q691.255 1468.13 691.255 1459.41 Q691.255 1451.21 695.144 1446.35 Q699.033 1441.47 705.584 1441.47 Q707.343 1441.47 709.125 1441.81 Q710.931 1442.16 712.875 1442.86 Z\" fill=\"#000000\" fill-rule=\"evenodd\" fill-opacity=\"1\" /><path clip-path=\"url(#clip620)\" d=\"M 0 0 M913.758 1460.24 Q910.425 1460.24 908.504 1462.02 Q906.606 1463.8 906.606 1466.93 Q906.606 1470.05 908.504 1471.84 Q910.425 1473.62 913.758 1473.62 Q917.092 1473.62 919.013 1471.84 Q920.934 1470.03 920.934 1466.93 Q920.934 1463.8 919.013 1462.02 Q917.115 1460.24 913.758 1460.24 M909.082 1458.25 Q906.073 1457.51 904.383 1455.45 Q902.717 1453.39 902.717 1450.43 Q902.717 1446.28 905.657 1443.87 Q908.619 1441.47 913.758 1441.47 Q918.92 1441.47 921.86 1443.87 Q924.8 1446.28 924.8 1450.43 Q924.8 1453.39 923.11 1455.45 Q921.443 1457.51 918.457 1458.25 Q921.837 1459.04 923.712 1461.33 Q925.61 1463.62 925.61 1466.93 Q925.61 1471.95 922.531 1474.64 Q919.476 1477.32 913.758 1477.32 Q908.041 1477.32 904.962 1474.64 Q901.907 1471.95 901.907 1466.93 Q901.907 1463.62 903.805 1461.33 Q905.703 1459.04 909.082 1458.25 M907.369 1450.86 Q907.369 1453.55 909.036 1455.05 Q910.726 1456.56 913.758 1456.56 Q916.768 1456.56 918.457 1455.05 Q920.17 1453.55 920.17 1450.86 Q920.17 1448.18 918.457 1446.68 Q916.768 1445.17 913.758 1445.17 Q910.726 1445.17 909.036 1446.68 Q907.369 1448.18 907.369 1450.86 Z\" fill=\"#000000\" fill-rule=\"evenodd\" fill-opacity=\"1\" /><path clip-path=\"url(#clip620)\" d=\"M 0 0 M1101.2 1472.72 L1108.84 1472.72 L1108.84 1446.35 L1100.53 1448.02 L1100.53 1443.76 L1108.8 1442.09 L1113.47 1442.09 L1113.47 1472.72 L1121.11 1472.72 L1121.11 1476.65 L1101.2 1476.65 L1101.2 1472.72 Z\" fill=\"#000000\" fill-rule=\"evenodd\" fill-opacity=\"1\" /><path clip-path=\"url(#clip620)\" d=\"M 0 0 M1136.18 1445.17 Q1132.57 1445.17 1130.74 1448.74 Q1128.94 1452.28 1128.94 1459.41 Q1128.94 1466.51 1130.74 1470.08 Q1132.57 1473.62 1136.18 1473.62 Q1139.81 1473.62 1141.62 1470.08 Q1143.45 1466.51 1143.45 1459.41 Q1143.45 1452.28 1141.62 1448.74 Q1139.81 1445.17 1136.18 1445.17 M1136.18 1441.47 Q1141.99 1441.47 1145.05 1446.07 Q1148.13 1450.66 1148.13 1459.41 Q1148.13 1468.13 1145.05 1472.74 Q1141.99 1477.32 1136.18 1477.32 Q1130.37 1477.32 1127.29 1472.74 Q1124.24 1468.13 1124.24 1459.41 Q1124.24 1450.66 1127.29 1446.07 Q1130.37 1441.47 1136.18 1441.47 Z\" fill=\"#000000\" fill-rule=\"evenodd\" fill-opacity=\"1\" /><path clip-path=\"url(#clip620)\" d=\"M 0 0 M77.0198 1312.17 Q73.4087 1312.17 71.58 1315.73 Q69.7745 1319.27 69.7745 1326.4 Q69.7745 1333.51 71.58 1337.08 Q73.4087 1340.62 77.0198 1340.62 Q80.6541 1340.62 82.4596 1337.08 Q84.2883 1333.51 84.2883 1326.4 Q84.2883 1319.27 82.4596 1315.73 Q80.6541 1312.17 77.0198 1312.17 M77.0198 1308.46 Q82.83 1308.46 85.8855 1313.07 Q88.9642 1317.65 88.9642 1326.4 Q88.9642 1335.13 85.8855 1339.74 Q82.83 1344.32 77.0198 1344.32 Q71.2097 1344.32 68.131 1339.74 Q65.0754 1335.13 65.0754 1326.4 Q65.0754 1317.65 68.131 1313.07 Q71.2097 1308.46 77.0198 1308.46 Z\" fill=\"#000000\" fill-rule=\"evenodd\" fill-opacity=\"1\" /><path clip-path=\"url(#clip620)\" d=\"M 0 0 M94.0336 1337.77 L98.9179 1337.77 L98.9179 1343.65 L94.0336 1343.65 L94.0336 1337.77 Z\" fill=\"#000000\" fill-rule=\"evenodd\" fill-opacity=\"1\" /><path clip-path=\"url(#clip620)\" d=\"M 0 0 M108.015 1339.71 L124.334 1339.71 L124.334 1343.65 L102.39 1343.65 L102.39 1339.71 Q105.052 1336.96 109.635 1332.33 Q114.242 1327.68 115.422 1326.33 Q117.668 1323.81 118.547 1322.08 Q119.45 1320.32 119.45 1318.63 Q119.45 1315.87 117.506 1314.14 Q115.584 1312.4 112.483 1312.4 Q110.284 1312.4 107.83 1313.16 Q105.399 1313.93 102.622 1315.48 L102.622 1310.76 Q105.446 1309.62 107.899 1309.04 Q110.353 1308.46 112.39 1308.46 Q117.76 1308.46 120.955 1311.15 Q124.149 1313.83 124.149 1318.33 Q124.149 1320.45 123.339 1322.38 Q122.552 1324.27 120.446 1326.87 Q119.867 1327.54 116.765 1330.76 Q113.663 1333.95 108.015 1339.71 Z\" fill=\"#000000\" fill-rule=\"evenodd\" fill-opacity=\"1\" /><path clip-path=\"url(#clip620)\" d=\"M 0 0 M74.9365 1196.53 Q71.3254 1196.53 69.4967 1200.09 Q67.6912 1203.64 67.6912 1210.77 Q67.6912 1217.87 69.4967 1221.44 Q71.3254 1224.98 74.9365 1224.98 Q78.5707 1224.98 80.3763 1221.44 Q82.205 1217.87 82.205 1210.77 Q82.205 1203.64 80.3763 1200.09 Q78.5707 1196.53 74.9365 1196.53 M74.9365 1192.83 Q80.7467 1192.83 83.8022 1197.43 Q86.8809 1202.02 86.8809 1210.77 Q86.8809 1219.49 83.8022 1224.1 Q80.7467 1228.68 74.9365 1228.68 Q69.1264 1228.68 66.0477 1224.1 Q62.9921 1219.49 62.9921 1210.77 Q62.9921 1202.02 66.0477 1197.43 Q69.1264 1192.83 74.9365 1192.83 Z\" fill=\"#000000\" fill-rule=\"evenodd\" fill-opacity=\"1\" /><path clip-path=\"url(#clip620)\" d=\"M 0 0 M91.9503 1222.13 L96.8345 1222.13 L96.8345 1228.01 L91.9503 1228.01 L91.9503 1222.13 Z\" fill=\"#000000\" fill-rule=\"evenodd\" fill-opacity=\"1\" /><path clip-path=\"url(#clip620)\" d=\"M 0 0 M114.751 1197.52 L102.946 1215.97 L114.751 1215.97 L114.751 1197.52 M113.524 1193.45 L119.404 1193.45 L119.404 1215.97 L124.334 1215.97 L124.334 1219.86 L119.404 1219.86 L119.404 1228.01 L114.751 1228.01 L114.751 1219.86 L99.1493 1219.86 L99.1493 1215.35 L113.524 1193.45 Z\" fill=\"#000000\" fill-rule=\"evenodd\" fill-opacity=\"1\" /><path clip-path=\"url(#clip620)\" d=\"M 0 0 M75.2606 1080.89 Q71.6495 1080.89 69.8208 1084.46 Q68.0152 1088 68.0152 1095.13 Q68.0152 1102.23 69.8208 1105.8 Q71.6495 1109.34 75.2606 1109.34 Q78.8948 1109.34 80.7004 1105.8 Q82.5291 1102.23 82.5291 1095.13 Q82.5291 1088 80.7004 1084.46 Q78.8948 1080.89 75.2606 1080.89 M75.2606 1077.19 Q81.0707 1077.19 84.1263 1081.79 Q87.205 1086.38 87.205 1095.13 Q87.205 1103.85 84.1263 1108.46 Q81.0707 1113.04 75.2606 1113.04 Q69.4504 1113.04 66.3717 1108.46 Q63.3162 1103.85 63.3162 1095.13 Q63.3162 1086.38 66.3717 1081.79 Q69.4504 1077.19 75.2606 1077.19 Z\" fill=\"#000000\" fill-rule=\"evenodd\" fill-opacity=\"1\" /><path clip-path=\"url(#clip620)\" d=\"M 0 0 M92.2744 1106.49 L97.1586 1106.49 L97.1586 1112.37 L92.2744 1112.37 L92.2744 1106.49 Z\" fill=\"#000000\" fill-rule=\"evenodd\" fill-opacity=\"1\" /><path clip-path=\"url(#clip620)\" d=\"M 0 0 M112.807 1093.23 Q109.659 1093.23 107.807 1095.38 Q105.978 1097.53 105.978 1101.28 Q105.978 1105.01 107.807 1107.19 Q109.659 1109.34 112.807 1109.34 Q115.955 1109.34 117.783 1107.19 Q119.635 1105.01 119.635 1101.28 Q119.635 1097.53 117.783 1095.38 Q115.955 1093.23 112.807 1093.23 M122.089 1078.58 L122.089 1082.84 Q120.33 1082 118.524 1081.56 Q116.742 1081.12 114.983 1081.12 Q110.353 1081.12 107.899 1084.25 Q105.469 1087.37 105.122 1093.69 Q106.487 1091.68 108.547 1090.61 Q110.608 1089.53 113.084 1089.53 Q118.293 1089.53 121.302 1092.7 Q124.334 1095.85 124.334 1101.28 Q124.334 1106.61 121.186 1109.83 Q118.038 1113.04 112.807 1113.04 Q106.811 1113.04 103.64 1108.46 Q100.469 1103.85 100.469 1095.13 Q100.469 1086.93 104.358 1082.07 Q108.247 1077.19 114.797 1077.19 Q116.557 1077.19 118.339 1077.53 Q120.145 1077.88 122.089 1078.58 Z\" fill=\"#000000\" fill-rule=\"evenodd\" fill-opacity=\"1\" /><path clip-path=\"url(#clip620)\" d=\"M 0 0 M75.5152 965.253 Q71.9041 965.253 70.0754 968.818 Q68.2699 972.36 68.2699 979.489 Q68.2699 986.596 70.0754 990.161 Q71.9041 993.702 75.5152 993.702 Q79.1494 993.702 80.955 990.161 Q82.7837 986.596 82.7837 979.489 Q82.7837 972.36 80.955 968.818 Q79.1494 965.253 75.5152 965.253 M75.5152 961.55 Q81.3254 961.55 84.3809 966.156 Q87.4596 970.739 87.4596 979.489 Q87.4596 988.216 84.3809 992.823 Q81.3254 997.406 75.5152 997.406 Q69.7051 997.406 66.6264 992.823 Q63.5708 988.216 63.5708 979.489 Q63.5708 970.739 66.6264 966.156 Q69.7051 961.55 75.5152 961.55 Z\" fill=\"#000000\" fill-rule=\"evenodd\" fill-opacity=\"1\" /><path clip-path=\"url(#clip620)\" d=\"M 0 0 M92.529 990.855 L97.4132 990.855 L97.4132 996.735 L92.529 996.735 L92.529 990.855 Z\" fill=\"#000000\" fill-rule=\"evenodd\" fill-opacity=\"1\" /><path clip-path=\"url(#clip620)\" d=\"M 0 0 M112.483 980.323 Q109.149 980.323 107.228 982.105 Q105.33 983.887 105.33 987.012 Q105.33 990.137 107.228 991.92 Q109.149 993.702 112.483 993.702 Q115.816 993.702 117.737 991.92 Q119.658 990.114 119.658 987.012 Q119.658 983.887 117.737 982.105 Q115.839 980.323 112.483 980.323 M107.807 978.332 Q104.797 977.591 103.108 975.531 Q101.441 973.471 101.441 970.508 Q101.441 966.364 104.381 963.957 Q107.344 961.55 112.483 961.55 Q117.645 961.55 120.584 963.957 Q123.524 966.364 123.524 970.508 Q123.524 973.471 121.834 975.531 Q120.168 977.591 117.182 978.332 Q120.561 979.119 122.436 981.411 Q124.334 983.702 124.334 987.012 Q124.334 992.036 121.256 994.721 Q118.2 997.406 112.483 997.406 Q106.765 997.406 103.686 994.721 Q100.631 992.036 100.631 987.012 Q100.631 983.702 102.529 981.411 Q104.427 979.119 107.807 978.332 M106.094 970.948 Q106.094 973.633 107.76 975.137 Q109.45 976.642 112.483 976.642 Q115.492 976.642 117.182 975.137 Q118.895 973.633 118.895 970.948 Q118.895 968.263 117.182 966.758 Q115.492 965.253 112.483 965.253 Q109.45 965.253 107.76 966.758 Q106.094 968.263 106.094 970.948 Z\" fill=\"#000000\" fill-rule=\"evenodd\" fill-opacity=\"1\" /><path clip-path=\"url(#clip620)\" d=\"M 0 0 M67.4597 877.161 L75.0985 877.161 L75.0985 850.796 L66.7884 852.462 L66.7884 848.203 L75.0522 846.536 L79.7281 846.536 L79.7281 877.161 L87.367 877.161 L87.367 881.096 L67.4597 881.096 L67.4597 877.161 Z\" fill=\"#000000\" fill-rule=\"evenodd\" fill-opacity=\"1\" /><path clip-path=\"url(#clip620)\" d=\"M 0 0 M92.4364 875.217 L97.3206 875.217 L97.3206 881.096 L92.4364 881.096 L92.4364 875.217 Z\" fill=\"#000000\" fill-rule=\"evenodd\" fill-opacity=\"1\" /><path clip-path=\"url(#clip620)\" d=\"M 0 0 M112.39 849.615 Q108.779 849.615 106.95 853.18 Q105.145 856.722 105.145 863.851 Q105.145 870.958 106.95 874.522 Q108.779 878.064 112.39 878.064 Q116.024 878.064 117.83 874.522 Q119.658 870.958 119.658 863.851 Q119.658 856.722 117.83 853.18 Q116.024 849.615 112.39 849.615 M112.39 845.911 Q118.2 845.911 121.256 850.518 Q124.334 855.101 124.334 863.851 Q124.334 872.578 121.256 877.184 Q118.2 881.768 112.39 881.768 Q106.58 881.768 103.501 877.184 Q100.446 872.578 100.446 863.851 Q100.446 855.101 103.501 850.518 Q106.58 845.911 112.39 845.911 Z\" fill=\"#000000\" fill-rule=\"evenodd\" fill-opacity=\"1\" /><path clip-path=\"url(#clip620)\" d=\"M 0 0 M552.473 744.333 L552.473 752.313 Q547.814 750.085 543.682 748.991 Q539.55 747.898 535.702 747.898 Q529.018 747.898 525.372 750.49 Q521.767 753.083 521.767 757.863 Q521.767 761.873 524.157 763.939 Q526.587 765.965 533.312 767.221 L538.254 768.233 Q547.409 769.975 551.744 774.391 Q556.119 778.766 556.119 786.138 Q556.119 794.929 550.204 799.466 Q544.33 804.003 532.947 804.003 Q528.653 804.003 523.792 803.031 Q518.972 802.058 513.787 800.154 L513.787 791.728 Q518.769 794.524 523.549 795.941 Q528.329 797.359 532.947 797.359 Q539.955 797.359 543.763 794.605 Q547.571 791.85 547.571 786.746 Q547.571 782.29 544.817 779.778 Q542.102 777.267 535.864 776.011 L530.881 775.039 Q521.726 773.216 517.635 769.327 Q513.544 765.438 513.544 758.511 Q513.544 750.49 519.174 745.872 Q524.846 741.254 534.77 741.254 Q539.024 741.254 543.439 742.024 Q547.855 742.794 552.473 744.333 Z\" fill=\"#000000\" fill-rule=\"evenodd\" fill-opacity=\"1\" /><path clip-path=\"url(#clip620)\" d=\"M 0 0 M563.167 784.923 L563.167 757.458 L570.621 757.458 L570.621 784.639 Q570.621 791.08 573.132 794.321 Q575.644 797.521 580.667 797.521 Q586.703 797.521 590.187 793.673 Q593.711 789.825 593.711 783.181 L593.711 757.458 L601.165 757.458 L601.165 802.828 L593.711 802.828 L593.711 795.86 Q590.997 799.992 587.392 802.018 Q583.827 804.003 579.087 804.003 Q571.269 804.003 567.218 799.142 Q563.167 794.281 563.167 784.923 M581.923 756.364 L581.923 756.364 Z\" fill=\"#000000\" fill-rule=\"evenodd\" fill-opacity=\"1\" /><path clip-path=\"url(#clip620)\" d=\"M 0 0 M641.552 780.183 Q641.552 771.96 638.149 767.302 Q634.787 762.602 628.873 762.602 Q622.958 762.602 619.556 767.302 Q616.193 771.96 616.193 780.183 Q616.193 788.407 619.556 793.106 Q622.958 797.764 628.873 797.764 Q634.787 797.764 638.149 793.106 Q641.552 788.407 641.552 780.183 M616.193 764.344 Q618.543 760.293 622.108 758.349 Q625.713 756.364 630.696 756.364 Q638.96 756.364 644.104 762.927 Q649.289 769.489 649.289 780.183 Q649.289 790.878 644.104 797.44 Q638.96 804.003 630.696 804.003 Q625.713 804.003 622.108 802.058 Q618.543 800.073 616.193 796.022 L616.193 802.828 L608.699 802.828 L608.699 739.796 L616.193 739.796 L616.193 764.344 Z\" fill=\"#000000\" fill-rule=\"evenodd\" fill-opacity=\"1\" /><path clip-path=\"url(#clip620)\" d=\"M 0 0 M664.48 744.576 L664.48 757.458 L679.833 757.458 L679.833 763.251 L664.48 763.251 L664.48 787.88 Q664.48 793.43 665.979 795.01 Q667.518 796.59 672.177 796.59 L679.833 796.59 L679.833 802.828 L672.177 802.828 Q663.549 802.828 660.267 799.628 Q656.986 796.387 656.986 787.88 L656.986 763.251 L651.517 763.251 L651.517 757.458 L656.986 757.458 L656.986 744.576 L664.48 744.576 Z\" fill=\"#000000\" fill-rule=\"evenodd\" fill-opacity=\"1\" /><path clip-path=\"url(#clip620)\" d=\"M 0 0 M687.651 757.458 L695.105 757.458 L695.105 802.828 L687.651 802.828 L687.651 757.458 M687.651 739.796 L695.105 739.796 L695.105 749.235 L687.651 749.235 L687.651 739.796 Z\" fill=\"#000000\" fill-rule=\"evenodd\" fill-opacity=\"1\" /><path clip-path=\"url(#clip620)\" d=\"M 0 0 M710.296 744.576 L710.296 757.458 L725.649 757.458 L725.649 763.251 L710.296 763.251 L710.296 787.88 Q710.296 793.43 711.795 795.01 Q713.334 796.59 717.993 796.59 L725.649 796.59 L725.649 802.828 L717.993 802.828 Q709.364 802.828 706.083 799.628 Q702.802 796.387 702.802 787.88 L702.802 763.251 L697.333 763.251 L697.333 757.458 L702.802 757.458 L702.802 744.576 L710.296 744.576 Z\" fill=\"#000000\" fill-rule=\"evenodd\" fill-opacity=\"1\" /><path clip-path=\"url(#clip620)\" d=\"M 0 0 M733.467 739.796 L740.921 739.796 L740.921 802.828 L733.467 802.828 L733.467 739.796 Z\" fill=\"#000000\" fill-rule=\"evenodd\" fill-opacity=\"1\" /><path clip-path=\"url(#clip620)\" d=\"M 0 0 M787.547 778.279 L787.547 781.925 L753.276 781.925 Q753.762 789.622 757.894 793.673 Q762.067 797.683 769.48 797.683 Q773.774 797.683 777.784 796.63 Q781.835 795.577 785.805 793.47 L785.805 800.519 Q781.794 802.22 777.582 803.112 Q773.369 804.003 769.034 804.003 Q758.178 804.003 751.818 797.683 Q745.498 791.364 745.498 780.589 Q745.498 769.449 751.494 762.927 Q757.53 756.364 767.738 756.364 Q776.893 756.364 782.2 762.278 Q787.547 768.152 787.547 778.279 M780.093 776.092 Q780.012 769.975 776.65 766.329 Q773.328 762.684 767.819 762.684 Q761.58 762.684 757.813 766.208 Q754.086 769.732 753.519 776.133 L780.093 776.092 Z\" fill=\"#000000\" fill-rule=\"evenodd\" fill-opacity=\"1\" /><path clip-path=\"url(#clip620)\" d=\"M 0 0 M376.056 1508.52 L416.255 1508.52 L416.255 1513.93 L399.386 1513.93 L399.386 1556.04 L392.925 1556.04 L392.925 1513.93 L376.056 1513.93 L376.056 1508.52 Z\" fill=\"#000000\" fill-rule=\"evenodd\" fill-opacity=\"1\" /><path clip-path=\"url(#clip620)\" d=\"M 0 0 M452.031 1534.53 L452.031 1556.04 L446.174 1556.04 L446.174 1534.72 Q446.174 1529.66 444.201 1527.14 Q442.227 1524.63 438.281 1524.63 Q433.538 1524.63 430.801 1527.65 Q428.064 1530.68 428.064 1535.9 L428.064 1556.04 L422.175 1556.04 L422.175 1506.52 L428.064 1506.52 L428.064 1525.93 Q430.164 1522.72 432.997 1521.13 Q435.862 1519.54 439.586 1519.54 Q445.729 1519.54 448.88 1523.36 Q452.031 1527.14 452.031 1534.53 Z\" fill=\"#000000\" fill-rule=\"evenodd\" fill-opacity=\"1\" /><path clip-path=\"url(#clip620)\" d=\"M 0 0 M458.173 1520.4 L464.03 1520.4 L464.03 1556.04 L458.173 1556.04 L458.173 1520.4 M458.173 1506.52 L464.03 1506.52 L464.03 1513.93 L458.173 1513.93 L458.173 1506.52 Z\" fill=\"#000000\" fill-rule=\"evenodd\" fill-opacity=\"1\" /><path clip-path=\"url(#clip620)\" d=\"M 0 0 M492.898 1521.45 L492.898 1526.98 Q490.416 1525.71 487.742 1525.07 Q485.069 1524.44 482.204 1524.44 Q477.844 1524.44 475.647 1525.77 Q473.483 1527.11 473.483 1529.79 Q473.483 1531.82 475.043 1533 Q476.602 1534.15 481.313 1535.2 L483.318 1535.64 Q489.556 1536.98 492.166 1539.43 Q494.808 1541.85 494.808 1546.21 Q494.808 1551.17 490.861 1554.07 Q486.946 1556.97 480.072 1556.97 Q477.207 1556.97 474.088 1556.39 Q471 1555.85 467.563 1554.74 L467.563 1548.69 Q470.809 1550.38 473.96 1551.24 Q477.111 1552.07 480.199 1552.07 Q484.337 1552.07 486.565 1550.66 Q488.793 1549.23 488.793 1546.65 Q488.793 1544.27 487.169 1542.99 Q485.578 1541.72 480.135 1540.54 L478.098 1540.07 Q472.655 1538.92 470.237 1536.56 Q467.818 1534.18 467.818 1530.04 Q467.818 1525.01 471.382 1522.27 Q474.947 1519.54 481.504 1519.54 Q484.75 1519.54 487.615 1520.01 Q490.479 1520.49 492.898 1521.45 Z\" fill=\"#000000\" fill-rule=\"evenodd\" fill-opacity=\"1\" /><path clip-path=\"url(#clip620)\" d=\"M 0 0 M535.485 1524.5 Q530.774 1524.5 528.037 1528.19 Q525.3 1531.85 525.3 1538.25 Q525.3 1544.65 528.005 1548.34 Q530.743 1552 535.485 1552 Q540.164 1552 542.901 1548.31 Q545.638 1544.62 545.638 1538.25 Q545.638 1531.92 542.901 1528.23 Q540.164 1524.5 535.485 1524.5 M535.485 1519.54 Q543.124 1519.54 547.484 1524.5 Q551.845 1529.47 551.845 1538.25 Q551.845 1547 547.484 1552 Q543.124 1556.97 535.485 1556.97 Q527.814 1556.97 523.454 1552 Q519.125 1547 519.125 1538.25 Q519.125 1529.47 523.454 1524.5 Q527.814 1519.54 535.485 1519.54 Z\" fill=\"#000000\" fill-rule=\"evenodd\" fill-opacity=\"1\" /><path clip-path=\"url(#clip620)\" d=\"M 0 0 M587.62 1534.53 L587.62 1556.04 L581.764 1556.04 L581.764 1534.72 Q581.764 1529.66 579.79 1527.14 Q577.817 1524.63 573.87 1524.63 Q569.128 1524.63 566.391 1527.65 Q563.653 1530.68 563.653 1535.9 L563.653 1556.04 L557.765 1556.04 L557.765 1520.4 L563.653 1520.4 L563.653 1525.93 Q565.754 1522.72 568.587 1521.13 Q571.451 1519.54 575.175 1519.54 Q581.318 1519.54 584.469 1523.36 Q587.62 1527.14 587.62 1534.53 Z\" fill=\"#000000\" fill-rule=\"evenodd\" fill-opacity=\"1\" /><path clip-path=\"url(#clip620)\" d=\"M 0 0 M624.255 1536.76 L624.255 1539.62 L597.328 1539.62 Q597.71 1545.67 600.956 1548.85 Q604.235 1552 610.059 1552 Q613.433 1552 616.584 1551.17 Q619.767 1550.35 622.886 1548.69 L622.886 1554.23 Q619.735 1555.57 616.425 1556.27 Q613.115 1556.97 609.709 1556.97 Q601.179 1556.97 596.182 1552 Q591.217 1547.04 591.217 1538.57 Q591.217 1529.82 595.927 1524.69 Q600.67 1519.54 608.691 1519.54 Q615.884 1519.54 620.053 1524.18 Q624.255 1528.8 624.255 1536.76 M618.398 1535.04 Q618.335 1530.23 615.693 1527.37 Q613.083 1524.5 608.754 1524.5 Q603.853 1524.5 600.893 1527.27 Q597.964 1530.04 597.519 1535.07 L618.398 1535.04 Z\" fill=\"#000000\" fill-rule=\"evenodd\" fill-opacity=\"1\" /><path clip-path=\"url(#clip620)\" d=\"M 0 0 M651.118 1520.4 L656.975 1520.4 L656.975 1556.04 L651.118 1556.04 L651.118 1520.4 M651.118 1506.52 L656.975 1506.52 L656.975 1513.93 L651.118 1513.93 L651.118 1506.52 Z\" fill=\"#000000\" fill-rule=\"evenodd\" fill-opacity=\"1\" /><path clip-path=\"url(#clip620)\" d=\"M 0 0 M685.843 1521.45 L685.843 1526.98 Q683.36 1525.71 680.687 1525.07 Q678.013 1524.44 675.149 1524.44 Q670.788 1524.44 668.592 1525.77 Q666.428 1527.11 666.428 1529.79 Q666.428 1531.82 667.987 1533 Q669.547 1534.15 674.257 1535.2 L676.263 1535.64 Q682.501 1536.98 685.111 1539.43 Q687.753 1541.85 687.753 1546.21 Q687.753 1551.17 683.806 1554.07 Q679.891 1556.97 673.016 1556.97 Q670.152 1556.97 667.032 1556.39 Q663.945 1555.85 660.507 1554.74 L660.507 1548.69 Q663.754 1550.38 666.905 1551.24 Q670.056 1552.07 673.143 1552.07 Q677.281 1552.07 679.509 1550.66 Q681.737 1549.23 681.737 1546.65 Q681.737 1544.27 680.114 1542.99 Q678.522 1541.72 673.08 1540.54 L671.043 1540.07 Q665.6 1538.92 663.181 1536.56 Q660.762 1534.18 660.762 1530.04 Q660.762 1525.01 664.327 1522.27 Q667.892 1519.54 674.448 1519.54 Q677.695 1519.54 680.559 1520.01 Q683.424 1520.49 685.843 1521.45 Z\" fill=\"#000000\" fill-rule=\"evenodd\" fill-opacity=\"1\" /><path clip-path=\"url(#clip620)\" d=\"M 0 0 M714.616 1506.52 L720.472 1506.52 L720.472 1556.04 L714.616 1556.04 L714.616 1506.52 Z\" fill=\"#000000\" fill-rule=\"evenodd\" fill-opacity=\"1\" /><path clip-path=\"url(#clip620)\" d=\"M 0 0 M742.816 1538.12 Q735.718 1538.12 732.981 1539.75 Q730.244 1541.37 730.244 1545.29 Q730.244 1548.4 732.281 1550.25 Q734.35 1552.07 737.883 1552.07 Q742.752 1552.07 745.681 1548.63 Q748.641 1545.16 748.641 1539.43 L748.641 1538.12 L742.816 1538.12 M754.497 1535.71 L754.497 1556.04 L748.641 1556.04 L748.641 1550.63 Q746.635 1553.88 743.644 1555.44 Q740.652 1556.97 736.323 1556.97 Q730.849 1556.97 727.602 1553.91 Q724.387 1550.82 724.387 1545.67 Q724.387 1539.65 728.398 1536.6 Q732.44 1533.54 740.429 1533.54 L748.641 1533.54 L748.641 1532.97 Q748.641 1528.93 745.967 1526.73 Q743.325 1524.5 738.519 1524.5 Q735.464 1524.5 732.567 1525.23 Q729.671 1525.97 726.997 1527.43 L726.997 1522.02 Q730.212 1520.78 733.236 1520.17 Q736.259 1519.54 739.124 1519.54 Q746.858 1519.54 750.678 1523.55 Q754.497 1527.56 754.497 1535.71 Z\" fill=\"#000000\" fill-rule=\"evenodd\" fill-opacity=\"1\" /><path clip-path=\"url(#clip620)\" d=\"M 0 0 M786.23 1538.25 Q786.23 1531.79 783.557 1528.13 Q780.915 1524.44 776.268 1524.44 Q771.621 1524.44 768.947 1528.13 Q766.306 1531.79 766.306 1538.25 Q766.306 1544.71 768.947 1548.4 Q771.621 1552.07 776.268 1552.07 Q780.915 1552.07 783.557 1548.4 Q786.23 1544.71 786.23 1538.25 M766.306 1525.81 Q768.152 1522.62 770.952 1521.1 Q773.785 1519.54 777.7 1519.54 Q784.193 1519.54 788.235 1524.69 Q792.309 1529.85 792.309 1538.25 Q792.309 1546.65 788.235 1551.81 Q784.193 1556.97 777.7 1556.97 Q773.785 1556.97 770.952 1555.44 Q768.152 1553.88 766.306 1550.7 L766.306 1556.04 L760.417 1556.04 L760.417 1506.52 L766.306 1506.52 L766.306 1525.81 Z\" fill=\"#000000\" fill-rule=\"evenodd\" fill-opacity=\"1\" /><path clip-path=\"url(#clip620)\" d=\"M 0 0 M828.944 1536.76 L828.944 1539.62 L802.017 1539.62 Q802.399 1545.67 805.646 1548.85 Q808.924 1552 814.749 1552 Q818.122 1552 821.273 1551.17 Q824.456 1550.35 827.575 1548.69 L827.575 1554.23 Q824.424 1555.57 821.114 1556.27 Q817.804 1556.97 814.398 1556.97 Q805.868 1556.97 800.871 1552 Q795.906 1547.04 795.906 1538.57 Q795.906 1529.82 800.617 1524.69 Q805.359 1519.54 813.38 1519.54 Q820.573 1519.54 824.743 1524.18 Q828.944 1528.8 828.944 1536.76 M823.088 1535.04 Q823.024 1530.23 820.382 1527.37 Q817.772 1524.5 813.444 1524.5 Q808.542 1524.5 805.582 1527.27 Q802.654 1530.04 802.208 1535.07 L823.088 1535.04 Z\" fill=\"#000000\" fill-rule=\"evenodd\" fill-opacity=\"1\" /><path clip-path=\"url(#clip620)\" d=\"M 0 0 M835.087 1506.52 L840.943 1506.52 L840.943 1556.04 L835.087 1556.04 L835.087 1506.52 Z\" fill=\"#000000\" fill-rule=\"evenodd\" fill-opacity=\"1\" /><path clip-path=\"url(#clip620)\" d=\"M 0 0 M847.086 1506.52 L852.943 1506.52 L852.943 1556.04 L847.086 1556.04 L847.086 1506.52 Z\" fill=\"#000000\" fill-rule=\"evenodd\" fill-opacity=\"1\" /><path clip-path=\"url(#clip620)\" d=\"M 0 0 M889.577 1536.76 L889.577 1539.62 L862.65 1539.62 Q863.032 1545.67 866.279 1548.85 Q869.557 1552 875.382 1552 Q878.756 1552 881.907 1551.17 Q885.09 1550.35 888.209 1548.69 L888.209 1554.23 Q885.058 1555.57 881.748 1556.27 Q878.437 1556.97 875.032 1556.97 Q866.502 1556.97 861.505 1552 Q856.539 1547.04 856.539 1538.57 Q856.539 1529.82 861.25 1524.69 Q865.992 1519.54 874.013 1519.54 Q881.207 1519.54 885.376 1524.18 Q889.577 1528.8 889.577 1536.76 M883.721 1535.04 Q883.657 1530.23 881.016 1527.37 Q878.406 1524.5 874.077 1524.5 Q869.175 1524.5 866.215 1527.27 Q863.287 1530.04 862.841 1535.07 L883.721 1535.04 Z\" fill=\"#000000\" fill-rule=\"evenodd\" fill-opacity=\"1\" /><path clip-path=\"url(#clip620)\" d=\"M 0 0 M919.178 1525.81 L919.178 1506.52 L925.034 1506.52 L925.034 1556.04 L919.178 1556.04 L919.178 1550.7 Q917.332 1553.88 914.499 1555.44 Q911.698 1556.97 907.752 1556.97 Q901.29 1556.97 897.216 1551.81 Q893.174 1546.65 893.174 1538.25 Q893.174 1529.85 897.216 1524.69 Q901.29 1519.54 907.752 1519.54 Q911.698 1519.54 914.499 1521.1 Q917.332 1522.62 919.178 1525.81 M899.221 1538.25 Q899.221 1544.71 901.863 1548.4 Q904.537 1552.07 909.184 1552.07 Q913.831 1552.07 916.504 1548.4 Q919.178 1544.71 919.178 1538.25 Q919.178 1531.79 916.504 1528.13 Q913.831 1524.44 909.184 1524.44 Q904.537 1524.44 901.863 1528.13 Q899.221 1531.79 899.221 1538.25 Z\" fill=\"#000000\" fill-rule=\"evenodd\" fill-opacity=\"1\" /><polyline clip-path=\"url(#clip624)\" style=\"stroke:#009af9; stroke-width:12; stroke-opacity:1; fill:none\" points=\"\n  176.761,925.766 282.047,1113.67 387.332,878.054 492.617,978.636 597.903,1125.53 703.188,1181.46 808.473,1212.85 913.758,1000.69 1019.04,1382.29 1124.33,1142.93 \n  \n  \"/>\n<polyline clip-path=\"url(#clip624)\" style=\"stroke:#e26f46; stroke-width:12; stroke-opacity:1; fill:none\" points=\"\n  176.761,1325.01 282.047,1301.47 387.332,1377.51 492.617,911.146 597.903,1316 703.188,1333.21 808.473,1091.7 913.758,1407.06 1019.04,1071.74 1124.33,1147.62 \n  \n  \"/>\n<polyline clip-path=\"url(#clip624)\" style=\"stroke:#3da44d; stroke-width:12; stroke-opacity:1; fill:none\" points=\"\n  176.761,1376.1 282.047,1092.14 387.332,955.489 492.617,1025.59 597.903,1212.51 703.188,1183.55 808.473,881.046 913.758,1380.34 1019.04,1238.92 1124.33,1238.41 \n  \n  \"/>\n<polyline clip-path=\"url(#clip624)\" style=\"stroke:#c271d2; stroke-width:12; stroke-opacity:1; fill:none\" points=\"\n  176.761,1363.59 282.047,1219.77 387.332,1391.4 492.617,923.848 597.903,905.15 703.188,869.841 808.473,1185.69 913.758,1331.36 1019.04,1210.07 1124.33,1243.88 \n  \n  \"/>\n<path clip-path=\"url(#clip620)\" d=\"\nM1348.33 1423.18 L2352.76 1423.18 L2352.76 853.724 L1348.33 853.724  Z\n  \" fill=\"#ffffff\" fill-rule=\"evenodd\" fill-opacity=\"1\"/>\n<defs>\n  <clipPath id=\"clip625\">\n    <rect x=\"1348\" y=\"853\" width=\"1005\" height=\"570\"/>\n  </clipPath>\n</defs>\n<polyline clip-path=\"url(#clip625)\" style=\"stroke:#000000; stroke-width:2; stroke-opacity:0.1; fill:none\" points=\"\n  1403.58,1423.18 1403.58,853.724 \n  \"/>\n<polyline clip-path=\"url(#clip625)\" style=\"stroke:#000000; stroke-width:2; stroke-opacity:0.1; fill:none\" points=\"\n  1627.06,1423.18 1627.06,853.724 \n  \"/>\n<polyline clip-path=\"url(#clip625)\" style=\"stroke:#000000; stroke-width:2; stroke-opacity:0.1; fill:none\" points=\"\n  1850.55,1423.18 1850.55,853.724 \n  \"/>\n<polyline clip-path=\"url(#clip625)\" style=\"stroke:#000000; stroke-width:2; stroke-opacity:0.1; fill:none\" points=\"\n  2074.03,1423.18 2074.03,853.724 \n  \"/>\n<polyline clip-path=\"url(#clip625)\" style=\"stroke:#000000; stroke-width:2; stroke-opacity:0.1; fill:none\" points=\"\n  2297.51,1423.18 2297.51,853.724 \n  \"/>\n<polyline clip-path=\"url(#clip625)\" style=\"stroke:#000000; stroke-width:2; stroke-opacity:0.1; fill:none\" points=\"\n  1348.33,1407.06 2352.76,1407.06 \n  \"/>\n<polyline clip-path=\"url(#clip625)\" style=\"stroke:#000000; stroke-width:2; stroke-opacity:0.1; fill:none\" points=\"\n  1348.33,1253.57 2352.76,1253.57 \n  \"/>\n<polyline clip-path=\"url(#clip625)\" style=\"stroke:#000000; stroke-width:2; stroke-opacity:0.1; fill:none\" points=\"\n  1348.33,1100.08 2352.76,1100.08 \n  \"/>\n<polyline clip-path=\"url(#clip625)\" style=\"stroke:#000000; stroke-width:2; stroke-opacity:0.1; fill:none\" points=\"\n  1348.33,946.587 2352.76,946.587 \n  \"/>\n<polyline clip-path=\"url(#clip620)\" style=\"stroke:#000000; stroke-width:4; stroke-opacity:1; fill:none\" points=\"\n  1348.33,1423.18 2352.76,1423.18 \n  \"/>\n<polyline clip-path=\"url(#clip620)\" style=\"stroke:#000000; stroke-width:4; stroke-opacity:1; fill:none\" points=\"\n  1348.33,1423.18 1348.33,853.724 \n  \"/>\n<polyline clip-path=\"url(#clip620)\" style=\"stroke:#000000; stroke-width:4; stroke-opacity:1; fill:none\" points=\"\n  1403.58,1423.18 1403.58,1416.35 \n  \"/>\n<polyline clip-path=\"url(#clip620)\" style=\"stroke:#000000; stroke-width:4; stroke-opacity:1; fill:none\" points=\"\n  1627.06,1423.18 1627.06,1416.35 \n  \"/>\n<polyline clip-path=\"url(#clip620)\" style=\"stroke:#000000; stroke-width:4; stroke-opacity:1; fill:none\" points=\"\n  1850.55,1423.18 1850.55,1416.35 \n  \"/>\n<polyline clip-path=\"url(#clip620)\" style=\"stroke:#000000; stroke-width:4; stroke-opacity:1; fill:none\" points=\"\n  2074.03,1423.18 2074.03,1416.35 \n  \"/>\n<polyline clip-path=\"url(#clip620)\" style=\"stroke:#000000; stroke-width:4; stroke-opacity:1; fill:none\" points=\"\n  2297.51,1423.18 2297.51,1416.35 \n  \"/>\n<polyline clip-path=\"url(#clip620)\" style=\"stroke:#000000; stroke-width:4; stroke-opacity:1; fill:none\" points=\"\n  1348.33,1407.06 1360.39,1407.06 \n  \"/>\n<polyline clip-path=\"url(#clip620)\" style=\"stroke:#000000; stroke-width:4; stroke-opacity:1; fill:none\" points=\"\n  1348.33,1253.57 1360.39,1253.57 \n  \"/>\n<polyline clip-path=\"url(#clip620)\" style=\"stroke:#000000; stroke-width:4; stroke-opacity:1; fill:none\" points=\"\n  1348.33,1100.08 1360.39,1100.08 \n  \"/>\n<polyline clip-path=\"url(#clip620)\" style=\"stroke:#000000; stroke-width:4; stroke-opacity:1; fill:none\" points=\"\n  1348.33,946.587 1360.39,946.587 \n  \"/>\n<path clip-path=\"url(#clip620)\" d=\"M 0 0 M1371.59 1445.17 Q1367.98 1445.17 1366.15 1448.74 Q1364.34 1452.28 1364.34 1459.41 Q1364.34 1466.51 1366.15 1470.08 Q1367.98 1473.62 1371.59 1473.62 Q1375.22 1473.62 1377.03 1470.08 Q1378.86 1466.51 1378.86 1459.41 Q1378.86 1452.28 1377.03 1448.74 Q1375.22 1445.17 1371.59 1445.17 M1371.59 1441.47 Q1377.4 1441.47 1380.45 1446.07 Q1383.53 1450.66 1383.53 1459.41 Q1383.53 1468.13 1380.45 1472.74 Q1377.4 1477.32 1371.59 1477.32 Q1365.78 1477.32 1362.7 1472.74 Q1359.64 1468.13 1359.64 1459.41 Q1359.64 1450.66 1362.7 1446.07 Q1365.78 1441.47 1371.59 1441.47 Z\" fill=\"#000000\" fill-rule=\"evenodd\" fill-opacity=\"1\" /><path clip-path=\"url(#clip620)\" d=\"M 0 0 M1388.6 1470.77 L1393.49 1470.77 L1393.49 1476.65 L1388.6 1476.65 L1388.6 1470.77 Z\" fill=\"#000000\" fill-rule=\"evenodd\" fill-opacity=\"1\" /><path clip-path=\"url(#clip620)\" d=\"M 0 0 M1408.56 1445.17 Q1404.95 1445.17 1403.12 1448.74 Q1401.31 1452.28 1401.31 1459.41 Q1401.31 1466.51 1403.12 1470.08 Q1404.95 1473.62 1408.56 1473.62 Q1412.19 1473.62 1414 1470.08 Q1415.82 1466.51 1415.82 1459.41 Q1415.82 1452.28 1414 1448.74 Q1412.19 1445.17 1408.56 1445.17 M1408.56 1441.47 Q1414.37 1441.47 1417.42 1446.07 Q1420.5 1450.66 1420.5 1459.41 Q1420.5 1468.13 1417.42 1472.74 Q1414.37 1477.32 1408.56 1477.32 Q1402.75 1477.32 1399.67 1472.74 Q1396.61 1468.13 1396.61 1459.41 Q1396.61 1450.66 1399.67 1446.07 Q1402.75 1441.47 1408.56 1441.47 Z\" fill=\"#000000\" fill-rule=\"evenodd\" fill-opacity=\"1\" /><path clip-path=\"url(#clip620)\" d=\"M 0 0 M1435.57 1445.17 Q1431.96 1445.17 1430.13 1448.74 Q1428.32 1452.28 1428.32 1459.41 Q1428.32 1466.51 1430.13 1470.08 Q1431.96 1473.62 1435.57 1473.62 Q1439.2 1473.62 1441.01 1470.08 Q1442.84 1466.51 1442.84 1459.41 Q1442.84 1452.28 1441.01 1448.74 Q1439.2 1445.17 1435.57 1445.17 M1435.57 1441.47 Q1441.38 1441.47 1444.44 1446.07 Q1447.51 1450.66 1447.51 1459.41 Q1447.51 1468.13 1444.44 1472.74 Q1441.38 1477.32 1435.57 1477.32 Q1429.76 1477.32 1426.68 1472.74 Q1423.63 1468.13 1423.63 1459.41 Q1423.63 1450.66 1426.68 1446.07 Q1429.76 1441.47 1435.57 1441.47 Z\" fill=\"#000000\" fill-rule=\"evenodd\" fill-opacity=\"1\" /><path clip-path=\"url(#clip620)\" d=\"M 0 0 M1596.37 1445.17 Q1592.76 1445.17 1590.93 1448.74 Q1589.12 1452.28 1589.12 1459.41 Q1589.12 1466.51 1590.93 1470.08 Q1592.76 1473.62 1596.37 1473.62 Q1600 1473.62 1601.81 1470.08 Q1603.64 1466.51 1603.64 1459.41 Q1603.64 1452.28 1601.81 1448.74 Q1600 1445.17 1596.37 1445.17 M1596.37 1441.47 Q1602.18 1441.47 1605.23 1446.07 Q1608.31 1450.66 1608.31 1459.41 Q1608.31 1468.13 1605.23 1472.74 Q1602.18 1477.32 1596.37 1477.32 Q1590.56 1477.32 1587.48 1472.74 Q1584.42 1468.13 1584.42 1459.41 Q1584.42 1450.66 1587.48 1446.07 Q1590.56 1441.47 1596.37 1441.47 Z\" fill=\"#000000\" fill-rule=\"evenodd\" fill-opacity=\"1\" /><path clip-path=\"url(#clip620)\" d=\"M 0 0 M1613.38 1470.77 L1618.27 1470.77 L1618.27 1476.65 L1613.38 1476.65 L1613.38 1470.77 Z\" fill=\"#000000\" fill-rule=\"evenodd\" fill-opacity=\"1\" /><path clip-path=\"url(#clip620)\" d=\"M 0 0 M1627.36 1472.72 L1643.68 1472.72 L1643.68 1476.65 L1621.74 1476.65 L1621.74 1472.72 Q1624.4 1469.96 1628.98 1465.33 Q1633.59 1460.68 1634.77 1459.34 Q1637.02 1456.81 1637.9 1455.08 Q1638.8 1453.32 1638.8 1451.63 Q1638.8 1448.87 1636.85 1447.14 Q1634.93 1445.4 1631.83 1445.4 Q1629.63 1445.4 1627.18 1446.17 Q1624.75 1446.93 1621.97 1448.48 L1621.97 1443.76 Q1624.79 1442.62 1627.25 1442.05 Q1629.7 1441.47 1631.74 1441.47 Q1637.11 1441.47 1640.3 1444.15 Q1643.5 1446.84 1643.5 1451.33 Q1643.5 1453.46 1642.69 1455.38 Q1641.9 1457.28 1639.79 1459.87 Q1639.21 1460.54 1636.11 1463.76 Q1633.01 1466.95 1627.36 1472.72 Z\" fill=\"#000000\" fill-rule=\"evenodd\" fill-opacity=\"1\" /><path clip-path=\"url(#clip620)\" d=\"M 0 0 M1648.8 1442.09 L1667.15 1442.09 L1667.15 1446.03 L1653.08 1446.03 L1653.08 1454.5 Q1654.1 1454.15 1655.12 1453.99 Q1656.14 1453.8 1657.15 1453.8 Q1662.94 1453.8 1666.32 1456.98 Q1669.7 1460.15 1669.7 1465.56 Q1669.7 1471.14 1666.23 1474.24 Q1662.76 1477.32 1656.44 1477.32 Q1654.26 1477.32 1651.99 1476.95 Q1649.75 1476.58 1647.34 1475.84 L1647.34 1471.14 Q1649.42 1472.28 1651.65 1472.83 Q1653.87 1473.39 1656.34 1473.39 Q1660.35 1473.39 1662.69 1471.28 Q1665.03 1469.18 1665.03 1465.56 Q1665.03 1461.95 1662.69 1459.85 Q1660.35 1457.74 1656.34 1457.74 Q1654.47 1457.74 1652.59 1458.16 Q1650.74 1458.57 1648.8 1459.45 L1648.8 1442.09 Z\" fill=\"#000000\" fill-rule=\"evenodd\" fill-opacity=\"1\" /><path clip-path=\"url(#clip620)\" d=\"M 0 0 M1819.05 1445.17 Q1815.44 1445.17 1813.61 1448.74 Q1811.81 1452.28 1811.81 1459.41 Q1811.81 1466.51 1813.61 1470.08 Q1815.44 1473.62 1819.05 1473.62 Q1822.69 1473.62 1824.49 1470.08 Q1826.32 1466.51 1826.32 1459.41 Q1826.32 1452.28 1824.49 1448.74 Q1822.69 1445.17 1819.05 1445.17 M1819.05 1441.47 Q1824.86 1441.47 1827.92 1446.07 Q1831 1450.66 1831 1459.41 Q1831 1468.13 1827.92 1472.74 Q1824.86 1477.32 1819.05 1477.32 Q1813.24 1477.32 1810.16 1472.74 Q1807.11 1468.13 1807.11 1459.41 Q1807.11 1450.66 1810.16 1446.07 Q1813.24 1441.47 1819.05 1441.47 Z\" fill=\"#000000\" fill-rule=\"evenodd\" fill-opacity=\"1\" /><path clip-path=\"url(#clip620)\" d=\"M 0 0 M1836.07 1470.77 L1840.95 1470.77 L1840.95 1476.65 L1836.07 1476.65 L1836.07 1470.77 Z\" fill=\"#000000\" fill-rule=\"evenodd\" fill-opacity=\"1\" /><path clip-path=\"url(#clip620)\" d=\"M 0 0 M1846.07 1442.09 L1864.42 1442.09 L1864.42 1446.03 L1850.35 1446.03 L1850.35 1454.5 Q1851.37 1454.15 1852.39 1453.99 Q1853.4 1453.8 1854.42 1453.8 Q1860.21 1453.8 1863.59 1456.98 Q1866.97 1460.15 1866.97 1465.56 Q1866.97 1471.14 1863.5 1474.24 Q1860.02 1477.32 1853.7 1477.32 Q1851.53 1477.32 1849.26 1476.95 Q1847.02 1476.58 1844.61 1475.84 L1844.61 1471.14 Q1846.69 1472.28 1848.91 1472.83 Q1851.14 1473.39 1853.61 1473.39 Q1857.62 1473.39 1859.95 1471.28 Q1862.29 1469.18 1862.29 1465.56 Q1862.29 1461.95 1859.95 1459.85 Q1857.62 1457.74 1853.61 1457.74 Q1851.74 1457.74 1849.86 1458.16 Q1848.01 1458.57 1846.07 1459.45 L1846.07 1442.09 Z\" fill=\"#000000\" fill-rule=\"evenodd\" fill-opacity=\"1\" /><path clip-path=\"url(#clip620)\" d=\"M 0 0 M1882.04 1445.17 Q1878.43 1445.17 1876.6 1448.74 Q1874.79 1452.28 1874.79 1459.41 Q1874.79 1466.51 1876.6 1470.08 Q1878.43 1473.62 1882.04 1473.62 Q1885.67 1473.62 1887.48 1470.08 Q1889.31 1466.51 1889.31 1459.41 Q1889.31 1452.28 1887.48 1448.74 Q1885.67 1445.17 1882.04 1445.17 M1882.04 1441.47 Q1887.85 1441.47 1890.9 1446.07 Q1893.98 1450.66 1893.98 1459.41 Q1893.98 1468.13 1890.9 1472.74 Q1887.85 1477.32 1882.04 1477.32 Q1876.23 1477.32 1873.15 1472.74 Q1870.09 1468.13 1870.09 1459.41 Q1870.09 1450.66 1873.15 1446.07 Q1876.23 1441.47 1882.04 1441.47 Z\" fill=\"#000000\" fill-rule=\"evenodd\" fill-opacity=\"1\" /><path clip-path=\"url(#clip620)\" d=\"M 0 0 M2042.99 1445.17 Q2039.38 1445.17 2037.55 1448.74 Q2035.74 1452.28 2035.74 1459.41 Q2035.74 1466.51 2037.55 1470.08 Q2039.38 1473.62 2042.99 1473.62 Q2046.62 1473.62 2048.43 1470.08 Q2050.26 1466.51 2050.26 1459.41 Q2050.26 1452.28 2048.43 1448.74 Q2046.62 1445.17 2042.99 1445.17 M2042.99 1441.47 Q2048.8 1441.47 2051.85 1446.07 Q2054.93 1450.66 2054.93 1459.41 Q2054.93 1468.13 2051.85 1472.74 Q2048.8 1477.32 2042.99 1477.32 Q2037.18 1477.32 2034.1 1472.74 Q2031.04 1468.13 2031.04 1459.41 Q2031.04 1450.66 2034.1 1446.07 Q2037.18 1441.47 2042.99 1441.47 Z\" fill=\"#000000\" fill-rule=\"evenodd\" fill-opacity=\"1\" /><path clip-path=\"url(#clip620)\" d=\"M 0 0 M2060 1470.77 L2064.88 1470.77 L2064.88 1476.65 L2060 1476.65 L2060 1470.77 Z\" fill=\"#000000\" fill-rule=\"evenodd\" fill-opacity=\"1\" /><path clip-path=\"url(#clip620)\" d=\"M 0 0 M2068.77 1442.09 L2091 1442.09 L2091 1444.08 L2078.45 1476.65 L2073.57 1476.65 L2085.37 1446.03 L2068.77 1446.03 L2068.77 1442.09 Z\" fill=\"#000000\" fill-rule=\"evenodd\" fill-opacity=\"1\" /><path clip-path=\"url(#clip620)\" d=\"M 0 0 M2096.11 1442.09 L2114.47 1442.09 L2114.47 1446.03 L2100.39 1446.03 L2100.39 1454.5 Q2101.41 1454.15 2102.43 1453.99 Q2103.45 1453.8 2104.47 1453.8 Q2110.25 1453.8 2113.63 1456.98 Q2117.01 1460.15 2117.01 1465.56 Q2117.01 1471.14 2113.54 1474.24 Q2110.07 1477.32 2103.75 1477.32 Q2101.57 1477.32 2099.31 1476.95 Q2097.06 1476.58 2094.65 1475.84 L2094.65 1471.14 Q2096.74 1472.28 2098.96 1472.83 Q2101.18 1473.39 2103.66 1473.39 Q2107.66 1473.39 2110 1471.28 Q2112.34 1469.18 2112.34 1465.56 Q2112.34 1461.95 2110 1459.85 Q2107.66 1457.74 2103.66 1457.74 Q2101.78 1457.74 2099.91 1458.16 Q2098.06 1458.57 2096.11 1459.45 L2096.11 1442.09 Z\" fill=\"#000000\" fill-rule=\"evenodd\" fill-opacity=\"1\" /><path clip-path=\"url(#clip620)\" d=\"M 0 0 M2255.9 1472.72 L2263.54 1472.72 L2263.54 1446.35 L2255.23 1448.02 L2255.23 1443.76 L2263.49 1442.09 L2268.17 1442.09 L2268.17 1472.72 L2275.81 1472.72 L2275.81 1476.65 L2255.9 1476.65 L2255.9 1472.72 Z\" fill=\"#000000\" fill-rule=\"evenodd\" fill-opacity=\"1\" /><path clip-path=\"url(#clip620)\" d=\"M 0 0 M2280.88 1470.77 L2285.76 1470.77 L2285.76 1476.65 L2280.88 1476.65 L2280.88 1470.77 Z\" fill=\"#000000\" fill-rule=\"evenodd\" fill-opacity=\"1\" /><path clip-path=\"url(#clip620)\" d=\"M 0 0 M2300.83 1445.17 Q2297.22 1445.17 2295.39 1448.74 Q2293.59 1452.28 2293.59 1459.41 Q2293.59 1466.51 2295.39 1470.08 Q2297.22 1473.62 2300.83 1473.62 Q2304.47 1473.62 2306.27 1470.08 Q2308.1 1466.51 2308.1 1459.41 Q2308.1 1452.28 2306.27 1448.74 Q2304.47 1445.17 2300.83 1445.17 M2300.83 1441.47 Q2306.64 1441.47 2309.7 1446.07 Q2312.78 1450.66 2312.78 1459.41 Q2312.78 1468.13 2309.7 1472.74 Q2306.64 1477.32 2300.83 1477.32 Q2295.02 1477.32 2291.94 1472.74 Q2288.89 1468.13 2288.89 1459.41 Q2288.89 1450.66 2291.94 1446.07 Q2295.02 1441.47 2300.83 1441.47 Z\" fill=\"#000000\" fill-rule=\"evenodd\" fill-opacity=\"1\" /><path clip-path=\"url(#clip620)\" d=\"M 0 0 M2327.85 1445.17 Q2324.24 1445.17 2322.41 1448.74 Q2320.6 1452.28 2320.6 1459.41 Q2320.6 1466.51 2322.41 1470.08 Q2324.24 1473.62 2327.85 1473.62 Q2331.48 1473.62 2333.29 1470.08 Q2335.11 1466.51 2335.11 1459.41 Q2335.11 1452.28 2333.29 1448.74 Q2331.48 1445.17 2327.85 1445.17 M2327.85 1441.47 Q2333.66 1441.47 2336.71 1446.07 Q2339.79 1450.66 2339.79 1459.41 Q2339.79 1468.13 2336.71 1472.74 Q2333.66 1477.32 2327.85 1477.32 Q2322.04 1477.32 2318.96 1472.74 Q2315.9 1468.13 2315.9 1459.41 Q2315.9 1450.66 2318.96 1446.07 Q2322.04 1441.47 2327.85 1441.47 Z\" fill=\"#000000\" fill-rule=\"evenodd\" fill-opacity=\"1\" /><path clip-path=\"url(#clip620)\" d=\"M 0 0 M1312.39 1392.86 Q1308.78 1392.86 1306.95 1396.43 Q1305.14 1399.97 1305.14 1407.1 Q1305.14 1414.2 1306.95 1417.77 Q1308.78 1421.31 1312.39 1421.31 Q1316.02 1421.31 1317.83 1417.77 Q1319.66 1414.2 1319.66 1407.1 Q1319.66 1399.97 1317.83 1396.43 Q1316.02 1392.86 1312.39 1392.86 M1312.39 1389.16 Q1318.2 1389.16 1321.26 1393.76 Q1324.33 1398.35 1324.33 1407.1 Q1324.33 1415.82 1321.26 1420.43 Q1318.2 1425.01 1312.39 1425.01 Q1306.58 1425.01 1303.5 1420.43 Q1300.45 1415.82 1300.45 1407.1 Q1300.45 1398.35 1303.5 1393.76 Q1306.58 1389.16 1312.39 1389.16 Z\" fill=\"#000000\" fill-rule=\"evenodd\" fill-opacity=\"1\" /><path clip-path=\"url(#clip620)\" d=\"M 0 0 M1308.02 1266.92 L1324.33 1266.92 L1324.33 1270.85 L1302.39 1270.85 L1302.39 1266.92 Q1305.05 1264.16 1309.64 1259.53 Q1314.24 1254.88 1315.42 1253.54 Q1317.67 1251.01 1318.55 1249.28 Q1319.45 1247.52 1319.45 1245.83 Q1319.45 1243.07 1317.51 1241.34 Q1315.58 1239.6 1312.48 1239.6 Q1310.28 1239.6 1307.83 1240.37 Q1305.4 1241.13 1302.62 1242.68 L1302.62 1237.96 Q1305.45 1236.82 1307.9 1236.24 Q1310.35 1235.67 1312.39 1235.67 Q1317.76 1235.67 1320.95 1238.35 Q1324.15 1241.04 1324.15 1245.53 Q1324.15 1247.66 1323.34 1249.58 Q1322.55 1251.48 1320.45 1254.07 Q1319.87 1254.74 1316.76 1257.96 Q1313.66 1261.15 1308.02 1266.92 Z\" fill=\"#000000\" fill-rule=\"evenodd\" fill-opacity=\"1\" /><path clip-path=\"url(#clip620)\" d=\"M 0 0 M1314.75 1086.87 L1302.95 1105.32 L1314.75 1105.32 L1314.75 1086.87 M1313.52 1082.8 L1319.4 1082.8 L1319.4 1105.32 L1324.33 1105.32 L1324.33 1109.21 L1319.4 1109.21 L1319.4 1117.36 L1314.75 1117.36 L1314.75 1109.21 L1299.15 1109.21 L1299.15 1104.7 L1313.52 1082.8 Z\" fill=\"#000000\" fill-rule=\"evenodd\" fill-opacity=\"1\" /><path clip-path=\"url(#clip620)\" d=\"M 0 0 M1312.81 944.723 Q1309.66 944.723 1307.81 946.876 Q1305.98 949.029 1305.98 952.779 Q1305.98 956.506 1307.81 958.682 Q1309.66 960.834 1312.81 960.834 Q1315.95 960.834 1317.78 958.682 Q1319.64 956.506 1319.64 952.779 Q1319.64 949.029 1317.78 946.876 Q1315.95 944.723 1312.81 944.723 M1322.09 930.071 L1322.09 934.33 Q1320.33 933.497 1318.52 933.057 Q1316.74 932.617 1314.98 932.617 Q1310.35 932.617 1307.9 935.742 Q1305.47 938.867 1305.12 945.186 Q1306.49 943.172 1308.55 942.108 Q1310.61 941.02 1313.08 941.02 Q1318.29 941.02 1321.3 944.191 Q1324.33 947.339 1324.33 952.779 Q1324.33 958.103 1321.19 961.321 Q1318.04 964.538 1312.81 964.538 Q1306.81 964.538 1303.64 959.955 Q1300.47 955.348 1300.47 946.622 Q1300.47 938.427 1304.36 933.566 Q1308.25 928.682 1314.8 928.682 Q1316.56 928.682 1318.34 929.029 Q1320.14 929.376 1322.09 930.071 Z\" fill=\"#000000\" fill-rule=\"evenodd\" fill-opacity=\"1\" /><path clip-path=\"url(#clip625)\" d=\"\nM1403.58 1176.82 L1403.58 1407.06 L1850.55 1407.06 L1850.55 1176.82 L1403.58 1176.82 L1403.58 1176.82  Z\n  \" fill=\"#009af9\" fill-rule=\"evenodd\" fill-opacity=\"1\"/>\n<polyline clip-path=\"url(#clip625)\" style=\"stroke:#000000; stroke-width:4; stroke-opacity:1; fill:none\" points=\"\n  1403.58,1176.82 1403.58,1407.06 1850.55,1407.06 1850.55,1176.82 1403.58,1176.82 \n  \"/>\n<path clip-path=\"url(#clip625)\" d=\"\nM1850.55 869.841 L1850.55 1407.06 L2297.51 1407.06 L2297.51 869.841 L1850.55 869.841 L1850.55 869.841  Z\n  \" fill=\"#009af9\" fill-rule=\"evenodd\" fill-opacity=\"1\"/>\n<polyline clip-path=\"url(#clip625)\" style=\"stroke:#000000; stroke-width:4; stroke-opacity:1; fill:none\" points=\"\n  1850.55,869.841 1850.55,1407.06 2297.51,1407.06 2297.51,869.841 1850.55,869.841 \n  \"/>\n<path clip-path=\"url(#clip625)\" d=\"\nM1403.58 946.587 L1403.58 1407.06 L1850.55 1407.06 L1850.55 946.587 L1403.58 946.587 L1403.58 946.587  Z\n  \" fill=\"#e26f46\" fill-rule=\"evenodd\" fill-opacity=\"1\"/>\n<polyline clip-path=\"url(#clip625)\" style=\"stroke:#000000; stroke-width:4; stroke-opacity:1; fill:none\" points=\"\n  1403.58,946.587 1403.58,1407.06 1850.55,1407.06 1850.55,946.587 1403.58,946.587 \n  \"/>\n<path clip-path=\"url(#clip625)\" d=\"\nM1850.55 1100.08 L1850.55 1407.06 L2297.51 1407.06 L2297.51 1100.08 L1850.55 1100.08 L1850.55 1100.08  Z\n  \" fill=\"#e26f46\" fill-rule=\"evenodd\" fill-opacity=\"1\"/>\n<polyline clip-path=\"url(#clip625)\" style=\"stroke:#000000; stroke-width:4; stroke-opacity:1; fill:none\" points=\"\n  1850.55,1100.08 1850.55,1407.06 2297.51,1407.06 2297.51,1100.08 1850.55,1100.08 \n  \"/>\n<path clip-path=\"url(#clip625)\" d=\"\nM1403.58 946.587 L1403.58 1407.06 L1850.55 1407.06 L1850.55 946.587 L1403.58 946.587 L1403.58 946.587  Z\n  \" fill=\"#3da44d\" fill-rule=\"evenodd\" fill-opacity=\"1\"/>\n<polyline clip-path=\"url(#clip625)\" style=\"stroke:#000000; stroke-width:4; stroke-opacity:1; fill:none\" points=\"\n  1403.58,946.587 1403.58,1407.06 1850.55,1407.06 1850.55,946.587 1403.58,946.587 \n  \"/>\n<path clip-path=\"url(#clip625)\" d=\"\nM1850.55 1100.08 L1850.55 1407.06 L2297.51 1407.06 L2297.51 1100.08 L1850.55 1100.08 L1850.55 1100.08  Z\n  \" fill=\"#3da44d\" fill-rule=\"evenodd\" fill-opacity=\"1\"/>\n<polyline clip-path=\"url(#clip625)\" style=\"stroke:#000000; stroke-width:4; stroke-opacity:1; fill:none\" points=\"\n  1850.55,1100.08 1850.55,1407.06 2297.51,1407.06 2297.51,1100.08 1850.55,1100.08 \n  \"/>\n<path clip-path=\"url(#clip625)\" d=\"\nM1403.58 869.841 L1403.58 1407.06 L1850.55 1407.06 L1850.55 869.841 L1403.58 869.841 L1403.58 869.841  Z\n  \" fill=\"#c271d2\" fill-rule=\"evenodd\" fill-opacity=\"1\"/>\n<polyline clip-path=\"url(#clip625)\" style=\"stroke:#000000; stroke-width:4; stroke-opacity:1; fill:none\" points=\"\n  1403.58,869.841 1403.58,1407.06 1850.55,1407.06 1850.55,869.841 1403.58,869.841 \n  \"/>\n<path clip-path=\"url(#clip625)\" d=\"\nM1850.55 1176.82 L1850.55 1407.06 L2297.51 1407.06 L2297.51 1176.82 L1850.55 1176.82 L1850.55 1176.82  Z\n  \" fill=\"#c271d2\" fill-rule=\"evenodd\" fill-opacity=\"1\"/>\n<polyline clip-path=\"url(#clip625)\" style=\"stroke:#000000; stroke-width:4; stroke-opacity:1; fill:none\" points=\"\n  1850.55,1176.82 1850.55,1407.06 2297.51,1407.06 2297.51,1176.82 1850.55,1176.82 \n  \"/>\n</svg>\n"
          },
          "metadata": {
            "tags": []
          },
          "execution_count": 9
        }
      ]
    }
  ]
}